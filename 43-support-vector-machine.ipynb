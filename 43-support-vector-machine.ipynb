{
 "cells": [
  {
   "attachments": {},
   "cell_type": "markdown",
   "id": "320e125f",
   "metadata": {},
   "source": [
    "# Support Vector Machine"
   ]
  },
  {
   "attachments": {},
   "cell_type": "markdown",
   "id": "fec3040c",
   "metadata": {},
   "source": [
    "## Load Packages and Prep Data"
   ]
  },
  {
   "cell_type": "code",
   "execution_count": 57,
   "id": "ef1fb5bd",
   "metadata": {},
   "outputs": [],
   "source": [
    "# import needed packages\n",
    "import numpy as np\n",
    "import pandas as pd\n",
    "import seaborn as sns\n",
    "import matplotlib.pyplot as plt\n",
    "\n",
    "from sklearn.model_selection import cross_val_score, GridSearchCV\n",
    "from sklearn.svm import SVC\n",
    "from sklearn.linear_model import Lasso\n",
    "from sklearn.feature_selection import RFECV\n",
    "from sklearn.metrics import accuracy_score, f1_score,recall_score,precision_score, confusion_matrix"
   ]
  },
  {
   "cell_type": "code",
   "execution_count": 46,
   "id": "d5fe29de",
   "metadata": {},
   "outputs": [
    {
     "name": "stdout",
     "output_type": "stream",
     "text": [
      "\u001b[0;31mInit signature:\u001b[0m\n",
      "\u001b[0mSVC\u001b[0m\u001b[0;34m(\u001b[0m\u001b[0;34m\u001b[0m\n",
      "\u001b[0;34m\u001b[0m    \u001b[0;34m*\u001b[0m\u001b[0;34m,\u001b[0m\u001b[0;34m\u001b[0m\n",
      "\u001b[0;34m\u001b[0m    \u001b[0mC\u001b[0m\u001b[0;34m=\u001b[0m\u001b[0;36m1.0\u001b[0m\u001b[0;34m,\u001b[0m\u001b[0;34m\u001b[0m\n",
      "\u001b[0;34m\u001b[0m    \u001b[0mkernel\u001b[0m\u001b[0;34m=\u001b[0m\u001b[0;34m'rbf'\u001b[0m\u001b[0;34m,\u001b[0m\u001b[0;34m\u001b[0m\n",
      "\u001b[0;34m\u001b[0m    \u001b[0mdegree\u001b[0m\u001b[0;34m=\u001b[0m\u001b[0;36m3\u001b[0m\u001b[0;34m,\u001b[0m\u001b[0;34m\u001b[0m\n",
      "\u001b[0;34m\u001b[0m    \u001b[0mgamma\u001b[0m\u001b[0;34m=\u001b[0m\u001b[0;34m'scale'\u001b[0m\u001b[0;34m,\u001b[0m\u001b[0;34m\u001b[0m\n",
      "\u001b[0;34m\u001b[0m    \u001b[0mcoef0\u001b[0m\u001b[0;34m=\u001b[0m\u001b[0;36m0.0\u001b[0m\u001b[0;34m,\u001b[0m\u001b[0;34m\u001b[0m\n",
      "\u001b[0;34m\u001b[0m    \u001b[0mshrinking\u001b[0m\u001b[0;34m=\u001b[0m\u001b[0;32mTrue\u001b[0m\u001b[0;34m,\u001b[0m\u001b[0;34m\u001b[0m\n",
      "\u001b[0;34m\u001b[0m    \u001b[0mprobability\u001b[0m\u001b[0;34m=\u001b[0m\u001b[0;32mFalse\u001b[0m\u001b[0;34m,\u001b[0m\u001b[0;34m\u001b[0m\n",
      "\u001b[0;34m\u001b[0m    \u001b[0mtol\u001b[0m\u001b[0;34m=\u001b[0m\u001b[0;36m0.001\u001b[0m\u001b[0;34m,\u001b[0m\u001b[0;34m\u001b[0m\n",
      "\u001b[0;34m\u001b[0m    \u001b[0mcache_size\u001b[0m\u001b[0;34m=\u001b[0m\u001b[0;36m200\u001b[0m\u001b[0;34m,\u001b[0m\u001b[0;34m\u001b[0m\n",
      "\u001b[0;34m\u001b[0m    \u001b[0mclass_weight\u001b[0m\u001b[0;34m=\u001b[0m\u001b[0;32mNone\u001b[0m\u001b[0;34m,\u001b[0m\u001b[0;34m\u001b[0m\n",
      "\u001b[0;34m\u001b[0m    \u001b[0mverbose\u001b[0m\u001b[0;34m=\u001b[0m\u001b[0;32mFalse\u001b[0m\u001b[0;34m,\u001b[0m\u001b[0;34m\u001b[0m\n",
      "\u001b[0;34m\u001b[0m    \u001b[0mmax_iter\u001b[0m\u001b[0;34m=\u001b[0m\u001b[0;34m-\u001b[0m\u001b[0;36m1\u001b[0m\u001b[0;34m,\u001b[0m\u001b[0;34m\u001b[0m\n",
      "\u001b[0;34m\u001b[0m    \u001b[0mdecision_function_shape\u001b[0m\u001b[0;34m=\u001b[0m\u001b[0;34m'ovr'\u001b[0m\u001b[0;34m,\u001b[0m\u001b[0;34m\u001b[0m\n",
      "\u001b[0;34m\u001b[0m    \u001b[0mbreak_ties\u001b[0m\u001b[0;34m=\u001b[0m\u001b[0;32mFalse\u001b[0m\u001b[0;34m,\u001b[0m\u001b[0;34m\u001b[0m\n",
      "\u001b[0;34m\u001b[0m    \u001b[0mrandom_state\u001b[0m\u001b[0;34m=\u001b[0m\u001b[0;32mNone\u001b[0m\u001b[0;34m,\u001b[0m\u001b[0;34m\u001b[0m\n",
      "\u001b[0;34m\u001b[0m\u001b[0;34m)\u001b[0m\u001b[0;34m\u001b[0m\u001b[0;34m\u001b[0m\u001b[0m\n",
      "\u001b[0;31mDocstring:\u001b[0m     \n",
      "C-Support Vector Classification.\n",
      "\n",
      "The implementation is based on libsvm. The fit time scales at least\n",
      "quadratically with the number of samples and may be impractical\n",
      "beyond tens of thousands of samples. For large datasets\n",
      "consider using :class:`~sklearn.svm.LinearSVC` or\n",
      ":class:`~sklearn.linear_model.SGDClassifier` instead, possibly after a\n",
      ":class:`~sklearn.kernel_approximation.Nystroem` transformer.\n",
      "\n",
      "The multiclass support is handled according to a one-vs-one scheme.\n",
      "\n",
      "For details on the precise mathematical formulation of the provided\n",
      "kernel functions and how `gamma`, `coef0` and `degree` affect each\n",
      "other, see the corresponding section in the narrative documentation:\n",
      ":ref:`svm_kernels`.\n",
      "\n",
      "Read more in the :ref:`User Guide <svm_classification>`.\n",
      "\n",
      "Parameters\n",
      "----------\n",
      "C : float, default=1.0\n",
      "    Regularization parameter. The strength of the regularization is\n",
      "    inversely proportional to C. Must be strictly positive. The penalty\n",
      "    is a squared l2 penalty.\n",
      "\n",
      "kernel : {'linear', 'poly', 'rbf', 'sigmoid', 'precomputed'} or callable,          default='rbf'\n",
      "    Specifies the kernel type to be used in the algorithm.\n",
      "    If none is given, 'rbf' will be used. If a callable is given it is\n",
      "    used to pre-compute the kernel matrix from data matrices; that matrix\n",
      "    should be an array of shape ``(n_samples, n_samples)``.\n",
      "\n",
      "degree : int, default=3\n",
      "    Degree of the polynomial kernel function ('poly').\n",
      "    Ignored by all other kernels.\n",
      "\n",
      "gamma : {'scale', 'auto'} or float, default='scale'\n",
      "    Kernel coefficient for 'rbf', 'poly' and 'sigmoid'.\n",
      "\n",
      "    - if ``gamma='scale'`` (default) is passed then it uses\n",
      "      1 / (n_features * X.var()) as value of gamma,\n",
      "    - if 'auto', uses 1 / n_features.\n",
      "\n",
      "    .. versionchanged:: 0.22\n",
      "       The default value of ``gamma`` changed from 'auto' to 'scale'.\n",
      "\n",
      "coef0 : float, default=0.0\n",
      "    Independent term in kernel function.\n",
      "    It is only significant in 'poly' and 'sigmoid'.\n",
      "\n",
      "shrinking : bool, default=True\n",
      "    Whether to use the shrinking heuristic.\n",
      "    See the :ref:`User Guide <shrinking_svm>`.\n",
      "\n",
      "probability : bool, default=False\n",
      "    Whether to enable probability estimates. This must be enabled prior\n",
      "    to calling `fit`, will slow down that method as it internally uses\n",
      "    5-fold cross-validation, and `predict_proba` may be inconsistent with\n",
      "    `predict`. Read more in the :ref:`User Guide <scores_probabilities>`.\n",
      "\n",
      "tol : float, default=1e-3\n",
      "    Tolerance for stopping criterion.\n",
      "\n",
      "cache_size : float, default=200\n",
      "    Specify the size of the kernel cache (in MB).\n",
      "\n",
      "class_weight : dict or 'balanced', default=None\n",
      "    Set the parameter C of class i to class_weight[i]*C for\n",
      "    SVC. If not given, all classes are supposed to have\n",
      "    weight one.\n",
      "    The \"balanced\" mode uses the values of y to automatically adjust\n",
      "    weights inversely proportional to class frequencies in the input data\n",
      "    as ``n_samples / (n_classes * np.bincount(y))``.\n",
      "\n",
      "verbose : bool, default=False\n",
      "    Enable verbose output. Note that this setting takes advantage of a\n",
      "    per-process runtime setting in libsvm that, if enabled, may not work\n",
      "    properly in a multithreaded context.\n",
      "\n",
      "max_iter : int, default=-1\n",
      "    Hard limit on iterations within solver, or -1 for no limit.\n",
      "\n",
      "decision_function_shape : {'ovo', 'ovr'}, default='ovr'\n",
      "    Whether to return a one-vs-rest ('ovr') decision function of shape\n",
      "    (n_samples, n_classes) as all other classifiers, or the original\n",
      "    one-vs-one ('ovo') decision function of libsvm which has shape\n",
      "    (n_samples, n_classes * (n_classes - 1) / 2). However, note that\n",
      "    internally, one-vs-one ('ovo') is always used as a multi-class strategy\n",
      "    to train models; an ovr matrix is only constructed from the ovo matrix.\n",
      "    The parameter is ignored for binary classification.\n",
      "\n",
      "    .. versionchanged:: 0.19\n",
      "        decision_function_shape is 'ovr' by default.\n",
      "\n",
      "    .. versionadded:: 0.17\n",
      "       *decision_function_shape='ovr'* is recommended.\n",
      "\n",
      "    .. versionchanged:: 0.17\n",
      "       Deprecated *decision_function_shape='ovo' and None*.\n",
      "\n",
      "break_ties : bool, default=False\n",
      "    If true, ``decision_function_shape='ovr'``, and number of classes > 2,\n",
      "    :term:`predict` will break ties according to the confidence values of\n",
      "    :term:`decision_function`; otherwise the first class among the tied\n",
      "    classes is returned. Please note that breaking ties comes at a\n",
      "    relatively high computational cost compared to a simple predict.\n",
      "\n",
      "    .. versionadded:: 0.22\n",
      "\n",
      "random_state : int, RandomState instance or None, default=None\n",
      "    Controls the pseudo random number generation for shuffling the data for\n",
      "    probability estimates. Ignored when `probability` is False.\n",
      "    Pass an int for reproducible output across multiple function calls.\n",
      "    See :term:`Glossary <random_state>`.\n",
      "\n",
      "Attributes\n",
      "----------\n",
      "class_weight_ : ndarray of shape (n_classes,)\n",
      "    Multipliers of parameter C for each class.\n",
      "    Computed based on the ``class_weight`` parameter.\n",
      "\n",
      "classes_ : ndarray of shape (n_classes,)\n",
      "    The classes labels.\n",
      "\n",
      "coef_ : ndarray of shape (n_classes * (n_classes - 1) / 2, n_features)\n",
      "    Weights assigned to the features (coefficients in the primal\n",
      "    problem). This is only available in the case of a linear kernel.\n",
      "\n",
      "    `coef_` is a readonly property derived from `dual_coef_` and\n",
      "    `support_vectors_`.\n",
      "\n",
      "dual_coef_ : ndarray of shape (n_classes -1, n_SV)\n",
      "    Dual coefficients of the support vector in the decision\n",
      "    function (see :ref:`sgd_mathematical_formulation`), multiplied by\n",
      "    their targets.\n",
      "    For multiclass, coefficient for all 1-vs-1 classifiers.\n",
      "    The layout of the coefficients in the multiclass case is somewhat\n",
      "    non-trivial. See the :ref:`multi-class section of the User Guide\n",
      "    <svm_multi_class>` for details.\n",
      "\n",
      "fit_status_ : int\n",
      "    0 if correctly fitted, 1 otherwise (will raise warning)\n",
      "\n",
      "intercept_ : ndarray of shape (n_classes * (n_classes - 1) / 2,)\n",
      "    Constants in decision function.\n",
      "\n",
      "n_features_in_ : int\n",
      "    Number of features seen during :term:`fit`.\n",
      "\n",
      "    .. versionadded:: 0.24\n",
      "\n",
      "feature_names_in_ : ndarray of shape (`n_features_in_`,)\n",
      "    Names of features seen during :term:`fit`. Defined only when `X`\n",
      "    has feature names that are all strings.\n",
      "\n",
      "    .. versionadded:: 1.0\n",
      "\n",
      "n_iter_ : ndarray of shape (n_classes * (n_classes - 1) // 2,)\n",
      "    Number of iterations run by the optimization routine to fit the model.\n",
      "    The shape of this attribute depends on the number of models optimized\n",
      "    which in turn depends on the number of classes.\n",
      "\n",
      "    .. versionadded:: 1.1\n",
      "\n",
      "support_ : ndarray of shape (n_SV)\n",
      "    Indices of support vectors.\n",
      "\n",
      "support_vectors_ : ndarray of shape (n_SV, n_features)\n",
      "    Support vectors.\n",
      "\n",
      "n_support_ : ndarray of shape (n_classes,), dtype=int32\n",
      "    Number of support vectors for each class.\n",
      "\n",
      "probA_ : ndarray of shape (n_classes * (n_classes - 1) / 2)\n",
      "probB_ : ndarray of shape (n_classes * (n_classes - 1) / 2)\n",
      "    If `probability=True`, it corresponds to the parameters learned in\n",
      "    Platt scaling to produce probability estimates from decision values.\n",
      "    If `probability=False`, it's an empty array. Platt scaling uses the\n",
      "    logistic function\n",
      "    ``1 / (1 + exp(decision_value * probA_ + probB_))``\n",
      "    where ``probA_`` and ``probB_`` are learned from the dataset [2]_. For\n",
      "    more information on the multiclass case and training procedure see\n",
      "    section 8 of [1]_.\n",
      "\n",
      "shape_fit_ : tuple of int of shape (n_dimensions_of_X,)\n",
      "    Array dimensions of training vector ``X``.\n",
      "\n",
      "See Also\n",
      "--------\n",
      "SVR : Support Vector Machine for Regression implemented using libsvm.\n",
      "\n",
      "LinearSVC : Scalable Linear Support Vector Machine for classification\n",
      "    implemented using liblinear. Check the See Also section of\n",
      "    LinearSVC for more comparison element.\n",
      "\n",
      "References\n",
      "----------\n",
      ".. [1] `LIBSVM: A Library for Support Vector Machines\n",
      "    <http://www.csie.ntu.edu.tw/~cjlin/papers/libsvm.pdf>`_\n",
      "\n",
      ".. [2] `Platt, John (1999). \"Probabilistic outputs for support vector\n",
      "    machines and comparison to regularizedlikelihood methods.\"\n",
      "    <http://citeseer.ist.psu.edu/viewdoc/summary?doi=10.1.1.41.1639>`_\n",
      "\n",
      "Examples\n",
      "--------\n",
      ">>> import numpy as np\n",
      ">>> from sklearn.pipeline import make_pipeline\n",
      ">>> from sklearn.preprocessing import StandardScaler\n",
      ">>> X = np.array([[-1, -1], [-2, -1], [1, 1], [2, 1]])\n",
      ">>> y = np.array([1, 1, 2, 2])\n",
      ">>> from sklearn.svm import SVC\n",
      ">>> clf = make_pipeline(StandardScaler(), SVC(gamma='auto'))\n",
      ">>> clf.fit(X, y)\n",
      "Pipeline(steps=[('standardscaler', StandardScaler()),\n",
      "                ('svc', SVC(gamma='auto'))])\n",
      "\n",
      ">>> print(clf.predict([[-0.8, -1]]))\n",
      "[1]\n",
      "\u001b[0;31mFile:\u001b[0m           ~/opt/miniconda3/lib/python3.9/site-packages/sklearn/svm/_classes.py\n",
      "\u001b[0;31mType:\u001b[0m           ABCMeta\n",
      "\u001b[0;31mSubclasses:\u001b[0m     \n"
     ]
    }
   ],
   "source": [
    "SVC?"
   ]
  },
  {
   "cell_type": "code",
   "execution_count": 33,
   "id": "e4d1f2d3",
   "metadata": {},
   "outputs": [
    {
     "name": "stdout",
     "output_type": "stream",
     "text": [
      "(62889, 46)\n",
      "(15723, 46)\n"
     ]
    }
   ],
   "source": [
    "# load data\n",
    "train_data = pd.read_csv('data/train_data_fe.csv')\n",
    "test_data = pd.read_csv('data/test_data_fe.csv')\n",
    "print(train_data.shape)\n",
    "print(test_data.shape)"
   ]
  },
  {
   "cell_type": "code",
   "execution_count": 34,
   "id": "5d890fa4",
   "metadata": {},
   "outputs": [],
   "source": [
    "# drop unneeded columns\n",
    "train_data.drop(['stone_soil', 'id', 'img_id'], axis=1, inplace = True)\n",
    "test_data.drop(['stone_soil', 'id', 'img_id'], axis=1, inplace = True)"
   ]
  },
  {
   "cell_type": "code",
   "execution_count": 35,
   "id": "ef4348ba",
   "metadata": {},
   "outputs": [],
   "source": [
    "# prep data\n",
    "y_train = train_data['stone_soil_enc']\n",
    "X_train = train_data.drop(['stone_soil_enc'], axis=1)\n",
    "y_test = test_data['stone_soil_enc']\n",
    "X_test = test_data.drop(['stone_soil_enc'], axis=1)"
   ]
  },
  {
   "cell_type": "code",
   "execution_count": 36,
   "id": "6d133741",
   "metadata": {},
   "outputs": [],
   "source": [
    "# define a function for scoring\n",
    "def pred_metrics(real, pred) -> None:\n",
    "    print(\"Accuracy:\\t{}\".format(accuracy_score(real, pred)))\n",
    "    print(\"Precision:\\t{}\".format(precision_score(real, pred)))\n",
    "    print(\"Recall:\\t\\t{}\".format(recall_score(real, pred)))\n",
    "    print(\"F1:\\t\\t{}\".format(f1_score(real, pred)))"
   ]
  },
  {
   "attachments": {},
   "cell_type": "markdown",
   "id": "8b180c2e",
   "metadata": {},
   "source": [
    "## Model 1\n",
    "- Defaults"
   ]
  },
  {
   "cell_type": "code",
   "execution_count": 37,
   "id": "72191716",
   "metadata": {},
   "outputs": [],
   "source": [
    "# fit SVM model\n",
    "svm_1 = SVC()\n",
    "x = svm_1.fit(X_train, y_train)"
   ]
  },
  {
   "cell_type": "code",
   "execution_count": 38,
   "id": "4879478c",
   "metadata": {},
   "outputs": [
    {
     "name": "stdout",
     "output_type": "stream",
     "text": [
      "[0.5392 0.5437 0.5437 0.5471 0.5444]\n",
      "0.5436\n"
     ]
    }
   ],
   "source": [
    "# cross validation\n",
    "# low f1 score indicates low precision and low recall\n",
    "score = cross_val_score(svm_1, X_train, y_train, scoring = \"f1\")\n",
    "print(score.round(decimals=4))\n",
    "print(score.mean().round(decimals=4))"
   ]
  },
  {
   "attachments": {},
   "cell_type": "markdown",
   "id": "a465d9da",
   "metadata": {},
   "source": [
    "## Model 2\n",
    "- Regularize by removing correlated features"
   ]
  },
  {
   "attachments": {},
   "cell_type": "markdown",
   "id": "6e224c86",
   "metadata": {},
   "source": [
    "### Feature Selection"
   ]
  },
  {
   "cell_type": "code",
   "execution_count": 41,
   "id": "286de912",
   "metadata": {},
   "outputs": [
    {
     "name": "stdout",
     "output_type": "stream",
     "text": [
      "Number of redundant features: 31\n",
      "Removed features: {'fwidth', 'w_l_ratio', 'roundness', 'surface_area', 'thick_vol_prod', 'rnd_ell_prod', 'ellipticity', 'chull_area', 'concavity', 'ellipse_ratio', 'dp', 'circularity', 'sieve', 'chull_perimeter', 'fiber_width', 'compactness', 'fthickness', 'chull_surface_area', 'ethickness', 't_l_aspect_ratio', 'thick_perm_prod', 'l_w_ratio', 'l_t_ratio', 'angularity', 'elength', 't_w_ratio', 'ewidth', 'perimeter', 'flength', 'area', 'fiber_length'}\n",
      "\n",
      "Remaining features: ['da', 'volume', 'sphericity', 'solidity', 'convexity', 'extent', 'transparency', 'curvature', 'w_t_ratio', 'krumbein_rnd', 'thick_trans_prod']\n"
     ]
    }
   ],
   "source": [
    "# drop correlated features\n",
    "\n",
    "correlated_features = set()\n",
    "correlation_matrix = X_train.corr()\n",
    "\n",
    "for i in range(len(correlation_matrix.columns)):\n",
    "    for j in range(i):\n",
    "        if abs(correlation_matrix.iloc[i, j]) > 0.8:\n",
    "            colname = correlation_matrix.columns[i]\n",
    "            correlated_features.add(colname)\n",
    "\n",
    "print('Number of redundant features:',len(correlated_features))\n",
    "print('Removed features:',correlated_features)\n",
    "print()\n",
    "X_train_selected = X_train.drop(columns = correlated_features)\n",
    "print('Remaining features:',list(X_train_selected.columns))"
   ]
  },
  {
   "attachments": {},
   "cell_type": "markdown",
   "id": "a24170f6",
   "metadata": {},
   "source": [
    "### Fit Model"
   ]
  },
  {
   "cell_type": "code",
   "execution_count": 44,
   "id": "72191716",
   "metadata": {},
   "outputs": [],
   "source": [
    "# fit SVM model\n",
    "svm_2 = SVC()\n",
    "x = svm_2.fit(X_train_selected, y_train)"
   ]
  },
  {
   "attachments": {},
   "cell_type": "markdown",
   "id": "b8a9e3aa",
   "metadata": {},
   "source": [
    "### Cross-Validation"
   ]
  },
  {
   "cell_type": "code",
   "execution_count": 45,
   "id": "46dc804a",
   "metadata": {},
   "outputs": [
    {
     "name": "stdout",
     "output_type": "stream",
     "text": [
      "[0.4885 0.4842 0.493  0.4963 0.4795]\n",
      "0.4883\n"
     ]
    }
   ],
   "source": [
    "# cross validation\n",
    "# low f1 score indicates low precision and low recall\n",
    "score = cross_val_score(svm_2, X_train_selected, y_train, scoring = \"f1\")\n",
    "print(score.round(decimals=4))\n",
    "print(score.mean().round(decimals=4))"
   ]
  },
  {
   "attachments": {},
   "cell_type": "markdown",
   "id": "0b07c4cd",
   "metadata": {},
   "source": [
    "## Model 3\n",
    "- Hyperparameter tuning by grid search (could try `RandomizedSearchCV`)"
   ]
  },
  {
   "attachments": {},
   "cell_type": "markdown",
   "id": "e6ea4c63",
   "metadata": {},
   "source": [
    "### Grid Search"
   ]
  },
  {
   "cell_type": "code",
   "execution_count": 47,
   "id": "63026c5f",
   "metadata": {},
   "outputs": [],
   "source": [
    "from sklearn.model_selection import GridSearchCV\n",
    "\n",
    "param_grid = {'C':[1.0, 10.0, 100.0, 1000.0], 'gamma':[0.001, 0.0001], 'kernel':['rbf', 'linear']}"
   ]
  },
  {
   "cell_type": "code",
   "execution_count": 48,
   "id": "0454061f",
   "metadata": {},
   "outputs": [],
   "source": [
    "svm = SVC()"
   ]
  },
  {
   "cell_type": "code",
   "execution_count": 50,
   "id": "496a112c",
   "metadata": {},
   "outputs": [
    {
     "data": {
      "text/html": [
       "<style>#sk-container-id-3 {color: black;background-color: white;}#sk-container-id-3 pre{padding: 0;}#sk-container-id-3 div.sk-toggleable {background-color: white;}#sk-container-id-3 label.sk-toggleable__label {cursor: pointer;display: block;width: 100%;margin-bottom: 0;padding: 0.3em;box-sizing: border-box;text-align: center;}#sk-container-id-3 label.sk-toggleable__label-arrow:before {content: \"▸\";float: left;margin-right: 0.25em;color: #696969;}#sk-container-id-3 label.sk-toggleable__label-arrow:hover:before {color: black;}#sk-container-id-3 div.sk-estimator:hover label.sk-toggleable__label-arrow:before {color: black;}#sk-container-id-3 div.sk-toggleable__content {max-height: 0;max-width: 0;overflow: hidden;text-align: left;background-color: #f0f8ff;}#sk-container-id-3 div.sk-toggleable__content pre {margin: 0.2em;color: black;border-radius: 0.25em;background-color: #f0f8ff;}#sk-container-id-3 input.sk-toggleable__control:checked~div.sk-toggleable__content {max-height: 200px;max-width: 100%;overflow: auto;}#sk-container-id-3 input.sk-toggleable__control:checked~label.sk-toggleable__label-arrow:before {content: \"▾\";}#sk-container-id-3 div.sk-estimator input.sk-toggleable__control:checked~label.sk-toggleable__label {background-color: #d4ebff;}#sk-container-id-3 div.sk-label input.sk-toggleable__control:checked~label.sk-toggleable__label {background-color: #d4ebff;}#sk-container-id-3 input.sk-hidden--visually {border: 0;clip: rect(1px 1px 1px 1px);clip: rect(1px, 1px, 1px, 1px);height: 1px;margin: -1px;overflow: hidden;padding: 0;position: absolute;width: 1px;}#sk-container-id-3 div.sk-estimator {font-family: monospace;background-color: #f0f8ff;border: 1px dotted black;border-radius: 0.25em;box-sizing: border-box;margin-bottom: 0.5em;}#sk-container-id-3 div.sk-estimator:hover {background-color: #d4ebff;}#sk-container-id-3 div.sk-parallel-item::after {content: \"\";width: 100%;border-bottom: 1px solid gray;flex-grow: 1;}#sk-container-id-3 div.sk-label:hover label.sk-toggleable__label {background-color: #d4ebff;}#sk-container-id-3 div.sk-serial::before {content: \"\";position: absolute;border-left: 1px solid gray;box-sizing: border-box;top: 0;bottom: 0;left: 50%;z-index: 0;}#sk-container-id-3 div.sk-serial {display: flex;flex-direction: column;align-items: center;background-color: white;padding-right: 0.2em;padding-left: 0.2em;position: relative;}#sk-container-id-3 div.sk-item {position: relative;z-index: 1;}#sk-container-id-3 div.sk-parallel {display: flex;align-items: stretch;justify-content: center;background-color: white;position: relative;}#sk-container-id-3 div.sk-item::before, #sk-container-id-3 div.sk-parallel-item::before {content: \"\";position: absolute;border-left: 1px solid gray;box-sizing: border-box;top: 0;bottom: 0;left: 50%;z-index: -1;}#sk-container-id-3 div.sk-parallel-item {display: flex;flex-direction: column;z-index: 1;position: relative;background-color: white;}#sk-container-id-3 div.sk-parallel-item:first-child::after {align-self: flex-end;width: 50%;}#sk-container-id-3 div.sk-parallel-item:last-child::after {align-self: flex-start;width: 50%;}#sk-container-id-3 div.sk-parallel-item:only-child::after {width: 0;}#sk-container-id-3 div.sk-dashed-wrapped {border: 1px dashed gray;margin: 0 0.4em 0.5em 0.4em;box-sizing: border-box;padding-bottom: 0.4em;background-color: white;}#sk-container-id-3 div.sk-label label {font-family: monospace;font-weight: bold;display: inline-block;line-height: 1.2em;}#sk-container-id-3 div.sk-label-container {text-align: center;}#sk-container-id-3 div.sk-container {/* jupyter's `normalize.less` sets `[hidden] { display: none; }` but bootstrap.min.css set `[hidden] { display: none !important; }` so we also need the `!important` here to be able to override the default hidden behavior on the sphinx rendered scikit-learn.org. See: https://github.com/scikit-learn/scikit-learn/issues/21755 */display: inline-block !important;position: relative;}#sk-container-id-3 div.sk-text-repr-fallback {display: none;}</style><div id=\"sk-container-id-3\" class=\"sk-top-container\"><div class=\"sk-text-repr-fallback\"><pre>GridSearchCV(cv=5, estimator=SVC(),\n",
       "             param_grid={&#x27;C&#x27;: [1.0, 10.0, 100.0, 1000.0],\n",
       "                         &#x27;gamma&#x27;: [0.001, 0.0001],\n",
       "                         &#x27;kernel&#x27;: [&#x27;rbf&#x27;, &#x27;linear&#x27;]},\n",
       "             return_train_score=True, scoring=&#x27;f1&#x27;)</pre><b>In a Jupyter environment, please rerun this cell to show the HTML representation or trust the notebook. <br />On GitHub, the HTML representation is unable to render, please try loading this page with nbviewer.org.</b></div><div class=\"sk-container\" hidden><div class=\"sk-item sk-dashed-wrapped\"><div class=\"sk-label-container\"><div class=\"sk-label sk-toggleable\"><input class=\"sk-toggleable__control sk-hidden--visually\" id=\"sk-estimator-id-3\" type=\"checkbox\" ><label for=\"sk-estimator-id-3\" class=\"sk-toggleable__label sk-toggleable__label-arrow\">GridSearchCV</label><div class=\"sk-toggleable__content\"><pre>GridSearchCV(cv=5, estimator=SVC(),\n",
       "             param_grid={&#x27;C&#x27;: [1.0, 10.0, 100.0, 1000.0],\n",
       "                         &#x27;gamma&#x27;: [0.001, 0.0001],\n",
       "                         &#x27;kernel&#x27;: [&#x27;rbf&#x27;, &#x27;linear&#x27;]},\n",
       "             return_train_score=True, scoring=&#x27;f1&#x27;)</pre></div></div></div><div class=\"sk-parallel\"><div class=\"sk-parallel-item\"><div class=\"sk-item\"><div class=\"sk-label-container\"><div class=\"sk-label sk-toggleable\"><input class=\"sk-toggleable__control sk-hidden--visually\" id=\"sk-estimator-id-4\" type=\"checkbox\" ><label for=\"sk-estimator-id-4\" class=\"sk-toggleable__label sk-toggleable__label-arrow\">estimator: SVC</label><div class=\"sk-toggleable__content\"><pre>SVC()</pre></div></div></div><div class=\"sk-serial\"><div class=\"sk-item\"><div class=\"sk-estimator sk-toggleable\"><input class=\"sk-toggleable__control sk-hidden--visually\" id=\"sk-estimator-id-5\" type=\"checkbox\" ><label for=\"sk-estimator-id-5\" class=\"sk-toggleable__label sk-toggleable__label-arrow\">SVC</label><div class=\"sk-toggleable__content\"><pre>SVC()</pre></div></div></div></div></div></div></div></div></div></div>"
      ],
      "text/plain": [
       "GridSearchCV(cv=5, estimator=SVC(),\n",
       "             param_grid={'C': [1.0, 10.0, 100.0, 1000.0],\n",
       "                         'gamma': [0.001, 0.0001],\n",
       "                         'kernel': ['rbf', 'linear']},\n",
       "             return_train_score=True, scoring='f1')"
      ]
     },
     "execution_count": 50,
     "metadata": {},
     "output_type": "execute_result"
    }
   ],
   "source": [
    "grid_search = GridSearchCV(svm, param_grid, cv = 5, scoring = 'f1',return_train_score=True)\n",
    "x = grid_search.fit(X_train_selected,y_train)"
   ]
  },
  {
   "cell_type": "code",
   "execution_count": 52,
   "id": "36195393",
   "metadata": {},
   "outputs": [
    {
     "name": "stdout",
     "output_type": "stream",
     "text": [
      "0.0 {'C': 1.0, 'gamma': 0.001, 'kernel': 'rbf'}\n",
      "0.07170820949513906 {'C': 1.0, 'gamma': 0.001, 'kernel': 'linear'}\n",
      "0.0 {'C': 1.0, 'gamma': 0.0001, 'kernel': 'rbf'}\n",
      "0.07170820949513906 {'C': 1.0, 'gamma': 0.0001, 'kernel': 'linear'}\n",
      "0.0 {'C': 10.0, 'gamma': 0.001, 'kernel': 'rbf'}\n",
      "0.09285023017898461 {'C': 10.0, 'gamma': 0.001, 'kernel': 'linear'}\n",
      "0.0 {'C': 10.0, 'gamma': 0.0001, 'kernel': 'rbf'}\n",
      "0.09285023017898461 {'C': 10.0, 'gamma': 0.0001, 'kernel': 'linear'}\n",
      "0.026202303794624328 {'C': 100.0, 'gamma': 0.001, 'kernel': 'rbf'}\n",
      "0.0937138866653483 {'C': 100.0, 'gamma': 0.001, 'kernel': 'linear'}\n",
      "0.0 {'C': 100.0, 'gamma': 0.0001, 'kernel': 'rbf'}\n",
      "0.0937138866653483 {'C': 100.0, 'gamma': 0.0001, 'kernel': 'linear'}\n",
      "0.08044069072199443 {'C': 1000.0, 'gamma': 0.001, 'kernel': 'rbf'}\n",
      "0.09369123866063753 {'C': 1000.0, 'gamma': 0.001, 'kernel': 'linear'}\n",
      "0.026202303794624328 {'C': 1000.0, 'gamma': 0.0001, 'kernel': 'rbf'}\n",
      "0.09369123866063753 {'C': 1000.0, 'gamma': 0.0001, 'kernel': 'linear'}\n"
     ]
    }
   ],
   "source": [
    "# scores with each set of parameters\n",
    "cvres = grid_search.cv_results_\n",
    "for mean_score, params in zip(cvres[\"mean_test_score\"], cvres[\"params\"]):\n",
    "    print(mean_score, params)"
   ]
  },
  {
   "cell_type": "code",
   "execution_count": 53,
   "id": "873ec9a5",
   "metadata": {},
   "outputs": [
    {
     "data": {
      "text/plain": [
       "{'C': 100.0, 'gamma': 0.001, 'kernel': 'linear'}"
      ]
     },
     "execution_count": 53,
     "metadata": {},
     "output_type": "execute_result"
    }
   ],
   "source": [
    "# best parameters\n",
    "grid_search.best_params_"
   ]
  },
  {
   "cell_type": "code",
   "execution_count": 54,
   "id": "d8cdfb11",
   "metadata": {},
   "outputs": [
    {
     "data": {
      "text/html": [
       "<style>#sk-container-id-4 {color: black;background-color: white;}#sk-container-id-4 pre{padding: 0;}#sk-container-id-4 div.sk-toggleable {background-color: white;}#sk-container-id-4 label.sk-toggleable__label {cursor: pointer;display: block;width: 100%;margin-bottom: 0;padding: 0.3em;box-sizing: border-box;text-align: center;}#sk-container-id-4 label.sk-toggleable__label-arrow:before {content: \"▸\";float: left;margin-right: 0.25em;color: #696969;}#sk-container-id-4 label.sk-toggleable__label-arrow:hover:before {color: black;}#sk-container-id-4 div.sk-estimator:hover label.sk-toggleable__label-arrow:before {color: black;}#sk-container-id-4 div.sk-toggleable__content {max-height: 0;max-width: 0;overflow: hidden;text-align: left;background-color: #f0f8ff;}#sk-container-id-4 div.sk-toggleable__content pre {margin: 0.2em;color: black;border-radius: 0.25em;background-color: #f0f8ff;}#sk-container-id-4 input.sk-toggleable__control:checked~div.sk-toggleable__content {max-height: 200px;max-width: 100%;overflow: auto;}#sk-container-id-4 input.sk-toggleable__control:checked~label.sk-toggleable__label-arrow:before {content: \"▾\";}#sk-container-id-4 div.sk-estimator input.sk-toggleable__control:checked~label.sk-toggleable__label {background-color: #d4ebff;}#sk-container-id-4 div.sk-label input.sk-toggleable__control:checked~label.sk-toggleable__label {background-color: #d4ebff;}#sk-container-id-4 input.sk-hidden--visually {border: 0;clip: rect(1px 1px 1px 1px);clip: rect(1px, 1px, 1px, 1px);height: 1px;margin: -1px;overflow: hidden;padding: 0;position: absolute;width: 1px;}#sk-container-id-4 div.sk-estimator {font-family: monospace;background-color: #f0f8ff;border: 1px dotted black;border-radius: 0.25em;box-sizing: border-box;margin-bottom: 0.5em;}#sk-container-id-4 div.sk-estimator:hover {background-color: #d4ebff;}#sk-container-id-4 div.sk-parallel-item::after {content: \"\";width: 100%;border-bottom: 1px solid gray;flex-grow: 1;}#sk-container-id-4 div.sk-label:hover label.sk-toggleable__label {background-color: #d4ebff;}#sk-container-id-4 div.sk-serial::before {content: \"\";position: absolute;border-left: 1px solid gray;box-sizing: border-box;top: 0;bottom: 0;left: 50%;z-index: 0;}#sk-container-id-4 div.sk-serial {display: flex;flex-direction: column;align-items: center;background-color: white;padding-right: 0.2em;padding-left: 0.2em;position: relative;}#sk-container-id-4 div.sk-item {position: relative;z-index: 1;}#sk-container-id-4 div.sk-parallel {display: flex;align-items: stretch;justify-content: center;background-color: white;position: relative;}#sk-container-id-4 div.sk-item::before, #sk-container-id-4 div.sk-parallel-item::before {content: \"\";position: absolute;border-left: 1px solid gray;box-sizing: border-box;top: 0;bottom: 0;left: 50%;z-index: -1;}#sk-container-id-4 div.sk-parallel-item {display: flex;flex-direction: column;z-index: 1;position: relative;background-color: white;}#sk-container-id-4 div.sk-parallel-item:first-child::after {align-self: flex-end;width: 50%;}#sk-container-id-4 div.sk-parallel-item:last-child::after {align-self: flex-start;width: 50%;}#sk-container-id-4 div.sk-parallel-item:only-child::after {width: 0;}#sk-container-id-4 div.sk-dashed-wrapped {border: 1px dashed gray;margin: 0 0.4em 0.5em 0.4em;box-sizing: border-box;padding-bottom: 0.4em;background-color: white;}#sk-container-id-4 div.sk-label label {font-family: monospace;font-weight: bold;display: inline-block;line-height: 1.2em;}#sk-container-id-4 div.sk-label-container {text-align: center;}#sk-container-id-4 div.sk-container {/* jupyter's `normalize.less` sets `[hidden] { display: none; }` but bootstrap.min.css set `[hidden] { display: none !important; }` so we also need the `!important` here to be able to override the default hidden behavior on the sphinx rendered scikit-learn.org. See: https://github.com/scikit-learn/scikit-learn/issues/21755 */display: inline-block !important;position: relative;}#sk-container-id-4 div.sk-text-repr-fallback {display: none;}</style><div id=\"sk-container-id-4\" class=\"sk-top-container\"><div class=\"sk-text-repr-fallback\"><pre>SVC(C=100.0, gamma=0.001, kernel=&#x27;linear&#x27;)</pre><b>In a Jupyter environment, please rerun this cell to show the HTML representation or trust the notebook. <br />On GitHub, the HTML representation is unable to render, please try loading this page with nbviewer.org.</b></div><div class=\"sk-container\" hidden><div class=\"sk-item\"><div class=\"sk-estimator sk-toggleable\"><input class=\"sk-toggleable__control sk-hidden--visually\" id=\"sk-estimator-id-6\" type=\"checkbox\" checked><label for=\"sk-estimator-id-6\" class=\"sk-toggleable__label sk-toggleable__label-arrow\">SVC</label><div class=\"sk-toggleable__content\"><pre>SVC(C=100.0, gamma=0.001, kernel=&#x27;linear&#x27;)</pre></div></div></div></div></div>"
      ],
      "text/plain": [
       "SVC(C=100.0, gamma=0.001, kernel='linear')"
      ]
     },
     "execution_count": 54,
     "metadata": {},
     "output_type": "execute_result"
    }
   ],
   "source": [
    "# store best model\n",
    "svm_tuned = grid_search.best_estimator_"
   ]
  },
  {
   "cell_type": "code",
   "execution_count": 58,
   "id": "69881939",
   "metadata": {},
   "outputs": [
    {
     "name": "stdout",
     "output_type": "stream",
     "text": [
      "[0.1009 0.0881 0.0902 0.101  0.0883]\n",
      "0.0937\n"
     ]
    }
   ],
   "source": [
    "# cross validation\n",
    "# low f1 score indicates low precision and low recall\n",
    "score = cross_val_score(svm_tuned, X_train_selected, y_train, scoring = \"f1\")\n",
    "print(score.round(decimals=4))\n",
    "print(score.mean().round(decimals=4))"
   ]
  },
  {
   "attachments": {},
   "cell_type": "markdown",
   "id": "9b991a1e",
   "metadata": {},
   "source": [
    "## Test"
   ]
  },
  {
   "cell_type": "code",
   "execution_count": 56,
   "id": "e7a62606-f737-4d8c-9016-8676017ba1fb",
   "metadata": {},
   "outputs": [
    {
     "name": "stdout",
     "output_type": "stream",
     "text": [
      "Accuracy:\t0.9335368568339375\n",
      "Precision:\t0.8225806451612904\n",
      "Recall:\t\t0.047004608294930875\n",
      "F1:\t\t0.08892763731473408\n"
     ]
    }
   ],
   "source": [
    "# test the performance of the selected model\n",
    "y_pred = svm_tuned.predict(X_test.drop(columns = correlated_features))\n",
    "pred_metrics(y_test,y_pred)"
   ]
  },
  {
   "cell_type": "code",
   "execution_count": 60,
   "id": "deac9664-b89b-4525-bfc9-d18a4f492e78",
   "metadata": {},
   "outputs": [
    {
     "data": {
      "text/plain": [
       "<AxesSubplot:>"
      ]
     },
     "execution_count": 60,
     "metadata": {},
     "output_type": "execute_result"
    },
    {
     "data": {
      "image/png": "[encoded data removed]",
      "text/plain": [
       "<Figure size 640x480 with 2 Axes>"
      ]
     },
     "metadata": {},
     "output_type": "display_data"
    }
   ],
   "source": [
    "# confusion matrix\n",
    "cm = confusion_matrix(y_test, y_pred)\n",
    "sns.heatmap(cm, annot=True, fmt = 'g', cmap = 'Blues')"
   ]
  },
  {
   "cell_type": "code",
   "execution_count": null,
   "id": "655547c1",
   "metadata": {},
   "outputs": [],
   "source": []
  }
 ],
 "metadata": {
  "kernelspec": {
   "display_name": "base",
   "language": "python",
   "name": "python3"
  },
  "language_info": {
   "codemirror_mode": {
    "name": "ipython",
    "version": 3
   },
   "file_extension": ".py",
   "mimetype": "text/x-python",
   "name": "python",
   "nbconvert_exporter": "python",
   "pygments_lexer": "ipython3",
   "version": "3.9.13"
  },
  "vscode": {
   "interpreter": {
    "hash": "9ce51b511e31678062ea377e4f294f92e7c7692784d9643ac534d9eb5246e9c5"
   }
  }
 },
 "nbformat": 4,
 "nbformat_minor": 5
}
