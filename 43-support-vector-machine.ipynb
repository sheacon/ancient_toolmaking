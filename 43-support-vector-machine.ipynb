{
 "cells": [
  {
   "attachments": {},
   "cell_type": "markdown",
   "id": "320e125f",
   "metadata": {},
   "source": [
    "# Support Vector Machine\n",
    "\n",
    "**Basic Description**\n",
    "- The goal of SVM is to form a hyperplane that separates the training data\n",
    "- It aims to maximize the margin, which is the minimum distance from the decision boundary to any training point. The points closest to the hyperplane are called the support vectors\n",
    "- The decision boundaries can be nonlinear. SVMs accomplish this by using kernels to transform the data into a higher-dimensional space where hyperplanes can best separate points\n",
    "\n",
    "**Bias-Variance Tradeoff**\n",
    "- Greater complexity decreases bias some, increasing variance\n",
    "\n",
    "**Upsides**\n",
    "- Able to draw non-linear decision boundaries relative to features\n",
    "\n",
    "**Downsides**\n",
    "- SVMs have high computational complexity and may not be appropriate for large datasets or overlapping classes with unclear separation\n",
    "\n",
    "**Other Notes**"
   ]
  },
  {
   "attachments": {},
   "cell_type": "markdown",
   "id": "fec3040c",
   "metadata": {},
   "source": [
    "## Load Packages and Prep Data"
   ]
  },
  {
   "cell_type": "code",
   "execution_count": 2,
   "id": "ef1fb5bd",
   "metadata": {},
   "outputs": [],
   "source": [
    "# custom utils\n",
    "from utils import custom\n",
    "from utils.cf_matrix import make_confusion_matrix\n",
    "\n",
    "import numpy as np\n",
    "import pandas as pd\n",
    "import matplotlib.pyplot as plt\n",
    "import seaborn as sns\n",
    "\n",
    "from sklearn.model_selection import cross_val_score, GridSearchCV\n",
    "from sklearn.svm import SVC\n",
    "\n",
    "import time"
   ]
  },
  {
   "cell_type": "code",
   "execution_count": 3,
   "id": "e4d1f2d3",
   "metadata": {},
   "outputs": [
    {
     "name": "stdout",
     "output_type": "stream",
     "text": [
      "X_train (62889, 42)\n",
      "y_train (62889,)\n",
      "X_test (15723, 42)\n",
      "y_test (15723,)\n"
     ]
    }
   ],
   "source": [
    "# load data\n",
    "X_train, y_train, X_test, y_test = custom.load_data()"
   ]
  },
  {
   "attachments": {},
   "cell_type": "markdown",
   "id": "8b180c2e",
   "metadata": {},
   "source": [
    "## Model 1\n",
    "- Use default hyperparameters\n",
    "- Notable\n",
    "    - C=1.0\n",
    "    - kernel='rbf'"
   ]
  },
  {
   "cell_type": "code",
   "execution_count": 4,
   "id": "72191716",
   "metadata": {},
   "outputs": [
    {
     "name": "stdout",
     "output_type": "stream",
     "text": [
      "36.59624910354614\n"
     ]
    }
   ],
   "source": [
    "# start timer\n",
    "start = time.time()\n",
    "\n",
    "# fit SVM model\n",
    "svm_1 = SVC()\n",
    "x = svm_1.fit(X_train, y_train)\n",
    "\n",
    "# end timer\n",
    "end = time.time()\n",
    "print(end - start)"
   ]
  },
  {
   "cell_type": "code",
   "execution_count": 6,
   "id": "4879478c",
   "metadata": {},
   "outputs": [
    {
     "name": "stdout",
     "output_type": "stream",
     "text": [
      "660.1521825790405\n"
     ]
    }
   ],
   "source": [
    "# start timer\n",
    "start = time.time()\n",
    "\n",
    "# cross-validation scoring\n",
    "svm_1_scores = custom.cv_metrics(svm_1, X_train, y_train)\n",
    "svm_1_scores\n",
    "\n",
    "# end timer\n",
    "end = time.time()\n",
    "print(end - start)"
   ]
  },
  {
   "cell_type": "code",
   "execution_count": 10,
   "id": "2012fc62",
   "metadata": {},
   "outputs": [
    {
     "data": {
      "text/plain": [
       "accuracy     0.955\n",
       "precision    0.835\n",
       "recall       0.403\n",
       "f1           0.544\n",
       "dtype: float64"
      ]
     },
     "execution_count": 10,
     "metadata": {},
     "output_type": "execute_result"
    }
   ],
   "source": [
    "# show scores\n",
    "svm_1_scores"
   ]
  },
  {
   "attachments": {},
   "cell_type": "markdown",
   "id": "a465d9da",
   "metadata": {},
   "source": [
    "## Model 2\n",
    "- Regularize by removing correlated features\n",
    "- Perhaps improve compute demands"
   ]
  },
  {
   "attachments": {},
   "cell_type": "markdown",
   "id": "6e224c86",
   "metadata": {},
   "source": [
    "### Feature Selection"
   ]
  },
  {
   "cell_type": "code",
   "execution_count": 7,
   "id": "286de912",
   "metadata": {},
   "outputs": [
    {
     "name": "stdout",
     "output_type": "stream",
     "text": [
      "Number of redundant features: 31\n",
      "Removed features: {'fwidth', 'rnd_ell_prod', 'ethickness', 'dp', 'fthickness', 'angularity', 'thick_vol_prod', 'sieve', 'fiber_width', 'circularity', 'ellipse_ratio', 'w_l_ratio', 't_l_aspect_ratio', 'area', 'chull_surface_area', 'surface_area', 'flength', 'chull_perimeter', 'compactness', 'elength', 'perimeter', 'ellipticity', 'ewidth', 'roundness', 'l_w_ratio', 'l_t_ratio', 'fiber_length', 'thick_perm_prod', 't_w_ratio', 'concavity', 'chull_area'}\n",
      "\n",
      "Remaining features: ['da', 'volume', 'sphericity', 'solidity', 'convexity', 'extent', 'transparency', 'curvature', 'w_t_ratio', 'krumbein_rnd', 'thick_trans_prod']\n"
     ]
    }
   ],
   "source": [
    "# drop correlated features\n",
    "\n",
    "correlated_features = set()\n",
    "correlation_matrix = X_train.corr()\n",
    "\n",
    "for i in range(len(correlation_matrix.columns)):\n",
    "    for j in range(i):\n",
    "        if abs(correlation_matrix.iloc[i, j]) > 0.8:\n",
    "            colname = correlation_matrix.columns[i]\n",
    "            correlated_features.add(colname)\n",
    "\n",
    "print('Number of redundant features:',len(correlated_features))\n",
    "print('Removed features:',correlated_features)\n",
    "print()\n",
    "X_train_selected = X_train.drop(columns = correlated_features)\n",
    "print('Remaining features:',list(X_train_selected.columns))"
   ]
  },
  {
   "attachments": {},
   "cell_type": "markdown",
   "id": "a24170f6",
   "metadata": {},
   "source": [
    "### Fit Model"
   ]
  },
  {
   "cell_type": "code",
   "execution_count": 8,
   "id": "72191716",
   "metadata": {},
   "outputs": [
    {
     "name": "stdout",
     "output_type": "stream",
     "text": [
      "33.242859840393066\n"
     ]
    }
   ],
   "source": [
    "# start timer\n",
    "start = time.time()\n",
    "\n",
    "# fit SVM model\n",
    "svm_2 = SVC()\n",
    "x = svm_2.fit(X_train_selected, y_train)\n",
    "\n",
    "# end timer\n",
    "end = time.time()\n",
    "print(end - start)"
   ]
  },
  {
   "attachments": {},
   "cell_type": "markdown",
   "id": "b8a9e3aa",
   "metadata": {},
   "source": [
    "### Cross-Validation"
   ]
  },
  {
   "cell_type": "code",
   "execution_count": 9,
   "id": "46dc804a",
   "metadata": {},
   "outputs": [
    {
     "name": "stdout",
     "output_type": "stream",
     "text": [
      "646.38356590271\n"
     ]
    }
   ],
   "source": [
    "# start timer\n",
    "start = time.time()\n",
    "\n",
    "# cross-validation scoring\n",
    "svm_2_scores = custom.cv_metrics(svm_2, X_train, y_train)\n",
    "\n",
    "# end timer\n",
    "end = time.time()\n",
    "print(end - start)"
   ]
  },
  {
   "cell_type": "code",
   "execution_count": 11,
   "id": "6ff178ce",
   "metadata": {},
   "outputs": [
    {
     "data": {
      "text/plain": [
       "accuracy     0.955\n",
       "precision    0.835\n",
       "recall       0.403\n",
       "f1           0.544\n",
       "dtype: float64"
      ]
     },
     "execution_count": 11,
     "metadata": {},
     "output_type": "execute_result"
    }
   ],
   "source": [
    "# show scores\n",
    "svm_2_scores"
   ]
  },
  {
   "attachments": {},
   "cell_type": "markdown",
   "id": "655547c1",
   "metadata": {},
   "source": [
    "## Conclusion\n",
    "- SVMs are not a good candidate model based on compute requirements and metrics performance. Time is better spent tuning other models for now."
   ]
  },
  {
   "cell_type": "markdown",
   "id": "e8faf381",
   "metadata": {},
   "source": []
  }
 ],
 "metadata": {
  "kernelspec": {
   "display_name": "base",
   "language": "python",
   "name": "python3"
  },
  "language_info": {
   "codemirror_mode": {
    "name": "ipython",
    "version": 3
   },
   "file_extension": ".py",
   "mimetype": "text/x-python",
   "name": "python",
   "nbconvert_exporter": "python",
   "pygments_lexer": "ipython3",
   "version": "3.9.13 (main, Aug 25 2022, 18:29:29) \n[Clang 12.0.0 ]"
  },
  "vscode": {
   "interpreter": {
    "hash": "9ce51b511e31678062ea377e4f294f92e7c7692784d9643ac534d9eb5246e9c5"
   }
  }
 },
 "nbformat": 4,
 "nbformat_minor": 5
}
