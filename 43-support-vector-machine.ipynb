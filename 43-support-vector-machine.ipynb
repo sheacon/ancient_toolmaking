{
 "cells": [
  {
   "cell_type": "markdown",
   "id": "320e125f",
   "metadata": {},
   "source": [
    "## 43-Support Vector Machine Model"
   ]
  },
  {
   "cell_type": "markdown",
   "id": "9ae49f2e",
   "metadata": {},
   "source": [
    "### import packages and load datasets"
   ]
  },
  {
   "cell_type": "code",
   "execution_count": null,
   "id": "ef1fb5bd",
   "metadata": {},
   "outputs": [],
   "source": [
    "# import needed packages\n",
    "import numpy as np\n",
    "import pandas as pd\n",
    "from sklearn.model_selection import cross_val_score, GridSearchCV\n",
    "from sklearn.svm import SVC\n",
    "from sklearn.linear_model import Lasso\n",
    "from sklearn.feature_selection import RFECV"
   ]
  },
  {
   "cell_type": "code",
   "execution_count": null,
   "id": "e4d1f2d3",
   "metadata": {},
   "outputs": [],
   "source": [
    "# read data\n",
    "full_data = pd.read_csv('data/cumulative_data_fe.csv')\n",
    "train_data = pd.read_csv('data/train_data_fe.csv')\n",
    "test_data = pd.read_csv('data/test_data_fe.csv')"
   ]
  },
  {
   "cell_type": "markdown",
   "id": "215e438d",
   "metadata": {},
   "source": [
    "### feature elimination with adaptive LASSO method"
   ]
  },
  {
   "cell_type": "code",
   "execution_count": null,
   "id": "5d890fa4",
   "metadata": {},
   "outputs": [],
   "source": [
    "# define the dependent variables and independent variables of training dataset\n",
    "y_train_data = pd.DataFrame(train_data['stone_soil_enc'])\n",
    "x_train_data = train_data.drop(['id', 'img_id', 'stone_soil', 'stone_soil_enc'], axis = 1)"
   ]
  },
  {
   "cell_type": "code",
   "execution_count": null,
   "id": "ef4348ba",
   "metadata": {},
   "outputs": [
    {
     "data": {
      "text/plain": [
       "Index(['da', 'dp', 'fwidth', 'flength', 'fthickness', 'elength', 'ethickness',\n",
       "       'ewidth', 'volume', 'area', 'perimeter', 'chull_area',\n",
       "       'chull_perimeter', 'sphericity', 'l_t_ratio', 't_l_aspect_ratio',\n",
       "       'compactness', 'roundness', 'ellipse_ratio', 'circularity', 'solidity',\n",
       "       'concavity', 'convexity', 'extent', 'hash', 'transparency', 'curvature',\n",
       "       'surface_area', 'l_w_ratio', 'w_l_ratio', 'w_t_ratio', 't_w_ratio',\n",
       "       'chull_surface_area', 'sieve', 'angularity', 'ellipticity',\n",
       "       'fiber_length', 'fiber_width', 'krumbein_rnd', 'thick_vol_prod',\n",
       "       'thick_perm_prod', 'thick_trans_prod', 'rnd_ell_prod'],\n",
       "      dtype='object')"
      ]
     },
     "execution_count": null,
     "metadata": {},
     "output_type": "execute_result"
    }
   ],
   "source": [
    "x_train_data.columns"
   ]
  },
  {
   "cell_type": "code",
   "execution_count": null,
   "id": "a365a9c1",
   "metadata": {},
   "outputs": [
    {
     "name": "stderr",
     "output_type": "stream",
     "text": [
      "/data/p_dsi/wise/env/lib/python3.9/site-packages/sklearn/base.py:441: UserWarning: X does not have valid feature names, but RFECV was fitted with feature names\n",
      "  warnings.warn(\n"
     ]
    }
   ],
   "source": [
    "# use LASSO to get the sparse solution and make festure elimination\n",
    "model_rfe = RFECV(Lasso(alpha = 0.001), cv = 5)\n",
    "x = model_rfe.fit(x_train_data, y_train_data)\n",
    "rfe = model_rfe.ranking_\n",
    "features = ['da', 'dp', 'fwidth', 'flength', 'fthickness', 'elength', 'ethickness',\n",
    "       'ewidth', 'volume', 'area', 'perimeter', 'chull_area',\n",
    "       'chull_perimeter', 'sphericity', 'l_t_ratio', 't_l_aspect_ratio',\n",
    "       'compactness', 'roundness', 'ellipse_ratio', 'circularity', 'solidity',\n",
    "       'concavity', 'convexity', 'extent', 'hash', 'transparency', 'curvature',\n",
    "       'surface_area', 'l_w_ratio', 'w_l_ratio', 'w_t_ratio', 't_w_ratio',\n",
    "       'chull_surface_area', 'sieve', 'angularity', 'ellipticity',\n",
    "       'fiber_length', 'fiber_width', 'krumbein_rnd', 'thick_vol_prod',\n",
    "       'thick_perm_prod', 'thick_trans_prod', 'rnd_ell_prod']\n",
    "rfe_df = pd.DataFrame({'features': features, 'rfe_rank': rfe}, index = np.arange(len(features)))"
   ]
  },
  {
   "cell_type": "code",
   "execution_count": null,
   "id": "534b66b0",
   "metadata": {},
   "outputs": [
    {
     "data": {
      "text/html": [
       "<div>\n",
       "<style scoped>\n",
       "    .dataframe tbody tr th:only-of-type {\n",
       "        vertical-align: middle;\n",
       "    }\n",
       "\n",
       "    .dataframe tbody tr th {\n",
       "        vertical-align: top;\n",
       "    }\n",
       "\n",
       "    .dataframe thead th {\n",
       "        text-align: right;\n",
       "    }\n",
       "</style>\n",
       "<table border=\"1\" class=\"dataframe\">\n",
       "  <thead>\n",
       "    <tr style=\"text-align: right;\">\n",
       "      <th></th>\n",
       "      <th>features</th>\n",
       "      <th>rfe_rank</th>\n",
       "    </tr>\n",
       "  </thead>\n",
       "  <tbody>\n",
       "    <tr>\n",
       "      <th>33</th>\n",
       "      <td>sieve</td>\n",
       "      <td>10</td>\n",
       "    </tr>\n",
       "    <tr>\n",
       "      <th>34</th>\n",
       "      <td>angularity</td>\n",
       "      <td>9</td>\n",
       "    </tr>\n",
       "    <tr>\n",
       "      <th>35</th>\n",
       "      <td>ellipticity</td>\n",
       "      <td>8</td>\n",
       "    </tr>\n",
       "    <tr>\n",
       "      <th>36</th>\n",
       "      <td>fiber_length</td>\n",
       "      <td>7</td>\n",
       "    </tr>\n",
       "    <tr>\n",
       "      <th>37</th>\n",
       "      <td>fiber_width</td>\n",
       "      <td>6</td>\n",
       "    </tr>\n",
       "    <tr>\n",
       "      <th>38</th>\n",
       "      <td>krumbein_rnd</td>\n",
       "      <td>5</td>\n",
       "    </tr>\n",
       "    <tr>\n",
       "      <th>39</th>\n",
       "      <td>thick_vol_prod</td>\n",
       "      <td>4</td>\n",
       "    </tr>\n",
       "    <tr>\n",
       "      <th>40</th>\n",
       "      <td>thick_perm_prod</td>\n",
       "      <td>3</td>\n",
       "    </tr>\n",
       "    <tr>\n",
       "      <th>41</th>\n",
       "      <td>thick_trans_prod</td>\n",
       "      <td>2</td>\n",
       "    </tr>\n",
       "    <tr>\n",
       "      <th>42</th>\n",
       "      <td>rnd_ell_prod</td>\n",
       "      <td>1</td>\n",
       "    </tr>\n",
       "  </tbody>\n",
       "</table>\n",
       "</div>"
      ],
      "text/plain": [
       "            features  rfe_rank\n",
       "33             sieve        10\n",
       "34        angularity         9\n",
       "35       ellipticity         8\n",
       "36      fiber_length         7\n",
       "37       fiber_width         6\n",
       "38      krumbein_rnd         5\n",
       "39    thick_vol_prod         4\n",
       "40   thick_perm_prod         3\n",
       "41  thick_trans_prod         2\n",
       "42      rnd_ell_prod         1"
      ]
     },
     "execution_count": null,
     "metadata": {},
     "output_type": "execute_result"
    }
   ],
   "source": [
    "# choose the 10 most informative variables\n",
    "rfe_df[rfe_df['rfe_rank'] <= 10]"
   ]
  },
  {
   "cell_type": "code",
   "execution_count": null,
   "id": "65ba9a21",
   "metadata": {},
   "outputs": [
    {
     "data": {
      "text/plain": [
       "<bound method NDFrame.head of           sieve  angularity  ellipticity  fiber_length  fiber_width  \\\n",
       "0      0.005423    0.000000     0.035570      0.000000     0.000000   \n",
       "1      0.008980    0.498113     0.029433      0.000000     0.000000   \n",
       "2      0.006473    0.513208     0.024371      0.000000     0.000000   \n",
       "3      0.009038    0.513208     0.033913      0.004139     0.009476   \n",
       "4      0.005423    0.000000     0.035570      0.000000     0.000000   \n",
       "...         ...         ...          ...           ...          ...   \n",
       "62885  0.007872    0.513208     0.063838      0.006917     0.006317   \n",
       "62886  0.350808    0.155660     0.183362      0.568617     0.212389   \n",
       "62887  0.005831    0.622642     0.035705      0.000000     0.000000   \n",
       "62888  0.013470    0.343819     0.156886      0.015816     0.008189   \n",
       "62889  0.004665    0.513208     0.068408      0.000000     0.000000   \n",
       "\n",
       "       krumbein_rnd  thick_vol_prod  thick_perm_prod  thick_trans_prod  \\\n",
       "0           1.00000    1.845767e-09         0.000052          0.000000   \n",
       "1           1.00000    1.140420e-08         0.000106          0.021905   \n",
       "2           1.00000    4.284816e-09         0.000060          0.017676   \n",
       "3           1.00000    1.433765e-08         0.000109          0.023930   \n",
       "4           1.00000    1.845767e-09         0.000052          0.000000   \n",
       "...             ...             ...              ...               ...   \n",
       "62885       1.00000    1.015172e-08         0.000111          0.018060   \n",
       "62886       0.11899    5.726963e-02         0.350829          0.268044   \n",
       "62887       1.00000    3.922255e-09         0.000053          0.018499   \n",
       "62888       1.00000    1.112404e-07         0.000417          0.037499   \n",
       "62889       1.00000    1.631526e-09         0.000048          0.018977   \n",
       "\n",
       "       rnd_ell_prod  \n",
       "0          0.220725  \n",
       "1          0.210526  \n",
       "2          0.235653  \n",
       "3          0.219033  \n",
       "4          0.220725  \n",
       "...             ...  \n",
       "62885      0.264448  \n",
       "62886      0.178120  \n",
       "62887      0.244060  \n",
       "62888      0.230620  \n",
       "62889      0.231725  \n",
       "\n",
       "[62890 rows x 10 columns]>"
      ]
     },
     "execution_count": null,
     "metadata": {},
     "output_type": "execute_result"
    }
   ],
   "source": [
    "# define the new independent variables dataset\n",
    "column = rfe_df[rfe_df['rfe_rank'] <= 10]\n",
    "x_train_data1 = x_train_data[column['features'].values]\n",
    "x_train_data1.head"
   ]
  },
  {
   "cell_type": "markdown",
   "id": "a24170f6",
   "metadata": {},
   "source": [
    "### an example of constructing support vector machine model"
   ]
  },
  {
   "cell_type": "code",
   "execution_count": null,
   "id": "72191716",
   "metadata": {},
   "outputs": [
    {
     "data": {
      "text/plain": [
       "SVC(C=0.8, gamma=2)"
      ]
     },
     "execution_count": null,
     "metadata": {},
     "output_type": "execute_result"
    }
   ],
   "source": [
    "# train a SVM model on training dataset\n",
    "clf = SVC(C=0.8, kernel='rbf', gamma=2, max_iter = -1, decision_function_shape='ovr')\n",
    "clf.fit(x_train_data1, y_train_data.values.ravel())"
   ]
  },
  {
   "cell_type": "code",
   "execution_count": null,
   "id": "5a04df0f",
   "metadata": {},
   "outputs": [],
   "source": [
    "# define a function to get the predicted accuracy of model\n",
    "def show_accuracy(a, b):\n",
    "    accuracy = a == b.values.ravel()\n",
    "    print('Accuracy:%.3f'%np.mean(accuracy))"
   ]
  },
  {
   "cell_type": "code",
   "execution_count": null,
   "id": "e64963ce",
   "metadata": {},
   "outputs": [
    {
     "name": "stdout",
     "output_type": "stream",
     "text": [
      "Accuracy:0.934\n"
     ]
    }
   ],
   "source": [
    "# calculate the accuracy for one SVM model\n",
    "y_train_predict = clf.predict(x_train_data1)\n",
    "show_accuracy(y_train_predict, y_train_data)"
   ]
  },
  {
   "cell_type": "markdown",
   "id": "ae36d628",
   "metadata": {},
   "source": [
    "### use cross validation to choose the relatively optimal SVM model"
   ]
  },
  {
   "cell_type": "code",
   "execution_count": null,
   "id": "5bd2d0d9",
   "metadata": {},
   "outputs": [],
   "source": [
    "# use cross validation method to find the relatively optimal SVM model\n",
    "parameter1 = []\n",
    "parameter2 = []\n",
    "accuracy1 = []\n",
    "for C in range(5, 10, 1):\n",
    "    for gamma in range(15, 25, 5):\n",
    "        accuracy = cross_val_score(SVC(C = C/10, kernel = 'rbf', gamma = gamma/10, max_iter = -1, decision_function_shape = 'ovr'), x_train_data1, y_train_data.values.ravel(), cv = 5, scoring = 'f1').mean()\n",
    "        parameter1.append(C/10)\n",
    "        parameter2.append(gamma/10)\n",
    "        accuracy1.append(accuracy)"
   ]
  },
  {
   "cell_type": "code",
   "execution_count": null,
   "id": "e4f54aa9",
   "metadata": {},
   "outputs": [
    {
     "name": "stdout",
     "output_type": "stream",
     "text": [
      "[0.02528298725106922, 0.029433952860791434, 0.02713026249391446, 0.031276416255574015, 0.027593794112786618, 0.032196803571588675, 0.02897871261417877, 0.032658613834952, 0.03036039653232566, 0.033115066714178784]\n"
     ]
    }
   ],
   "source": [
    "# show the accuracy of different SVM models\n",
    "print(accuracy1)"
   ]
  },
  {
   "cell_type": "code",
   "execution_count": null,
   "id": "ba11416a",
   "metadata": {},
   "outputs": [],
   "source": [
    "# choose the relatively optimal SVM model\n",
    "max_accuracy_index = accuracy1.index(max(accuracy1))\n",
    "optimal_C = parameter1[max_accuracy_index]\n",
    "optimal_gamma = parameter2[max_accuracy_index]"
   ]
  },
  {
   "cell_type": "code",
   "execution_count": null,
   "id": "8cfcd9f5",
   "metadata": {},
   "outputs": [],
   "source": [
    "# define the dependent variables and independent variables of test dataset\n",
    "y_test_data = pd.DataFrame(test_data['stone_soil_enc'])\n",
    "x_test_data = test_data.drop(['id', 'img_id', 'stone_soil', 'stone_soil_enc'], axis = 1)\n",
    "x_test_data1 = x_test_data[column['features'].values]"
   ]
  },
  {
   "cell_type": "code",
   "execution_count": null,
   "id": "d6d95e4c",
   "metadata": {},
   "outputs": [
    {
     "data": {
      "text/plain": [
       "SVC(C=0.8, gamma=2)"
      ]
     },
     "execution_count": null,
     "metadata": {},
     "output_type": "execute_result"
    }
   ],
   "source": [
    "# apply the relatively optimal model on test data\n",
    "clf1 = SVC(C = optimal_C, kernel = 'rbf', gamma = optimal_gamma, max_iter = -1, decision_function_shape = 'ovr')\n",
    "clf.fit(x_test_data1, y_test_data.values.ravel())"
   ]
  },
  {
   "cell_type": "code",
   "execution_count": null,
   "id": "ea57a57e",
   "metadata": {},
   "outputs": [
    {
     "name": "stdout",
     "output_type": "stream",
     "text": [
      "Accuracy:0.932\n"
     ]
    }
   ],
   "source": [
    "# calculate the accuracy of SVM model on test data\n",
    "y_test_predict = clf.predict(x_test_data1)\n",
    "show_accuracy(y_test_predict, y_test_data)"
   ]
  },
  {
   "cell_type": "markdown",
   "id": "caa9efad",
   "metadata": {},
   "source": [
    "We use the Support Vector Machine model that has C = 0.8 and gamma = 2 as the final SVM model, and the accuracy on test dataset is 0.932."
   ]
  }
 ],
 "metadata": {
  "kernelspec": {
   "display_name": "Python 3 (ipykernel)",
   "language": "python",
   "name": "python3"
  }
 },
 "nbformat": 4,
 "nbformat_minor": 5
}
