{
 "cells": [
  {
   "cell_type": "markdown",
   "id": "d25284de",
   "metadata": {},
   "source": [
    "## Modeling"
   ]
  },
  {
   "cell_type": "markdown",
   "id": "0ba589db",
   "metadata": {},
   "source": [
    "> Filename: 40-modeling.ipynb\n",
    "\n",
    "> Goal of notebook: Design and implement models for analysis and prediciton"
   ]
  },
  {
   "cell_type": "markdown",
   "id": "a800ccc3",
   "metadata": {},
   "source": [
    "The team will use this notebook during the Ancient Artifacts project to implement modeling. We will create functions to build a function and write codes to train the model based on our engineered features."
   ]
  },
  {
   "cell_type": "code",
   "execution_count": null,
   "id": "4c649150",
   "metadata": {},
   "outputs": [],
   "source": [
    "# load modules\n",
    "\n",
    "import numpy as np\n",
    "import pandas as pd\n",
    "import matplotlib as plt\n",
    "import seaborn as sns\n",
    "import sklearn"
   ]
  },
  {
   "cell_type": "code",
   "execution_count": null,
   "id": "3b344390",
   "metadata": {},
   "outputs": [],
   "source": []
  }
 ],
 "metadata": {
  "kernelspec": {
   "display_name": "Python 3 (ipykernel)",
   "language": "python",
   "name": "python3"
  }
 },
 "nbformat": 4,
 "nbformat_minor": 5
}
