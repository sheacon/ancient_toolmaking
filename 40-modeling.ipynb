{
 "cells": [
  {
   "cell_type": "markdown",
   "id": "d25284de",
   "metadata": {},
   "source": [
    "## Modeling"
   ]
  },
  {
   "attachments": {},
   "cell_type": "markdown",
   "id": "3b344390",
   "metadata": {},
   "source": [
    "- `41-log-regression.ipynp`\n",
    "- `42-naive-bayes.ipynp`\n",
    "- `43-support-vector-machine.ipynp`\n",
    "- `44-decision-tree.ipynp`\n",
    "- `45-random-forest.ipynp`\n",
    "- `46-extra-trees.ipynp`\n",
    "    - `47-extra-trees-improve.ipynb`"
   ]
  },
  {
   "cell_type": "markdown",
   "id": "c9a392d2",
   "metadata": {},
   "source": []
  }
 ],
 "metadata": {
  "kernelspec": {
   "display_name": "Python 3 (ipykernel)",
   "language": "python",
   "name": "python3"
  }
 },
 "nbformat": 4,
 "nbformat_minor": 5
}
