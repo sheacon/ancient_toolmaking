{
 "cells": [
  {
   "cell_type": "markdown",
   "id": "d25284de",
   "metadata": {},
   "source": [
    "## Modeling"
   ]
  },
  {
   "attachments": {},
   "cell_type": "markdown",
   "id": "3b344390",
   "metadata": {},
   "source": [
    "Implemented Classifiers\n",
    "- `41-log-regression.ipynp`\n",
    "- `42-naive-bayes.ipynp`\n",
    "- `43-support-vector-machine.ipynp`\n",
    "- `44-decision-tree.ipynp`\n",
    "- `45-random-forest.ipynp`\n",
    "- `46-extra-trees.ipynp`\n",
    "    - `47-extra-trees-improve.ipynb`\n",
    "\n",
    "Possible Classifiers\n",
    "- Logistic Regression\n",
    "- Linear Discriminant Analysis\n",
    "- Quadratic Discriminant Analysis\n",
    "- K-Nearest Neighbors\n",
    "- Decision Tree\n",
    "- Random Forest\n",
    "- Support Vector\n",
    "- Multi-layer Perceptron\n",
    "- AdaBoost \n",
    "- GradientBoosting\n",
    "- Gaussian Naive Bayes\n",
    "- Bernoulli Naive Bayes\n",
    "- Complement Naive Bayes"
   ]
  },
  {
   "cell_type": "markdown",
   "id": "c9a392d2",
   "metadata": {},
   "source": []
  }
 ],
 "metadata": {
  "kernelspec": {
   "display_name": "Python 3 (ipykernel)",
   "language": "python",
   "name": "python3"
  }
 },
 "nbformat": 4,
 "nbformat_minor": 5
}
