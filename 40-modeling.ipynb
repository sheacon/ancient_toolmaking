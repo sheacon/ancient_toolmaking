{
 "cells": [
  {
   "attachments": {},
   "cell_type": "markdown",
   "id": "d25284de",
   "metadata": {},
   "source": [
    "# Modeling"
   ]
  },
  {
   "attachments": {},
   "cell_type": "markdown",
   "id": "3b344390",
   "metadata": {},
   "source": [
    "### Implemented Classifiers\n",
    "- Logistic Regression `41-log-regression.ipynp`\n",
    "- Gaussian Naive Bayes `42-naive-bayes.ipynp`\n",
    "- Support Vector Machine `43-support-vector-machine.ipynp`\n",
    "- Tree-Based Methods `44-trees.ipynb`\n",
    "    - Decision Tree\n",
    "    - Random Forrest\n",
    "    - XGBoost\n",
    "\n",
    "### Other Possible Classifiers\n",
    "- Bernoulli Naive Bayes\n",
    "- Complement Naive Bayes\n",
    "- Linear Discriminant Analysis\n",
    "- Quadratic Discriminant Analysis\n",
    "- K-Nearest Neighbors\n",
    "- Multi-layer Perceptron\n",
    "- Extra Trees\n",
    "- AdaBoost "
   ]
  },
  {
   "attachments": {},
   "cell_type": "markdown",
   "id": "9826ef3d",
   "metadata": {},
   "source": [
    "## Approach\n",
    "The goal of classification is to assign a given data point to one of a set of possible classes. In this case, we have measurements of a particle that we're assigning to be either stone microdebitage or soil."
   ]
  },
  {
   "attachments": {},
   "cell_type": "markdown",
   "id": "3624ac29",
   "metadata": {},
   "source": [
    "## Evaluating Classifiers\n",
    "- Although we want to design a model that is accurate. High accuracy is not an adequate metric, especially in the case of imbalanced classes.\n",
    "- As calculated below, a classifier achieve 93% accuracy by classifying all observations as negative (i.e. soil). However, if we chose this model, we'd never identify any of the stone microdebitage at ancient toolmaking sites"
   ]
  },
  {
   "cell_type": "code",
   "execution_count": 2,
   "id": "7356dab5",
   "metadata": {},
   "outputs": [
    {
     "data": {
      "text/plain": [
       "0.93"
      ]
     },
     "execution_count": 2,
     "metadata": {},
     "output_type": "execute_result"
    }
   ],
   "source": [
    "from utils import custom\n",
    "\n",
    "# load data\n",
    "X_train, y_train, X_test, y_test = custom.load_data(verbose = False)\n",
    "\n",
    "# calculate negative %\n",
    "(y_train.value_counts()[0] / len(y_train)).round(2)\n"
   ]
  },
  {
   "attachments": {},
   "cell_type": "markdown",
   "id": "b8512092",
   "metadata": {},
   "source": [
    "### Confusion Matrix\n",
    "- A matrix of correctly classified and misclassified observations is helpful in considering the strengths and weaknesses of a model holistically. True positives and true negatives are correct. False positives and false negatives are incorrect.\n",
    "\n",
    "\n",
    "| Actual / Predicted | Positive | Negative |\n",
    "| ------------------ | -------- | -------- |\n",
    "| **Positive**       |    TP    |    FN    |\n",
    "| **Negative**       |    FP    |    TN    | "
   ]
  },
  {
   "attachments": {},
   "cell_type": "markdown",
   "id": "210cc219",
   "metadata": {},
   "source": [
    "### Precision, Recall, and F1\n",
    "- Precision is the accuracy of the positive predictions (i.e. of all the observations predicted positive, what proportion is correct). This measure penalizes false positives.\n",
    "- Recall (sensitivity) is the true positive rate, or percentage of actual positive cases captured (i.e. of all the observations actually positive, what proportion is predicted positive). This measure penalizes false negatives.\n",
    "- Where precision and recall are both important, the F1 score can be used, which is their harmonic mean."
   ]
  },
  {
   "attachments": {},
   "cell_type": "markdown",
   "id": "22542172",
   "metadata": {},
   "source": [
    "### ROC and AUC\n",
    "- A visualization method, the receiver operating characteristic (ROC) curve plots the true positive rate versus the false positive rate for various threholds. The area under the curve (AUC) measures how well the classifier separates the classes.\n",
    "\n",
    "![test](https://docs.eyesopen.com/python_modules/cookbook/python/_images/roc-theory-small.png)"
   ]
  },
  {
   "cell_type": "markdown",
   "id": "c9a392d2",
   "metadata": {},
   "source": []
  }
 ],
 "metadata": {
  "kernelspec": {
   "display_name": "base",
   "language": "python",
   "name": "python3"
  },
  "language_info": {
   "codemirror_mode": {
    "name": "ipython",
    "version": 3
   },
   "file_extension": ".py",
   "mimetype": "text/x-python",
   "name": "python",
   "nbconvert_exporter": "python",
   "pygments_lexer": "ipython3",
   "version": "3.9.13"
  },
  "vscode": {
   "interpreter": {
    "hash": "9ce51b511e31678062ea377e4f294f92e7c7692784d9643ac534d9eb5246e9c5"
   }
  }
 },
 "nbformat": 4,
 "nbformat_minor": 5
}
