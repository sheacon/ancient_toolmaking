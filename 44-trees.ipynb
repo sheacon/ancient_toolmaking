{
 "cells": [
  {
   "attachments": {},
   "cell_type": "markdown",
   "id": "9027fb2f",
   "metadata": {},
   "source": [
    "# Tree-Based Methods\n",
    "- Tree-based classification models are a type of supervised machine learning algorithm that uses a series of conditional statements to partition training data into subsets\n",
    "- There are numerous ensemble methds built upon decision trees\n"
   ]
  },
  {
   "attachments": {},
   "cell_type": "markdown",
   "id": "48340981",
   "metadata": {},
   "source": [
    "## Load Packages and Prep Data"
   ]
  },
  {
   "cell_type": "code",
   "execution_count": 1,
   "id": "d6897fcf-c43d-4bf5-b1c6-74d8808d894d",
   "metadata": {},
   "outputs": [],
   "source": [
    "# custom utils\n",
    "from utils import custom\n",
    "from utils.cf_matrix import make_confusion_matrix\n",
    "\n",
    "import numpy as np\n",
    "import pandas as pd\n",
    "import matplotlib.pyplot as plt\n",
    "import seaborn as sns\n",
    "\n",
    "from sklearn.model_selection import cross_val_score, GridSearchCV, RandomizedSearchCV\n",
    "from sklearn.tree import DecisionTreeClassifier\n",
    "from sklearn.ensemble import RandomForestClassifier\n",
    "import xgboost as xgb\n",
    "from sklearn.metrics import confusion_matrix\n",
    "import time"
   ]
  },
  {
   "cell_type": "code",
   "execution_count": 2,
   "id": "0a145c04-c864-4201-8a51-2db30ab99242",
   "metadata": {},
   "outputs": [
    {
     "name": "stdout",
     "output_type": "stream",
     "text": [
      "X_train (62889, 42)\n",
      "y_train (62889,)\n",
      "X_test (15723, 42)\n",
      "y_test (15723,)\n"
     ]
    }
   ],
   "source": [
    "# load data\n",
    "X_train, y_train, X_test, y_test = custom.load_data()"
   ]
  },
  {
   "attachments": {},
   "cell_type": "markdown",
   "id": "3db0a7f0",
   "metadata": {},
   "source": [
    "## Model 1 - Decision Tree\n",
    "\n",
    "**Basic Description**\n",
    "\n",
    "A decision tree is a model that can be represented in a treelike form determined by binary splits made in the feature space and resulting in various leaf nodes, each with a different prediction. Decision trees are flexible and often perform well in practice for both classification and regression use cases. Trees are trained in a greedy and recursive fashion, proceeding through a series of binary splits in features that lead to minimal error.\n",
    "\n",
    "**Bias-Variance Tradeoff**\n",
    "\n",
    "Highly flexible, leading to low bias but high variance\n",
    "\n",
    "**Upsides**\n",
    "\n",
    "**Downsides**\n",
    "\n",
    "Risk of overfitting\n",
    "\n",
    "**Other Notes**"
   ]
  },
  {
   "attachments": {},
   "cell_type": "markdown",
   "id": "79353696",
   "metadata": {},
   "source": [
    "### Hyperparameter Tuning\n",
    "- Tune model with hyperparameter grid search\n",
    "- Parameters:\n",
    "    - The maximum depth of the tree `max_depth`\n",
    "    - The minimum number of samples required to split an internal node `min_samples_split`\n",
    "    - The minimum number of samples required to be at a leaf node `min_samples_leaf`. A split point at any depth will only be considered if it leaves at the minimum training samples in each resulting branch.\n",
    "    - The number of features to consider when looking for the best split `max_features`"
   ]
  },
  {
   "cell_type": "code",
   "execution_count": 28,
   "id": "e20e9677",
   "metadata": {},
   "outputs": [
    {
     "name": "stdout",
     "output_type": "stream",
     "text": [
      "{'max_depth': 9, 'max_features': 0.6, 'min_samples_leaf': 1, 'min_samples_split': 2}\n",
      "0.6923896633062643\n"
     ]
    }
   ],
   "source": [
    "# define grid to search\n",
    "param_grid={\n",
    "        'max_depth': [9,10,11]\n",
    "        ,'min_samples_split': [2,3]\n",
    "        ,'min_samples_leaf': [1,2]\n",
    "        ,'max_features': [0.5,0.6,0.7]\n",
    "}\n",
    "\n",
    "# instance\n",
    "dt_gs = GridSearchCV(DecisionTreeClassifier()\n",
    "                ,param_grid\n",
    "                ,scoring='f1'\n",
    "                ,cv=5\n",
    "                ,n_jobs=-1\n",
    "                #,verbose=1\n",
    "    )\n",
    "\n",
    "# search and fit\n",
    "dt_gs.fit(X_train, y_train)\n",
    "\n",
    "# best params and score\n",
    "print(dt_gs.best_params_)\n",
    "print(dt_gs.best_score_)\n",
    "\n",
    "# store best model\n",
    "dt = dt_gs.best_estimator_"
   ]
  },
  {
   "cell_type": "code",
   "execution_count": 29,
   "id": "5cbd84ef",
   "metadata": {},
   "outputs": [
    {
     "data": {
      "text/plain": [
       "accuracy     0.962203\n",
       "precision    0.771768\n",
       "recall       0.619145\n",
       "f1           0.686887\n",
       "dtype: float64"
      ]
     },
     "execution_count": 29,
     "metadata": {},
     "output_type": "execute_result"
    }
   ],
   "source": [
    "# cross-validation scoring\n",
    "dt_scores = custom.cv_metrics2(dt, X_train, y_train)\n",
    "dt_scores"
   ]
  },
  {
   "attachments": {},
   "cell_type": "markdown",
   "id": "91ceab13-ff32-4740-a46b-cd41849286a0",
   "metadata": {},
   "source": [
    "## Model 2 - Random Forest\n",
    "\n",
    "**Basic Description**\n",
    "\n",
    "- A random forest is a meta estimator that fits a number of decision tree classifiers on various sub-samples of the dataset and uses averaging to improve the predictive accuracy and control over-fitting.\n",
    "\n",
    "**Bias-Variance Tradeoff** \n",
    "\n",
    "- Like the underlying decision tree, Random Forest is highly flexible. Low bias, high variance. However, it has more methods for regularization.\n",
    "\n",
    "**Upsides**\n",
    "\n",
    "- Handles non-linear decision boundaries.\n",
    "- Impervious to class imbalance. Can account for feature interactions\n",
    "\n",
    "**Downsides**\n",
    "\n",
    "- Large hyperparameter space\n",
    "\n",
    "**Other Notes**"
   ]
  },
  {
   "attachments": {},
   "cell_type": "markdown",
   "id": "8bf9c3da",
   "metadata": {},
   "source": [
    "### Hyperparameter Tuning\n",
    "- Tune model with hyperparameter grid search\n",
    "- Search parameters\n",
    "    - Number of trees `n_estimators`\n",
    "    - Features considered at each split `max_features`\n",
    "    - Maximum tree depth `max_depth`\n",
    "    - Sub-sample size `max_samples`"
   ]
  },
  {
   "cell_type": "code",
   "execution_count": 41,
   "id": "2c182fc2",
   "metadata": {},
   "outputs": [
    {
     "name": "stdout",
     "output_type": "stream",
     "text": [
      "{'max_features': None, 'max_samples': 0.7, 'n_estimators': 125}\n",
      "0.7358185262136437\n",
      "17.85 min\n"
     ]
    }
   ],
   "source": [
    "# start timer\n",
    "start = time.time()\n",
    "\n",
    "# define grid to search\n",
    "param_grid={\n",
    "        'n_estimators': [75,100,125]\n",
    "        ,'max_features': [0.9, None]\n",
    "        #,'max_depth': [25,30,35]\n",
    "        #,'min_samples_split': [2,3]\n",
    "        #,'min_samples_leaf': [1,2]\n",
    "        #,'bootstrap': [True,False]\n",
    "        ,'max_samples': [0.7,0.8,0.9]\n",
    "}\n",
    "\n",
    "# instance\n",
    "rf_gs = GridSearchCV(RandomForestClassifier()\n",
    "                ,param_grid\n",
    "                ,scoring='f1'\n",
    "                ,cv=3\n",
    "                ,n_jobs=-1\n",
    "                #,verbose=1\n",
    "    )\n",
    "\n",
    "# search and fit\n",
    "rf_gs.fit(X_train, y_train)\n",
    "\n",
    "# best params and score\n",
    "print(rf_gs.best_params_)\n",
    "print(rf_gs.best_score_)\n",
    "\n",
    "# store best model\n",
    "rf = rf_gs.best_estimator_\n",
    "\n",
    "# end timer\n",
    "end = time.time()\n",
    "print(round((end - start)/60,2),'min')"
   ]
  },
  {
   "cell_type": "code",
   "execution_count": 42,
   "id": "80df12fb",
   "metadata": {},
   "outputs": [
    {
     "name": "stdout",
     "output_type": "stream",
     "text": [
      "accuracy     0.968230\n",
      "precision    0.840786\n",
      "recall       0.649149\n",
      "f1           0.732508\n",
      "dtype: float64\n",
      "7.98 min\n"
     ]
    }
   ],
   "source": [
    "# start timer\n",
    "start = time.time()\n",
    "\n",
    "# cross-validation scoring\n",
    "rf_scores = custom.cv_metrics2(rf, X_train, y_train)\n",
    "print(rf_scores)\n",
    "\n",
    "# end timer\n",
    "end = time.time()\n",
    "print(round((end - start)/60,2),'min')"
   ]
  },
  {
   "attachments": {},
   "cell_type": "markdown",
   "id": "e1a04df9",
   "metadata": {},
   "source": [
    "## Model 3 - XGBoost\n",
    "\n",
    "**Basic Description**\n",
    "- XGBoost belongs to a class of models popular throughout many industries because of superior performance on a variety problems. Its benefits include capturing non-linear relationships, detecing complex interactions, and robustness to outliers and other data issues.\n",
    "- An XGBoost model consists of many weak classifiers trained iteratively to reduce residuals, also known as boosting. This decision-tree based ensemble algorithm uses the gradient boosting framework, which allows for flexibility in loss function selection.\n",
    "\n",
    "**Bias-Variance Tradeoff** \n",
    "\n",
    "\n",
    "\n",
    "**Upsides**\n",
    "\n",
    "\n",
    "\n",
    "**Downsides**\n",
    "\n",
    "\n",
    "\n",
    "**Other Notes**"
   ]
  },
  {
   "attachments": {},
   "cell_type": "markdown",
   "id": "60a65df7",
   "metadata": {},
   "source": [
    "### Initial Fit\n",
    "- Good results with default hyperparameters"
   ]
  },
  {
   "cell_type": "code",
   "execution_count": null,
   "id": "f2f100cd",
   "metadata": {},
   "outputs": [],
   "source": [
    "import warnings\n",
    "warnings.simplefilter(action='ignore', category=FutureWarning)"
   ]
  },
  {
   "cell_type": "code",
   "execution_count": 4,
   "id": "da5489a7",
   "metadata": {},
   "outputs": [
    {
     "data": {
      "text/plain": [
       "accuracy     0.969645\n",
       "precision    0.848681\n",
       "recall       0.665609\n",
       "f1           0.745897\n",
       "dtype: float64"
      ]
     },
     "execution_count": 4,
     "metadata": {},
     "output_type": "execute_result"
    }
   ],
   "source": [
    "xgb_1 = xgb.XGBClassifier()\n",
    "x = xgb_1.fit(X_train, y_train)\n",
    "\n",
    "xgb_1_scores = custom.cv_metrics2(xgb_1, X_train, y_train)\n",
    "xgb_1_scores"
   ]
  },
  {
   "attachments": {},
   "cell_type": "markdown",
   "id": "dc65b414",
   "metadata": {},
   "source": [
    "### Random Hyperparameter Search\n",
    "- Attempt to find improvement over defaults\n",
    "- XGBoost has many hyperparameters combinations, so it is an efficient trade-off to do a random search and then refine with a grid search.\n",
    "- Search parameters:\n",
    "    - Number of trees `n_estimators`\n",
    "    - Maximum tree depth `max_depth`\n",
    "    - Learning rate `learning_rate`\n",
    "    - Leaf weight regularization rates L1 `reg_alpha` and L2 `reg_lambda`\n",
    "    - Complexity control `gamma`\n",
    "    - Minimum child weight `min_child_weight`\n",
    "\n",
    " Reference: https://towardsdatascience.com/mastering-xgboost-2eb6bce6bc76"
   ]
  },
  {
   "cell_type": "code",
   "execution_count": 5,
   "id": "da069d95",
   "metadata": {},
   "outputs": [
    {
     "name": "stdout",
     "output_type": "stream",
     "text": [
      "{'reg_lambda': 0.8, 'reg_alpha': 0.2, 'n_estimators': 100, 'min_child_weight': 2, 'max_depth': 6, 'learning_rate': 0.2, 'gamma': 0}\n",
      "0.7467227039368419\n",
      "16.87 min\n"
     ]
    }
   ],
   "source": [
    "# start timer\n",
    "start = time.time()\n",
    "\n",
    "# define grid to search\n",
    "param_grid={\n",
    "        'n_estimators': [100,200,300]\n",
    "        ,'max_depth': [2,4,6]\n",
    "        ,'learning_rate': [0.2,0.3,0.4]\n",
    "        ,'gamma': [0,10]\n",
    "        ,'min_child_weight': [1,2,3]\n",
    "        ,'reg_alpha': [0,0.1,0.2]\n",
    "        ,'reg_lambda': [0.8,0.9,1]\n",
    "}\n",
    "\n",
    "# instance\n",
    "xgb_gs = RandomizedSearchCV(xgb.XGBClassifier()\n",
    "                ,param_grid\n",
    "                ,scoring='f1'\n",
    "                ,n_iter=100\n",
    "                ,cv=3\n",
    "                ,n_jobs=-1\n",
    "                #,verbose=1\n",
    "    )\n",
    "\n",
    "# search and fit\n",
    "xgb_gs.fit(X_train, y_train)\n",
    "\n",
    "# best params and score\n",
    "print(xgb_gs.best_params_)\n",
    "print(xgb_gs.best_score_)\n",
    "\n",
    "# store best model\n",
    "xgb_2 = xgb_gs.best_estimator_\n",
    "\n",
    "# end timer\n",
    "end = time.time()\n",
    "print(round((end - start)/60,2),'min')"
   ]
  },
  {
   "attachments": {},
   "cell_type": "markdown",
   "id": "f9b90485",
   "metadata": {},
   "source": [
    "### Grid Hyperparameter Search"
   ]
  },
  {
   "cell_type": "code",
   "execution_count": 6,
   "id": "94c174c0",
   "metadata": {},
   "outputs": [
    {
     "name": "stdout",
     "output_type": "stream",
     "text": [
      "{'gamma': 0, 'learning_rate': 0.2, 'max_depth': 3, 'min_child_weight': 3, 'n_estimators': 500, 'reg_alpha': 0.2, 'reg_lambda': 0.9}\n",
      "0.7462111470244094\n",
      "6.89 min\n"
     ]
    }
   ],
   "source": [
    "# start timer\n",
    "start = time.time()\n",
    "\n",
    "# define grid to search\n",
    "param_grid={\n",
    "        'n_estimators': [500,600]\n",
    "        ,'max_depth': [3,4]\n",
    "        ,'learning_rate': [0.2,0.3]\n",
    "        ,'gamma': [0]\n",
    "        ,'min_child_weight': [3,4]\n",
    "        ,'reg_alpha': [0.2]\n",
    "        ,'reg_lambda': [0.9]\n",
    "}\n",
    "\n",
    "# instance\n",
    "xgb_gs = GridSearchCV(xgb.XGBClassifier()\n",
    "                ,param_grid\n",
    "                ,scoring='f1'\n",
    "                ,cv=3\n",
    "                ,n_jobs=-1\n",
    "                #,verbose=1\n",
    "    )\n",
    "\n",
    "# search and fit\n",
    "xgb_gs.fit(X_train, y_train)\n",
    "\n",
    "# best params and score\n",
    "print(xgb_gs.best_params_)\n",
    "print(xgb_gs.best_score_)\n",
    "\n",
    "# store best model\n",
    "xgb_2 = xgb_gs.best_estimator_\n",
    "\n",
    "# end timer\n",
    "end = time.time()\n",
    "print(round((end - start)/60,2),'min')"
   ]
  },
  {
   "cell_type": "code",
   "execution_count": 7,
   "id": "0430aa05",
   "metadata": {},
   "outputs": [
    {
     "data": {
      "text/plain": [
       "accuracy     0.969550\n",
       "precision    0.844207\n",
       "recall       0.668553\n",
       "f1           0.746127\n",
       "dtype: float64"
      ]
     },
     "execution_count": 7,
     "metadata": {},
     "output_type": "execute_result"
    }
   ],
   "source": [
    "xgb_2_scores = custom.cv_metrics2(xgb_2, X_train, y_train)\n",
    "xgb_2_scores"
   ]
  },
  {
   "attachments": {},
   "cell_type": "markdown",
   "id": "8d84cf4d-51da-47a9-8f45-e7944e47ab6d",
   "metadata": {},
   "source": [
    "## Test"
   ]
  },
  {
   "cell_type": "code",
   "execution_count": 20,
   "id": "fc062635",
   "metadata": {},
   "outputs": [
    {
     "data": {
      "image/png": "[encoded data removed]",
      "text/plain": [
       "<Figure size 640x480 with 2 Axes>"
      ]
     },
     "metadata": {},
     "output_type": "display_data"
    }
   ],
   "source": [
    "# test the performance of the selected model\n",
    "y_pred = xgb_2.predict(X_test)\n",
    "# pred_metrics(y_test, y_pred)\n",
    "\n",
    "# confusion matrix\n",
    "cm = confusion_matrix(y_test, y_pred)\n",
    "labels = ['True Neg','False Pos','False Neg','True Pos']\n",
    "categories = ['Soil', 'Stone']\n",
    "make_confusion_matrix(cm\n",
    "                      ,group_names=labels\n",
    "                      ,categories=categories\n",
    "                      ,cmap='Blues'\n",
    "                      ,count=False\n",
    "                      ,title = 'XGBoost Classifier')"
   ]
  },
  {
   "cell_type": "code",
   "execution_count": null,
   "id": "46f3aae0",
   "metadata": {},
   "outputs": [],
   "source": []
  }
 ],
 "metadata": {
  "kernelspec": {
   "display_name": "base",
   "language": "python",
   "name": "python3"
  },
  "language_info": {
   "codemirror_mode": {
    "name": "ipython",
    "version": 3
   },
   "file_extension": ".py",
   "mimetype": "text/x-python",
   "name": "python",
   "nbconvert_exporter": "python",
   "pygments_lexer": "ipython3",
   "version": "3.9.13"
  },
  "vscode": {
   "interpreter": {
    "hash": "9ce51b511e31678062ea377e4f294f92e7c7692784d9643ac534d9eb5246e9c5"
   }
  }
 },
 "nbformat": 4,
 "nbformat_minor": 5
}
