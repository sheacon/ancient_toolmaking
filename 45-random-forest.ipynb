{
 "cells": [
  {
   "cell_type": "markdown",
   "id": "91ceab13-ff32-4740-a46b-cd41849286a0",
   "metadata": {},
   "source": [
    "## 45 - Modeling: Random Forest\n",
    "\n",
    "> One of the actual modeling.\n"
   ]
  },
  {
   "cell_type": "code",
   "execution_count": null,
   "id": "d6897fcf-c43d-4bf5-b1c6-74d8808d894d",
   "metadata": {},
   "outputs": [],
   "source": [
    "# import needed packages\n",
    "import numpy as np\n",
    "import pandas as pd\n",
    "from sklearn.model_selection import cross_val_score\n",
    "from sklearn.model_selection import GridSearchCV\n",
    "from sklearn.ensemble import RandomForestClassifier\n",
    "from sklearn import metrics"
   ]
  },
  {
   "cell_type": "code",
   "execution_count": null,
   "id": "0a145c04-c864-4201-8a51-2db30ab99242",
   "metadata": {},
   "outputs": [],
   "source": [
    "# read the data\n",
    "full_data = pd.read_csv('data/cumulative_data_fe.csv')\n",
    "train_data = pd.read_csv('data/train_data_fe.csv')\n",
    "test_data = pd.read_csv('data/test_data_fe.csv')\n",
    "\n",
    "# drop columns\n",
    "y_train_data = pd.DataFrame(train_data['stone_soil_enc'])\n",
    "x_train_data = train_data.drop(['id', 'img_id', 'stone_soil', 'stone_soil_enc'], axis = 1)\n",
    "\n",
    "# drop columns\n",
    "y_test_data = pd.DataFrame(test_data['stone_soil_enc'])\n",
    "x_test_data = test_data.drop(['id', 'img_id', 'stone_soil', 'stone_soil_enc'], axis = 1)"
   ]
  },
  {
   "cell_type": "code",
   "execution_count": null,
   "id": "eb5083bf-6b8b-4c6e-aa6b-e99c8a066c48",
   "metadata": {},
   "outputs": [],
   "source": [
    "# define a function for scoring\n",
    "def pred_metrics(real, pred) -> None:\n",
    "    print(\"Accuracy:\\t{}\".format(metrics.accuracy_score(real, pred)))\n",
    "    print(\"Precision:\\t{}\".format(metrics.precision_score(real, pred)))\n",
    "    print(\"Recall:\\t\\t{}\".format(metrics.recall_score(real, pred)))\n",
    "    print(\"F1:\\t\\t{}\".format(metrics.f1_score(real, pred)))"
   ]
  },
  {
   "cell_type": "code",
   "execution_count": null,
   "id": "7d9cb6b3-8dbf-4b5b-8704-cdd3cf6c4a62",
   "metadata": {},
   "outputs": [
    {
     "data": {
      "text/plain": [
       "RandomForestClassifier(oob_score=True, random_state=10)"
      ]
     },
     "execution_count": null,
     "metadata": {},
     "output_type": "execute_result"
    }
   ],
   "source": [
    "# initialize RF classifier instance and train\n",
    "rf = RandomForestClassifier(oob_score=True, random_state=10)\n",
    "rf.fit(x_train_data, y_train_data.values.ravel())"
   ]
  },
  {
   "cell_type": "code",
   "execution_count": null,
   "id": "0a2c36d9-19ef-45a0-9ec3-f25a85ee14f2",
   "metadata": {},
   "outputs": [
    {
     "name": "stdout",
     "output_type": "stream",
     "text": [
      "Accuracy:\t0.9981555096199713\n",
      "Precision:\t0.9997560975609756\n",
      "Recall:\t\t0.9727100142382534\n",
      "F1:\t\t0.9860476305027664\n"
     ]
    }
   ],
   "source": [
    "# calculate metrics of training\n",
    "y_train_pred = rf.predict(x_train_data)\n",
    "pred_metrics(y_train_data, y_train_pred)"
   ]
  },
  {
   "cell_type": "code",
   "execution_count": null,
   "id": "8718454a-1e9f-4382-8d2f-ca13ae69b6ea",
   "metadata": {},
   "outputs": [
    {
     "name": "stdout",
     "output_type": "stream",
     "text": [
      "Accuracy:\t0.9600559725225798\n",
      "Precision:\t0.7464940668824164\n",
      "Recall:\t\t0.6377880184331797\n",
      "F1:\t\t0.687872763419483\n"
     ]
    }
   ],
   "source": [
    "# calculate metrics of testing\n",
    "y_test_pred = rf.predict(x_test_data)\n",
    "pred_metrics(y_test_data, y_test_pred)"
   ]
  },
  {
   "cell_type": "code",
   "execution_count": null,
   "id": "68c8fd7d-e55b-41c3-b170-9b4a8c4bf5fa",
   "metadata": {},
   "outputs": [
    {
     "data": {
      "text/plain": [
       "array([0.73006993, 0.74123989, 0.72455902, 0.72479564, 0.73170732,\n",
       "       0.72409152, 0.71370421, 0.7107438 , 0.68156425, 0.74798928])"
      ]
     },
     "execution_count": null,
     "metadata": {},
     "output_type": "execute_result"
    }
   ],
   "source": [
    "# cross validation\n",
    "cross_val_score(rf, x_train_data, y_train_data.values.ravel(), cv= 10, scoring = 'f1', n_jobs=-1)"
   ]
  },
  {
   "cell_type": "code",
   "execution_count": null,
   "id": "b2291589-1ab1-4f84-8f55-761b567c37c3",
   "metadata": {},
   "outputs": [
    {
     "name": "stdout",
     "output_type": "stream",
     "text": [
      "{'max_depth': 13, 'min_samples_leaf': 40, 'min_samples_split': 80, 'n_estimators': 60}\n",
      "0.6633304946678612\n"
     ]
    }
   ],
   "source": [
    "# find best parameters by grid search\n",
    "params = {'n_estimators':range(60,91,10), 'max_depth':range(7,14,2), 'min_samples_split':range(80,121,20), 'min_samples_leaf':range(40,61,10)}\n",
    "gs = GridSearchCV(RandomForestClassifier(max_features='sqrt' ,random_state=10), params, cv=5, scoring='f1', n_jobs=-1)\n",
    "gs.fit(x_train_data, y_train_data.values.ravel())\n",
    "print(gs.best_params_)\n",
    "print(gs.best_score_)"
   ]
  },
  {
   "cell_type": "code",
   "execution_count": null,
   "id": "98b1129c-91e5-447c-b29d-9f625c8b7500",
   "metadata": {},
   "outputs": [
    {
     "name": "stdout",
     "output_type": "stream",
     "text": [
      "Accuracy:\t0.9574481618114744\n",
      "Precision:\t0.7613065326633166\n",
      "Recall:\t\t0.5585253456221199\n",
      "F1:\t\t0.6443381180223285\n"
     ]
    }
   ],
   "source": [
    "# last version of the model\n",
    "rf_n = RandomForestClassifier(n_estimators = 60, max_depth = 13, min_samples_leaf = 40, min_samples_split=80, max_features='sqrt',random_state=10, n_jobs=-1)\n",
    "rf_n.fit(x_train_data, y_train_data.values.ravel())\n",
    "\n",
    "# calculate metrics of testing\n",
    "y_test_pred = rf_n.predict(x_test_data)\n",
    "pred_metrics(y_test_data, y_test_pred)"
   ]
  },
  {
   "cell_type": "code",
   "execution_count": null,
   "id": "5d322ac3-ebee-4ac1-a399-40e12b751bd3",
   "metadata": {},
   "outputs": [
    {
     "data": {
      "text/plain": [
       "array([0.64201183, 0.68635724, 0.66666667, 0.67621777, 0.66378066,\n",
       "       0.68994413, 0.67136812, 0.64723032, 0.62898551, 0.68465909])"
      ]
     },
     "execution_count": null,
     "metadata": {},
     "output_type": "execute_result"
    }
   ],
   "source": [
    "# cross validation\n",
    "cross_val_score(rf_n, x_train_data, y_train_data.values.ravel(), cv= 10, scoring = 'f1',n_jobs=-1)"
   ]
  },
  {
   "cell_type": "code",
   "execution_count": null,
   "id": "8d84cf4d-51da-47a9-8f45-e7944e47ab6d",
   "metadata": {},
   "outputs": [],
   "source": []
  }
 ],
 "metadata": {
  "kernelspec": {
   "display_name": "Python 3 (ipykernel)",
   "language": "python",
   "name": "python3"
  }
 },
 "nbformat": 4,
 "nbformat_minor": 5
}
