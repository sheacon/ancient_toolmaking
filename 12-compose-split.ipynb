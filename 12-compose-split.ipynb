{
 "cells": [
  {
   "attachments": {},
   "cell_type": "markdown",
   "id": "4f8c7283-cd31-461d-a32e-fabcfea2d1e9",
   "metadata": {},
   "source": [
    "# Compose and Split"
   ]
  },
  {
   "cell_type": "code",
   "execution_count": 10,
   "id": "ddad166f-3e73-4e97-9628-a084e7732b21",
   "metadata": {},
   "outputs": [],
   "source": [
    "# import packages\n",
    "import numpy as np\n",
    "import pandas as pd\n",
    "import janitor # conda install -c conda-forge pyjanitor\n",
    "from sklearn.model_selection import train_test_split"
   ]
  },
  {
   "cell_type": "code",
   "execution_count": 11,
   "id": "81dddeff-3eda-4b3a-b282-da08318805d2",
   "metadata": {},
   "outputs": [
    {
     "name": "stdout",
     "output_type": "stream",
     "text": [
      "soil (73313, 48)\n",
      "stone (5299, 48)\n"
     ]
    }
   ],
   "source": [
    "# read data files and clean names\n",
    "\n",
    "# archaeological soil samples (i.e. dirt)\n",
    "soil_data = pd.read_csv('data/data_raw/archaeological_soil_data.csv', sep = ',', skiprows=[1]).clean_names()\n",
    "print('soil',soil_data.shape)\n",
    "\n",
    "# lithic experimental samples (i.e. stone particles)\n",
    "stone_data = pd.read_csv('data/data_raw/lithic_experimental_data.csv', sep = ',', skiprows=[1]).clean_names()\n",
    "print('stone',stone_data.shape)"
   ]
  },
  {
   "cell_type": "code",
   "execution_count": 12,
   "id": "2406ee2a-803d-4f6e-9636-4747b66d4a48",
   "metadata": {},
   "outputs": [],
   "source": [
    "# add indicator column\n",
    "soil_data['stone_soil'] = 'soil'\n",
    "stone_data['stone_soil'] = 'stone'"
   ]
  },
  {
   "cell_type": "code",
   "execution_count": 13,
   "id": "70fa5a77-2d0f-42af-954a-cc4aa6615e80",
   "metadata": {},
   "outputs": [
    {
     "data": {
      "text/plain": [
       "array([ True,  True,  True,  True,  True,  True,  True,  True,  True,\n",
       "        True,  True,  True,  True,  True,  True,  True,  True,  True,\n",
       "        True,  True,  True,  True,  True,  True,  True,  True,  True,\n",
       "        True,  True,  True,  True,  True,  True,  True,  True,  True,\n",
       "        True,  True,  True,  True,  True,  True,  True,  True,  True,\n",
       "        True,  True,  True,  True])"
      ]
     },
     "execution_count": 13,
     "metadata": {},
     "output_type": "execute_result"
    }
   ],
   "source": [
    "# confirm same columns in both sets\n",
    "soil_data.columns == stone_data.columns"
   ]
  },
  {
   "cell_type": "code",
   "execution_count": 14,
   "id": "a7844047-e998-4f49-b7b2-30e61cea789c",
   "metadata": {},
   "outputs": [],
   "source": [
    "# combine\n",
    "df = pd.concat([soil_data, stone_data]).reset_index(drop=True)"
   ]
  },
  {
   "cell_type": "code",
   "execution_count": 15,
   "id": "05e1e361-e644-43dd-ba71-face4048129b",
   "metadata": {},
   "outputs": [
    {
     "name": "stdout",
     "output_type": "stream",
     "text": [
      "(78612, 49)\n",
      "Index(['id', 'img_id', 'da', 'dp', 'fwidth', 'flength', 'fthickness',\n",
      "       'elength', 'ethickness', 'ewidth', 'volume', 'area', 'perimeter',\n",
      "       'chull_area', 'chull_perimeter', 'sphericity', 'l_t_ratio',\n",
      "       't_l_aspect_ratio', 'compactness', 'roundness', 'ellipse_ratio',\n",
      "       'circularity', 'solidity', 'concavity', 'convexity', 'extent', 'hash',\n",
      "       'transparency', 'curvature', 'surface_area', 'filter0', 'filter1',\n",
      "       'filter2', 'filter3', 'filter4', 'filter5', 'filter6', 'l_w_ratio',\n",
      "       'w_l_ratio', 'w_t_ratio', 't_w_ratio', 'chull_surface_area', 'sieve',\n",
      "       'angularity', 'ellipticity', 'fiber_length', 'fiber_width',\n",
      "       'krumbein_rnd', 'stone_soil'],\n",
      "      dtype='object')\n"
     ]
    }
   ],
   "source": [
    "# confirm\n",
    "print(df.shape)\n",
    "print(df.columns)"
   ]
  },
  {
   "cell_type": "code",
   "execution_count": 19,
   "id": "b1656242",
   "metadata": {},
   "outputs": [],
   "source": [
    "# drop columns with no meaningful data\n",
    "df.drop(columns=['filter0', 'filter1','filter2', 'filter3', 'filter4', 'filter5', 'filter6'], inplace=True)"
   ]
  },
  {
   "cell_type": "code",
   "execution_count": 20,
   "id": "ce10b6a5",
   "metadata": {},
   "outputs": [],
   "source": [
    "# train/test split\n",
    "train_data, test_data = train_test_split(df, train_size = 0.8, random_state = 1)"
   ]
  },
  {
   "cell_type": "code",
   "execution_count": 21,
   "id": "f7f10e2c",
   "metadata": {},
   "outputs": [
    {
     "name": "stdout",
     "output_type": "stream",
     "text": [
      "(62889, 42)\n",
      "(15723, 42)\n"
     ]
    }
   ],
   "source": [
    "print(train_data.shape)\n",
    "print(test_data.shape)"
   ]
  },
  {
   "cell_type": "code",
   "execution_count": 23,
   "id": "e297480b",
   "metadata": {},
   "outputs": [],
   "source": [
    "# store data\n",
    "df.to_csv('data/cumulative_data.csv', index = False)\n",
    "train_data.to_csv('data/train_data.csv', index = False)\n",
    "test_data.to_csv('data/test_data.csv', index = False)"
   ]
  },
  {
   "cell_type": "code",
   "execution_count": null,
   "id": "4eecae09",
   "metadata": {},
   "outputs": [],
   "source": []
  }
 ],
 "metadata": {
  "kernelspec": {
   "display_name": "base",
   "language": "python",
   "name": "python3"
  },
  "language_info": {
   "codemirror_mode": {
    "name": "ipython",
    "version": 3
   },
   "file_extension": ".py",
   "mimetype": "text/x-python",
   "name": "python",
   "nbconvert_exporter": "python",
   "pygments_lexer": "ipython3",
   "version": "3.9.13 (main, Aug 25 2022, 18:29:29) \n[Clang 12.0.0 ]"
  },
  "vscode": {
   "interpreter": {
    "hash": "9ce51b511e31678062ea377e4f294f92e7c7692784d9643ac534d9eb5246e9c5"
   }
  }
 },
 "nbformat": 4,
 "nbformat_minor": 5
}
