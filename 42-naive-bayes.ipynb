{
 "cells": [
  {
   "attachments": {},
   "cell_type": "markdown",
   "id": "88722dd6-dfed-41e4-9aee-5b4c3f1d77ed",
   "metadata": {},
   "source": [
    "# Naive Bayes Classification\n",
    "\n",
    "**Basic Description**\n",
    "\n",
    "- Naive Bayes models are a group of extremely fast and simple classiciation algorithms that are often suitable for high-dimensional datasets\n",
    "- Because they are so fast and have so few tunable parameters, they are useful as a quick-and-dirty baseline for a classification problem\n",
    "- In Bayesian classification, we're interested in finding the probability of a label given some observed features. As a generative model, Naive Bayes specifies the hypothetical random process that generates the data. The \"naive\" in Naive Bayes comes from the fact that naive assumptions are made about the generative model for each label\n",
    "- Here I choose a Gaussian Naive Bayes Classifier because our model features are continuous.\n",
    "\n",
    "**Bias-Variance Tradeoff**\n",
    "- Its simplicity makes for high bias and low variance \n",
    "\n",
    "**Upsides**\n",
    "- Fast for training and prediction\n",
    "- Straightforward probabilistic prediction\n",
    "- Easily interprettable\n",
    "- Few, if any, tuning parameters\n",
    "\n",
    "**Downsides**\n",
    "- Its strong assumptions are often not met\n",
    "\n",
    "**Other Notes**\n"
   ]
  },
  {
   "attachments": {},
   "cell_type": "markdown",
   "id": "e357dc6a",
   "metadata": {},
   "source": [
    "## Load Packages and Prep Data"
   ]
  },
  {
   "cell_type": "code",
   "execution_count": 1,
   "id": "faeec843-4a33-4a41-bd48-3036df035d11",
   "metadata": {},
   "outputs": [],
   "source": [
    "# custom utils\n",
    "from utils import custom\n",
    "from utils.cf_matrix import make_confusion_matrix\n",
    "\n",
    "import numpy as np\n",
    "import pandas as pd\n",
    "import matplotlib.pyplot as plt\n",
    "import seaborn as sns\n",
    "\n",
    "from sklearn.feature_selection import RFECV\n",
    "from sklearn.linear_model import Lasso\n",
    "from sklearn.naive_bayes import GaussianNB"
   ]
  },
  {
   "cell_type": "code",
   "execution_count": 2,
   "id": "ec6a75fc-26ec-412e-9c19-b5080c4047ad",
   "metadata": {},
   "outputs": [
    {
     "name": "stdout",
     "output_type": "stream",
     "text": [
      "X_train (62889, 42)\n",
      "y_train (62889,)\n",
      "X_test (15723, 42)\n",
      "y_test (15723,)\n"
     ]
    }
   ],
   "source": [
    "# load data\n",
    "X_train, y_train, X_test, y_test = custom.load_data()"
   ]
  },
  {
   "attachments": {},
   "cell_type": "markdown",
   "id": "9e89b4c3",
   "metadata": {},
   "source": [
    "## Model 1"
   ]
  },
  {
   "cell_type": "code",
   "execution_count": 3,
   "id": "3bd6341e-509c-4548-8d15-1a7ea5b1df60",
   "metadata": {},
   "outputs": [],
   "source": [
    "# fit model\n",
    "classifier = GaussianNB()\n",
    "nb_1 = classifier.fit(X_train, y_train)"
   ]
  },
  {
   "cell_type": "code",
   "execution_count": 4,
   "id": "3d01ea02-a705-4b85-a024-450b7809a76b",
   "metadata": {},
   "outputs": [
    {
     "data": {
      "text/plain": [
       "accuracy     0.916\n",
       "precision    0.225\n",
       "recall       0.101\n",
       "f1           0.139\n",
       "dtype: float64"
      ]
     },
     "execution_count": 4,
     "metadata": {},
     "output_type": "execute_result"
    }
   ],
   "source": [
    "# cross-validation scoring\n",
    "nb_1_scores = custom.cv_metrics(nb_1, X_train, y_train)\n",
    "nb_1_scores"
   ]
  },
  {
   "attachments": {},
   "cell_type": "markdown",
   "id": "f5413719-6c3b-498c-a5d8-82fef66a982b",
   "metadata": {},
   "source": [
    "## Conclusion\n",
    "- Due to very poor performance with this initial exploratory fit, I'm devoting resources towards tuning other models before returning here."
   ]
  },
  {
   "cell_type": "markdown",
   "id": "ea3e29dc",
   "metadata": {},
   "source": []
  }
 ],
 "metadata": {
  "kernelspec": {
   "display_name": "base",
   "language": "python",
   "name": "python3"
  },
  "language_info": {
   "codemirror_mode": {
    "name": "ipython",
    "version": 3
   },
   "file_extension": ".py",
   "mimetype": "text/x-python",
   "name": "python",
   "nbconvert_exporter": "python",
   "pygments_lexer": "ipython3",
   "version": "3.9.13"
  },
  "vscode": {
   "interpreter": {
    "hash": "9ce51b511e31678062ea377e4f294f92e7c7692784d9643ac534d9eb5246e9c5"
   }
  }
 },
 "nbformat": 4,
 "nbformat_minor": 5
}
