{
 "cells": [
  {
   "cell_type": "markdown",
   "id": "88722dd6-dfed-41e4-9aee-5b4c3f1d77ed",
   "metadata": {},
   "source": [
    "### Modeling\n",
    "#### Naive Bayes Classification\n",
    "\n",
    "Naive Bayes models are a group of extremely fast and simple classiciation algorithsm that are often suitable for high-dimensional datasets. Because they are so fast and have so few tunable parameters, they are useful as a quick-and-dirty baseline for a classification problem.\n",
    "\n",
    "In Bayesian classification, we're interested in finding the probability of a label given some observed features. As a generative model, Naive Bayes specifies the hypothetical random process that generates the data. The \"naive\" in Naive Bayes comes from the fact that naive assumptions are made about the generative model for each label.\n",
    "\n",
    "Benefits of Bayes Classifiers:\n",
    "- Fast for training and prediction\n",
    "- Straightforward probabilistic prediction\n",
    "- Easily interprettable\n",
    "- Few, if any, tuning parameters\n",
    "\n",
    "Naive Bayes Classifiers:\n",
    "- Gaussian\n",
    "- Multinomial\n",
    "- Bernoulli\n",
    "\n",
    "Here I choose a Gaussian Naive Bayes Classifier because our model features are continuous."
   ]
  },
  {
   "cell_type": "code",
   "execution_count": null,
   "id": "faeec843-4a33-4a41-bd48-3036df035d11",
   "metadata": {},
   "outputs": [],
   "source": [
    "# load libraries\n",
    "\n",
    "# load data and visualization\n",
    "import numpy as np\n",
    "import pandas as pd\n",
    "import seaborn as sns\n",
    "\n",
    "# machine learning\n",
    "from sklearn.naive_bayes import GaussianNB\n",
    "from sklearn.model_selection import train_test_split, cross_val_predict, cross_val_score, GridSearchCV\n",
    "from sklearn.feature_selection import RFECV\n",
    "from sklearn.linear_model import Lasso\n",
    "from sklearn.metrics import precision_score, recall_score, f1_score, accuracy_score, confusion_matrix\n"
   ]
  },
  {
   "cell_type": "code",
   "execution_count": null,
   "id": "ec6a75fc-26ec-412e-9c19-b5080c4047ad",
   "metadata": {},
   "outputs": [],
   "source": [
    "# load data from csv\n",
    "\n",
    "train_data = pd.read_csv('data/train_data_fe.csv')\n",
    "test_data = pd.read_csv('data/test_data_fe.csv')\n"
   ]
  },
  {
   "cell_type": "code",
   "execution_count": null,
   "id": "f4b057da-d3e3-420f-b9f9-b74c47efaf51",
   "metadata": {},
   "outputs": [
    {
     "data": {
      "text/html": [
       "<div>\n",
       "<style scoped>\n",
       "    .dataframe tbody tr th:only-of-type {\n",
       "        vertical-align: middle;\n",
       "    }\n",
       "\n",
       "    .dataframe tbody tr th {\n",
       "        vertical-align: top;\n",
       "    }\n",
       "\n",
       "    .dataframe thead th {\n",
       "        text-align: right;\n",
       "    }\n",
       "</style>\n",
       "<table border=\"1\" class=\"dataframe\">\n",
       "  <thead>\n",
       "    <tr style=\"text-align: right;\">\n",
       "      <th></th>\n",
       "      <th>id</th>\n",
       "      <th>img_id</th>\n",
       "      <th>da</th>\n",
       "      <th>dp</th>\n",
       "      <th>fwidth</th>\n",
       "      <th>flength</th>\n",
       "      <th>fthickness</th>\n",
       "      <th>elength</th>\n",
       "      <th>ethickness</th>\n",
       "      <th>ewidth</th>\n",
       "      <th>...</th>\n",
       "      <th>ellipticity</th>\n",
       "      <th>fiber_length</th>\n",
       "      <th>fiber_width</th>\n",
       "      <th>krumbein_rnd</th>\n",
       "      <th>stone_soil</th>\n",
       "      <th>thick_vol_prod</th>\n",
       "      <th>thick_perm_prod</th>\n",
       "      <th>thick_trans_prod</th>\n",
       "      <th>rnd_ell_prod</th>\n",
       "      <th>stone_soil_enc</th>\n",
       "    </tr>\n",
       "  </thead>\n",
       "  <tbody>\n",
       "    <tr>\n",
       "      <th>0</th>\n",
       "      <td>11680</td>\n",
       "      <td>7936</td>\n",
       "      <td>0.005536</td>\n",
       "      <td>0.003348</td>\n",
       "      <td>0.003611</td>\n",
       "      <td>0.002566</td>\n",
       "      <td>0.005662</td>\n",
       "      <td>0.003406</td>\n",
       "      <td>0.006415</td>\n",
       "      <td>0.003943</td>\n",
       "      <td>...</td>\n",
       "      <td>0.035570</td>\n",
       "      <td>0.000000</td>\n",
       "      <td>0.000000</td>\n",
       "      <td>1.0</td>\n",
       "      <td>soil</td>\n",
       "      <td>1.845767e-09</td>\n",
       "      <td>0.000052</td>\n",
       "      <td>0.000000</td>\n",
       "      <td>0.220725</td>\n",
       "      <td>0</td>\n",
       "    </tr>\n",
       "    <tr>\n",
       "      <th>1</th>\n",
       "      <td>45478</td>\n",
       "      <td>15130</td>\n",
       "      <td>0.007464</td>\n",
       "      <td>0.004704</td>\n",
       "      <td>0.005979</td>\n",
       "      <td>0.003631</td>\n",
       "      <td>0.009375</td>\n",
       "      <td>0.004436</td>\n",
       "      <td>0.008944</td>\n",
       "      <td>0.005497</td>\n",
       "      <td>...</td>\n",
       "      <td>0.029433</td>\n",
       "      <td>0.000000</td>\n",
       "      <td>0.000000</td>\n",
       "      <td>1.0</td>\n",
       "      <td>soil</td>\n",
       "      <td>1.140420e-08</td>\n",
       "      <td>0.000106</td>\n",
       "      <td>0.021905</td>\n",
       "      <td>0.210526</td>\n",
       "      <td>0</td>\n",
       "    </tr>\n",
       "    <tr>\n",
       "      <th>2</th>\n",
       "      <td>16623</td>\n",
       "      <td>8959</td>\n",
       "      <td>0.005823</td>\n",
       "      <td>0.003265</td>\n",
       "      <td>0.004310</td>\n",
       "      <td>0.002339</td>\n",
       "      <td>0.006758</td>\n",
       "      <td>0.003208</td>\n",
       "      <td>0.007217</td>\n",
       "      <td>0.004436</td>\n",
       "      <td>...</td>\n",
       "      <td>0.024371</td>\n",
       "      <td>0.000000</td>\n",
       "      <td>0.000000</td>\n",
       "      <td>1.0</td>\n",
       "      <td>soil</td>\n",
       "      <td>4.284816e-09</td>\n",
       "      <td>0.000060</td>\n",
       "      <td>0.017676</td>\n",
       "      <td>0.235653</td>\n",
       "      <td>0</td>\n",
       "    </tr>\n",
       "    <tr>\n",
       "      <th>3</th>\n",
       "      <td>40689</td>\n",
       "      <td>13711</td>\n",
       "      <td>0.007587</td>\n",
       "      <td>0.004815</td>\n",
       "      <td>0.006018</td>\n",
       "      <td>0.003771</td>\n",
       "      <td>0.009436</td>\n",
       "      <td>0.004694</td>\n",
       "      <td>0.008821</td>\n",
       "      <td>0.005422</td>\n",
       "      <td>...</td>\n",
       "      <td>0.033913</td>\n",
       "      <td>0.004139</td>\n",
       "      <td>0.009476</td>\n",
       "      <td>1.0</td>\n",
       "      <td>soil</td>\n",
       "      <td>1.433765e-08</td>\n",
       "      <td>0.000109</td>\n",
       "      <td>0.023930</td>\n",
       "      <td>0.219033</td>\n",
       "      <td>0</td>\n",
       "    </tr>\n",
       "    <tr>\n",
       "      <th>4</th>\n",
       "      <td>5106</td>\n",
       "      <td>5866</td>\n",
       "      <td>0.005536</td>\n",
       "      <td>0.003348</td>\n",
       "      <td>0.003611</td>\n",
       "      <td>0.002566</td>\n",
       "      <td>0.005662</td>\n",
       "      <td>0.003406</td>\n",
       "      <td>0.006415</td>\n",
       "      <td>0.003943</td>\n",
       "      <td>...</td>\n",
       "      <td>0.035570</td>\n",
       "      <td>0.000000</td>\n",
       "      <td>0.000000</td>\n",
       "      <td>1.0</td>\n",
       "      <td>soil</td>\n",
       "      <td>1.845767e-09</td>\n",
       "      <td>0.000052</td>\n",
       "      <td>0.000000</td>\n",
       "      <td>0.220725</td>\n",
       "      <td>0</td>\n",
       "    </tr>\n",
       "  </tbody>\n",
       "</table>\n",
       "<p>5 rows × 47 columns</p>\n",
       "</div>"
      ],
      "text/plain": [
       "      id  img_id        da        dp    fwidth   flength  fthickness  \\\n",
       "0  11680    7936  0.005536  0.003348  0.003611  0.002566    0.005662   \n",
       "1  45478   15130  0.007464  0.004704  0.005979  0.003631    0.009375   \n",
       "2  16623    8959  0.005823  0.003265  0.004310  0.002339    0.006758   \n",
       "3  40689   13711  0.007587  0.004815  0.006018  0.003771    0.009436   \n",
       "4   5106    5866  0.005536  0.003348  0.003611  0.002566    0.005662   \n",
       "\n",
       "    elength  ethickness    ewidth  ...  ellipticity  fiber_length  \\\n",
       "0  0.003406    0.006415  0.003943  ...     0.035570      0.000000   \n",
       "1  0.004436    0.008944  0.005497  ...     0.029433      0.000000   \n",
       "2  0.003208    0.007217  0.004436  ...     0.024371      0.000000   \n",
       "3  0.004694    0.008821  0.005422  ...     0.033913      0.004139   \n",
       "4  0.003406    0.006415  0.003943  ...     0.035570      0.000000   \n",
       "\n",
       "   fiber_width  krumbein_rnd  stone_soil  thick_vol_prod  thick_perm_prod  \\\n",
       "0     0.000000           1.0        soil    1.845767e-09         0.000052   \n",
       "1     0.000000           1.0        soil    1.140420e-08         0.000106   \n",
       "2     0.000000           1.0        soil    4.284816e-09         0.000060   \n",
       "3     0.009476           1.0        soil    1.433765e-08         0.000109   \n",
       "4     0.000000           1.0        soil    1.845767e-09         0.000052   \n",
       "\n",
       "   thick_trans_prod  rnd_ell_prod  stone_soil_enc  \n",
       "0          0.000000      0.220725               0  \n",
       "1          0.021905      0.210526               0  \n",
       "2          0.017676      0.235653               0  \n",
       "3          0.023930      0.219033               0  \n",
       "4          0.000000      0.220725               0  \n",
       "\n",
       "[5 rows x 47 columns]"
      ]
     },
     "metadata": {},
     "output_type": "display_data"
    },
    {
     "name": "stdout",
     "output_type": "stream",
     "text": [
      "<class 'pandas.core.frame.DataFrame'>\n",
      "RangeIndex: 62890 entries, 0 to 62889\n",
      "Data columns (total 47 columns):\n",
      " #   Column              Non-Null Count  Dtype  \n",
      "---  ------              --------------  -----  \n",
      " 0   id                  62890 non-null  int64  \n",
      " 1   img_id              62890 non-null  int64  \n",
      " 2   da                  62890 non-null  float64\n",
      " 3   dp                  62890 non-null  float64\n",
      " 4   fwidth              62890 non-null  float64\n",
      " 5   flength             62890 non-null  float64\n",
      " 6   fthickness          62890 non-null  float64\n",
      " 7   elength             62890 non-null  float64\n",
      " 8   ethickness          62890 non-null  float64\n",
      " 9   ewidth              62890 non-null  float64\n",
      " 10  volume              62890 non-null  float64\n",
      " 11  area                62890 non-null  float64\n",
      " 12  perimeter           62890 non-null  float64\n",
      " 13  chull_area          62890 non-null  float64\n",
      " 14  chull_perimeter     62890 non-null  float64\n",
      " 15  sphericity          62890 non-null  float64\n",
      " 16  l_t_ratio           62890 non-null  float64\n",
      " 17  t_l_aspect_ratio    62890 non-null  float64\n",
      " 18  compactness         62890 non-null  float64\n",
      " 19  roundness           62890 non-null  float64\n",
      " 20  ellipse_ratio       62890 non-null  float64\n",
      " 21  circularity         62890 non-null  float64\n",
      " 22  solidity            62890 non-null  float64\n",
      " 23  concavity           62890 non-null  float64\n",
      " 24  convexity           62890 non-null  float64\n",
      " 25  extent              62890 non-null  float64\n",
      " 26  hash                62890 non-null  int64  \n",
      " 27  transparency        62890 non-null  float64\n",
      " 28  curvature           62890 non-null  float64\n",
      " 29  surface_area        62890 non-null  float64\n",
      " 30  l_w_ratio           62890 non-null  float64\n",
      " 31  w_l_ratio           62890 non-null  float64\n",
      " 32  w_t_ratio           62890 non-null  float64\n",
      " 33  t_w_ratio           62890 non-null  float64\n",
      " 34  chull_surface_area  62890 non-null  float64\n",
      " 35  sieve               62890 non-null  float64\n",
      " 36  angularity          62890 non-null  float64\n",
      " 37  ellipticity         62890 non-null  float64\n",
      " 38  fiber_length        62890 non-null  float64\n",
      " 39  fiber_width         62890 non-null  float64\n",
      " 40  krumbein_rnd        62890 non-null  float64\n",
      " 41  stone_soil          62890 non-null  object \n",
      " 42  thick_vol_prod      62890 non-null  float64\n",
      " 43  thick_perm_prod     62890 non-null  float64\n",
      " 44  thick_trans_prod    62890 non-null  float64\n",
      " 45  rnd_ell_prod        62890 non-null  float64\n",
      " 46  stone_soil_enc      62890 non-null  int64  \n",
      "dtypes: float64(42), int64(4), object(1)\n",
      "memory usage: 22.6+ MB\n"
     ]
    }
   ],
   "source": [
    "# basic train data info\n",
    "\n",
    "display(train_data.head())\n",
    "train_data.info()\n"
   ]
  },
  {
   "cell_type": "code",
   "execution_count": null,
   "id": "663d32ac-a36b-43a4-aa6e-09a25f86cf71",
   "metadata": {},
   "outputs": [],
   "source": [
    "# drop unneeded columns\n",
    "\n",
    "train_data.drop(['id','img_id','hash','stone_soil'], axis = 1, inplace = True)\n"
   ]
  },
  {
   "cell_type": "code",
   "execution_count": null,
   "id": "474a7d67-efe3-4d39-a6f0-fb2dcca31de3",
   "metadata": {},
   "outputs": [],
   "source": [
    "x = train_data.drop('stone_soil_enc', axis = 1)\n",
    "y = train_data['stone_soil_enc']"
   ]
  },
  {
   "cell_type": "code",
   "execution_count": null,
   "id": "389ec44c-b91c-418e-a20d-a5e77f63fe28",
   "metadata": {},
   "outputs": [],
   "source": [
    "# Splitting data into training and testing\n",
    "x_train, x_test, y_train, y_test = train_test_split(x, y, train_size = 0.8, random_state = 20220216)"
   ]
  },
  {
   "cell_type": "code",
   "execution_count": null,
   "id": "171007e4-7f4b-4031-b199-203db66bae18",
   "metadata": {},
   "outputs": [
    {
     "data": {
      "text/plain": [
       "Index(['da', 'dp', 'fwidth', 'flength', 'fthickness', 'elength', 'ethickness',\n",
       "       'ewidth', 'volume', 'area', 'perimeter', 'chull_area',\n",
       "       'chull_perimeter', 'sphericity', 'l_t_ratio', 't_l_aspect_ratio',\n",
       "       'compactness', 'roundness', 'ellipse_ratio', 'circularity', 'solidity',\n",
       "       'concavity', 'convexity', 'extent', 'transparency', 'curvature',\n",
       "       'surface_area', 'l_w_ratio', 'w_l_ratio', 'w_t_ratio', 't_w_ratio',\n",
       "       'chull_surface_area', 'sieve', 'angularity', 'ellipticity',\n",
       "       'fiber_length', 'fiber_width', 'krumbein_rnd', 'thick_vol_prod',\n",
       "       'thick_perm_prod', 'thick_trans_prod', 'rnd_ell_prod'],\n",
       "      dtype='object')"
      ]
     },
     "execution_count": null,
     "metadata": {},
     "output_type": "execute_result"
    }
   ],
   "source": [
    "x_train.columns"
   ]
  },
  {
   "cell_type": "code",
   "execution_count": null,
   "id": "2a0d9e6f-e783-4a05-afd2-b01f03df4583",
   "metadata": {},
   "outputs": [],
   "source": [
    "## recursive feature elimination via lasso regression\n",
    "model_rfe = RFECV(Lasso(alpha = 0.0001), cv = 5)\n",
    "x = model_rfe.fit(x_train, y_train)\n",
    "rfe = model_rfe.ranking_\n",
    "features = ['da', 'dp', 'fwidth', 'flength', 'fthickness', 'elength', 'ethickness',\n",
    "       'ewidth', 'volume', 'area', 'perimeter', 'chull_area',\n",
    "       'chull_perimeter', 'sphericity', 'l_t_ratio', 't_l_aspect_ratio',\n",
    "       'compactness', 'roundness', 'ellipse_ratio', 'circularity', 'solidity',\n",
    "       'concavity', 'convexity', 'extent', 'transparency', 'curvature',\n",
    "       'surface_area', 'l_w_ratio', 'w_l_ratio', 'w_t_ratio', 't_w_ratio',\n",
    "       'chull_surface_area', 'sieve', 'angularity', 'ellipticity',\n",
    "       'fiber_length', 'fiber_width', 'krumbein_rnd', 'thick_vol_prod',\n",
    "       'thick_perm_prod', 'thick_trans_prod', 'rnd_ell_prod']\n",
    "rfe_df = pd.DataFrame({'features': features, 'rfe_rank': rfe}, index = np.arange(len(features)))"
   ]
  },
  {
   "cell_type": "code",
   "execution_count": null,
   "id": "76e16e98-c80f-4229-a598-9b5b820af668",
   "metadata": {},
   "outputs": [],
   "source": [
    "# selecting predictive features\n",
    "new_rfe = rfe_df[rfe_df[\"rfe_rank\"] == 1]"
   ]
  },
  {
   "cell_type": "code",
   "execution_count": null,
   "id": "4ee67137-8e3c-4016-9d49-e022658af90c",
   "metadata": {},
   "outputs": [
    {
     "data": {
      "text/html": [
       "<div>\n",
       "<style scoped>\n",
       "    .dataframe tbody tr th:only-of-type {\n",
       "        vertical-align: middle;\n",
       "    }\n",
       "\n",
       "    .dataframe tbody tr th {\n",
       "        vertical-align: top;\n",
       "    }\n",
       "\n",
       "    .dataframe thead th {\n",
       "        text-align: right;\n",
       "    }\n",
       "</style>\n",
       "<table border=\"1\" class=\"dataframe\">\n",
       "  <thead>\n",
       "    <tr style=\"text-align: right;\">\n",
       "      <th></th>\n",
       "      <th>features</th>\n",
       "      <th>rfe_rank</th>\n",
       "    </tr>\n",
       "  </thead>\n",
       "  <tbody>\n",
       "    <tr>\n",
       "      <th>0</th>\n",
       "      <td>da</td>\n",
       "      <td>1</td>\n",
       "    </tr>\n",
       "    <tr>\n",
       "      <th>18</th>\n",
       "      <td>ellipse_ratio</td>\n",
       "      <td>1</td>\n",
       "    </tr>\n",
       "    <tr>\n",
       "      <th>19</th>\n",
       "      <td>circularity</td>\n",
       "      <td>1</td>\n",
       "    </tr>\n",
       "    <tr>\n",
       "      <th>20</th>\n",
       "      <td>solidity</td>\n",
       "      <td>1</td>\n",
       "    </tr>\n",
       "    <tr>\n",
       "      <th>24</th>\n",
       "      <td>transparency</td>\n",
       "      <td>1</td>\n",
       "    </tr>\n",
       "    <tr>\n",
       "      <th>25</th>\n",
       "      <td>curvature</td>\n",
       "      <td>1</td>\n",
       "    </tr>\n",
       "    <tr>\n",
       "      <th>27</th>\n",
       "      <td>l_w_ratio</td>\n",
       "      <td>1</td>\n",
       "    </tr>\n",
       "    <tr>\n",
       "      <th>28</th>\n",
       "      <td>w_l_ratio</td>\n",
       "      <td>1</td>\n",
       "    </tr>\n",
       "    <tr>\n",
       "      <th>29</th>\n",
       "      <td>w_t_ratio</td>\n",
       "      <td>1</td>\n",
       "    </tr>\n",
       "    <tr>\n",
       "      <th>30</th>\n",
       "      <td>t_w_ratio</td>\n",
       "      <td>1</td>\n",
       "    </tr>\n",
       "    <tr>\n",
       "      <th>33</th>\n",
       "      <td>angularity</td>\n",
       "      <td>1</td>\n",
       "    </tr>\n",
       "    <tr>\n",
       "      <th>34</th>\n",
       "      <td>ellipticity</td>\n",
       "      <td>1</td>\n",
       "    </tr>\n",
       "    <tr>\n",
       "      <th>36</th>\n",
       "      <td>fiber_width</td>\n",
       "      <td>1</td>\n",
       "    </tr>\n",
       "    <tr>\n",
       "      <th>41</th>\n",
       "      <td>rnd_ell_prod</td>\n",
       "      <td>1</td>\n",
       "    </tr>\n",
       "  </tbody>\n",
       "</table>\n",
       "</div>"
      ],
      "text/plain": [
       "         features  rfe_rank\n",
       "0              da         1\n",
       "18  ellipse_ratio         1\n",
       "19    circularity         1\n",
       "20       solidity         1\n",
       "24   transparency         1\n",
       "25      curvature         1\n",
       "27      l_w_ratio         1\n",
       "28      w_l_ratio         1\n",
       "29      w_t_ratio         1\n",
       "30      t_w_ratio         1\n",
       "33     angularity         1\n",
       "34    ellipticity         1\n",
       "36    fiber_width         1\n",
       "41   rnd_ell_prod         1"
      ]
     },
     "execution_count": null,
     "metadata": {},
     "output_type": "execute_result"
    }
   ],
   "source": [
    "# list features\n",
    "new_rfe"
   ]
  },
  {
   "cell_type": "code",
   "execution_count": null,
   "id": "1c7c6ed7-495c-4b0d-86f2-2cc2c3375893",
   "metadata": {},
   "outputs": [],
   "source": [
    "l = []\n",
    "for col in new_rfe[\"features\"]:\n",
    "    l.append(col)\n",
    "x_train_new = x_train[l]\n",
    "x_test_new = x_test[l]"
   ]
  },
  {
   "cell_type": "code",
   "execution_count": null,
   "id": "3bd6341e-509c-4548-8d15-1a7ea5b1df60",
   "metadata": {},
   "outputs": [],
   "source": [
    "# fit naive bayes model\n",
    "\n",
    "classifier = GaussianNB()\n",
    "\n",
    "# train\n",
    "\n",
    "model = classifier.fit(x_train_new, y_train)"
   ]
  },
  {
   "cell_type": "code",
   "execution_count": null,
   "id": "15156864-351e-4e2b-b76d-5669662ffb46",
   "metadata": {},
   "outputs": [],
   "source": [
    "pred = model.predict(x_test_new)"
   ]
  },
  {
   "cell_type": "code",
   "execution_count": null,
   "id": "3cc6767e-1ae0-49c5-9fd3-ffe574301096",
   "metadata": {},
   "outputs": [
    {
     "data": {
      "text/plain": [
       "0.8820162187947209"
      ]
     },
     "execution_count": null,
     "metadata": {},
     "output_type": "execute_result"
    }
   ],
   "source": [
    "accuracy_score(y_test, pred)"
   ]
  },
  {
   "cell_type": "code",
   "execution_count": null,
   "id": "09bd0005-7c0e-4604-be13-f251d6e2ad5e",
   "metadata": {},
   "outputs": [
    {
     "data": {
      "text/plain": [
       "0.16510903426791276"
      ]
     },
     "execution_count": null,
     "metadata": {},
     "output_type": "execute_result"
    }
   ],
   "source": [
    "precision_score(y_test, pred)"
   ]
  },
  {
   "cell_type": "code",
   "execution_count": null,
   "id": "3d01ea02-a705-4b85-a024-450b7809a76b",
   "metadata": {},
   "outputs": [
    {
     "name": "stdout",
     "output_type": "stream",
     "text": [
      "[0.1446281  0.14527363 0.12929293 0.13953488 0.13771186]\n",
      "0.13928828168699778\n"
     ]
    }
   ],
   "source": [
    "# cross-validation with f1 metric\n",
    "\n",
    "model_score = cross_val_score(model, x_train, y_train, scoring = \"f1\")\n",
    "print(model_score)\n",
    "print(model_score.mean())"
   ]
  },
  {
   "cell_type": "code",
   "execution_count": null,
   "id": "1f4bea3a-7d77-41da-a401-ba87c1400279",
   "metadata": {},
   "outputs": [
    {
     "name": "stdout",
     "output_type": "stream",
     "text": [
      "[0.91771837 0.91463778 0.91433115 0.91542437 0.91910157]\n",
      "0.9162426484564457\n"
     ]
    }
   ],
   "source": [
    "# cross-validation with accuracy metric\n",
    "\n",
    "model_score = cross_val_score(model, x_train, y_train, scoring = \"accuracy\")\n",
    "print(model_score)\n",
    "print(model_score.mean())"
   ]
  },
  {
   "cell_type": "code",
   "execution_count": null,
   "id": "b903823d-fea0-4928-bc22-a0fba1271a9a",
   "metadata": {},
   "outputs": [
    {
     "name": "stdout",
     "output_type": "stream",
     "text": [
      "[0.23890785 0.22121212 0.2031746  0.21974522 0.24163569]\n",
      "0.22493509697567085\n"
     ]
    }
   ],
   "source": [
    "# cross-validation with precision metric\n",
    "\n",
    "model_score = cross_val_score(model, x_train, y_train, scoring = \"precision\")\n",
    "print(model_score)\n",
    "print(model_score.mean())"
   ]
  },
  {
   "cell_type": "code",
   "execution_count": null,
   "id": "b3699997-0e41-4e87-a213-73b0948a53f2",
   "metadata": {},
   "outputs": [
    {
     "name": "stdout",
     "output_type": "stream",
     "text": [
      "[0.1037037  0.10814815 0.09481481 0.10222222 0.0962963 ]\n",
      "0.10103703703703704\n"
     ]
    }
   ],
   "source": [
    "# cross-validation with recall metric\n",
    "\n",
    "model_score = cross_val_score(model, x_train, y_train, scoring = \"recall\")\n",
    "print(model_score)\n",
    "print(model_score.mean())"
   ]
  },
  {
   "cell_type": "code",
   "execution_count": null,
   "id": "1d326bbd-cac2-458f-b9b1-7c3b5b52e79e",
   "metadata": {},
   "outputs": [
    {
     "data": {
      "image/png": "[encoded data removed]",
      "text/plain": [
       "<Figure size 432x288 with 2 Axes>"
      ]
     },
     "metadata": {
      "needs_background": "light"
     },
     "output_type": "display_data"
    }
   ],
   "source": [
    "conf = confusion_matrix(y_test, pred)\n",
    "sns.heatmap(conf, annot=True, cmap = \"Blues\");"
   ]
  },
  {
   "cell_type": "code",
   "execution_count": null,
   "id": "f5413719-6c3b-498c-a5d8-82fef66a982b",
   "metadata": {},
   "outputs": [],
   "source": []
  }
 ],
 "metadata": {
  "kernelspec": {
   "display_name": "Python 3 (ipykernel)",
   "language": "python",
   "name": "python3"
  }
 },
 "nbformat": 4,
 "nbformat_minor": 5
}
