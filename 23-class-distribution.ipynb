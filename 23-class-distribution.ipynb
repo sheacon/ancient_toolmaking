{
 "cells": [
  {
   "cell_type": "markdown",
   "id": "6cf6557b-9e1f-431e-9360-8a363f443c5c",
   "metadata": {},
   "source": [
    "# Exploratory Data Analysis\n",
    "> Class distribution\n",
    "\n",
    "- Visualize the class distribution (how many lithic microdebitage particles vs how many soil particles) \n",
    "- Offer comments on downstream effects and decisions."
   ]
  },
  {
   "cell_type": "code",
   "execution_count": null,
   "id": "c23fb321-3dbf-404f-bf88-836c88eeeda1",
   "metadata": {},
   "outputs": [],
   "source": [
    "# load modules\n",
    "\n",
    "import numpy as np\n",
    "import pandas as pd\n",
    "import matplotlib.pyplot as plt\n",
    "import seaborn as sns"
   ]
  },
  {
   "cell_type": "code",
   "execution_count": null,
   "id": "abbcdc0a-bcad-468d-b9db-b151ec4d3c05",
   "metadata": {},
   "outputs": [
    {
     "data": {
      "text/html": [
       "<div>\n",
       "<style scoped>\n",
       "    .dataframe tbody tr th:only-of-type {\n",
       "        vertical-align: middle;\n",
       "    }\n",
       "\n",
       "    .dataframe tbody tr th {\n",
       "        vertical-align: top;\n",
       "    }\n",
       "\n",
       "    .dataframe thead th {\n",
       "        text-align: right;\n",
       "    }\n",
       "</style>\n",
       "<table border=\"1\" class=\"dataframe\">\n",
       "  <thead>\n",
       "    <tr style=\"text-align: right;\">\n",
       "      <th></th>\n",
       "      <th>stone_soil</th>\n",
       "      <th>counts</th>\n",
       "    </tr>\n",
       "  </thead>\n",
       "  <tbody>\n",
       "    <tr>\n",
       "      <th>0</th>\n",
       "      <td>soil</td>\n",
       "      <td>58676</td>\n",
       "    </tr>\n",
       "    <tr>\n",
       "      <th>1</th>\n",
       "      <td>stone</td>\n",
       "      <td>4214</td>\n",
       "    </tr>\n",
       "  </tbody>\n",
       "</table>\n",
       "</div>"
      ],
      "text/plain": [
       "  stone_soil  counts\n",
       "0       soil   58676\n",
       "1      stone    4214"
      ]
     },
     "execution_count": null,
     "metadata": {},
     "output_type": "execute_result"
    }
   ],
   "source": [
    "group = train_data.groupby('stone_soil').size().reset_index(name='counts')\n",
    "group"
   ]
  },
  {
   "cell_type": "code",
   "execution_count": null,
   "id": "d70a59bb-7b14-453e-a29d-690d5d3ad893",
   "metadata": {},
   "outputs": [
    {
     "data": {
      "text/plain": [
       "<BarContainer object of 2 artists>"
      ]
     },
     "execution_count": null,
     "metadata": {},
     "output_type": "execute_result"
    },
    {
     "data": {
      "image/png": "[encoded data removed]",
      "text/plain": [
       "<Figure size 432x288 with 1 Axes>"
      ]
     },
     "metadata": {
      "needs_background": "light"
     },
     "output_type": "display_data"
    }
   ],
   "source": [
    "plt.bar(data=group, x='stone_soil', height='counts')"
   ]
  },
  {
   "cell_type": "markdown",
   "id": "349386f6-2661-41cd-9965-924dbb194c49",
   "metadata": {},
   "source": [
    "Our project is a binary classification modeling question: is the sample soil or stone?\n",
    "\n",
    "As the discrete distribution above, we could see that the classes are highly imbalanced, which means if we always guess the sample is soil, we mostly will be correct - **but that doesn't make sense.**\n",
    "\n",
    "This indicates that we should focus more on **recall** rather than just accuracy when choosing metrics for modeling."
   ]
  },
  {
   "cell_type": "code",
   "execution_count": null,
   "id": "6c7144a2-15b6-497b-b6a8-e1a75ca5d4c6",
   "metadata": {},
   "outputs": [],
   "source": []
  }
 ],
 "metadata": {
  "kernelspec": {
   "display_name": "Python 3 (ipykernel)",
   "language": "python",
   "name": "python3"
  }
 },
 "nbformat": 4,
 "nbformat_minor": 5
}
