{
 "cells": [
  {
   "cell_type": "markdown",
   "id": "094b22ec-a0e0-40e3-88b4-4f1bea9401c8",
   "metadata": {},
   "source": [
    "## 46 - Modeling: Extra Trees Improved Model\n",
    "\n",
    "> Notebook to improve the model that we selected: Extra Trees\n"
   ]
  },
  {
   "cell_type": "code",
   "execution_count": null,
   "id": "c75f87a5-fc49-40e8-9c45-dee939fd2918",
   "metadata": {},
   "outputs": [],
   "source": [
    "# import needed packages\n",
    "import numpy as np\n",
    "import pandas as pd\n",
    "from sklearn.model_selection import cross_val_score\n",
    "from sklearn.model_selection import GridSearchCV\n",
    "from sklearn.ensemble import ExtraTreesClassifier\n",
    "from sklearn.model_selection import train_test_split\n",
    "from sklearn import metrics \n",
    "from sklearn.metrics import confusion_matrix, classification_report, f1_score, accuracy_score, precision_score, recall_score\n",
    "import matplotlib.pyplot as plt\n",
    "import seaborn as sns; sns.set_style(\"dark\")"
   ]
  },
  {
   "cell_type": "code",
   "execution_count": null,
   "id": "4b769d68-a3c1-4019-ab3c-7aec31f06be3",
   "metadata": {},
   "outputs": [],
   "source": [
    "# read the data\n",
    "full_data = pd.read_csv('data/cumulative_data_fe.csv')\n",
    "train_data = pd.read_csv('data/train_data_fe.csv')\n",
    "test_data = pd.read_csv('data/test_data_fe.csv')\n",
    "\n",
    "# drop columns\n",
    "y_train_data = pd.DataFrame(train_data['stone_soil_enc'])\n",
    "x_train_data = train_data.drop(['id', 'img_id', 'stone_soil', 'stone_soil_enc'], axis = 1)\n",
    "\n",
    "# drop columns\n",
    "y_test_data = pd.DataFrame(test_data['stone_soil_enc'])\n",
    "x_test_data = test_data.drop(['id', 'img_id', 'stone_soil', 'stone_soil_enc'], axis = 1)"
   ]
  },
  {
   "cell_type": "code",
   "execution_count": null,
   "id": "7ee3bb5d-bd2a-4bd5-aa7f-734cd082d547",
   "metadata": {},
   "outputs": [],
   "source": [
    "# define a function for scoring\n",
    "def pred_metrics(real, pred) -> None:\n",
    "    print(\"Accuracy:\\t{}\".format(metrics.accuracy_score(real, pred)))\n",
    "    print(\"Precision:\\t{}\".format(metrics.precision_score(real, pred)))\n",
    "    print(\"Recall:\\t\\t{}\".format(metrics.recall_score(real, pred)))\n",
    "    print(\"F1:\\t\\t{}\".format(metrics.f1_score(real, pred)))"
   ]
  },
  {
   "cell_type": "code",
   "execution_count": null,
   "id": "f71428e2-edb5-4cfc-b5eb-5713e753497e",
   "metadata": {},
   "outputs": [
    {
     "data": {
      "text/plain": [
       "ExtraTreesClassifier(random_state=10)"
      ]
     },
     "execution_count": null,
     "metadata": {},
     "output_type": "execute_result"
    }
   ],
   "source": [
    "# initialize ET classifier instance and train\n",
    "et = ExtraTreesClassifier(random_state=10)\n",
    "et.fit(x_train_data, y_train_data.values.ravel())"
   ]
  },
  {
   "cell_type": "code",
   "execution_count": null,
   "id": "5a1bd4bc-44dc-41bf-b160-4aaa4d819134",
   "metadata": {},
   "outputs": [
    {
     "name": "stdout",
     "output_type": "stream",
     "text": [
      "Accuracy:\t0.9982032119573859\n",
      "Precision:\t1.0\n",
      "Recall:\t\t0.9731846226862838\n",
      "F1:\t\t0.9864101022248948\n"
     ]
    }
   ],
   "source": [
    "# calculate metrics of training\n",
    "y_train_pred = et.predict(x_train_data)\n",
    "pred_metrics(y_train_data, y_train_pred)"
   ]
  },
  {
   "cell_type": "code",
   "execution_count": null,
   "id": "16fa0e13-f2d8-4eb6-b0c7-e8926e04917a",
   "metadata": {},
   "outputs": [
    {
     "name": "stdout",
     "output_type": "stream",
     "text": [
      "Accuracy:\t0.9620277318407328\n",
      "Precision:\t0.8218997361477572\n",
      "Recall:\t\t0.5741935483870968\n",
      "F1:\t\t0.6760716223548563\n"
     ]
    }
   ],
   "source": [
    "# calculate metrics of testing\n",
    "y_test_pred = et.predict(x_test_data)\n",
    "pred_metrics(y_test_data, y_test_pred)"
   ]
  },
  {
   "cell_type": "code",
   "execution_count": null,
   "id": "a4c3e325-0eac-40b5-adea-2c7b6c0c9820",
   "metadata": {},
   "outputs": [
    {
     "data": {
      "text/plain": [
       "array([0.69489051, 0.7       , 0.69121813, 0.6751773 , 0.71966527,\n",
       "       0.68258427, 0.67821068, 0.68097282, 0.63976945, 0.71468144])"
      ]
     },
     "execution_count": null,
     "metadata": {},
     "output_type": "execute_result"
    }
   ],
   "source": [
    "# cross validation\n",
    "cross_val_score(et, x_train_data, y_train_data.values.ravel(), cv= 10, scoring = 'f1')"
   ]
  },
  {
   "cell_type": "code",
   "execution_count": null,
   "id": "4d5751f9-4841-4c0d-8d89-205c6164f2f7",
   "metadata": {},
   "outputs": [
    {
     "data": {
      "text/plain": [
       "ExtraTreesClassifier(bootstrap=True, oob_score=True, random_state=10)"
      ]
     },
     "execution_count": null,
     "metadata": {},
     "output_type": "execute_result"
    }
   ],
   "source": [
    "# enable bootstrap\n",
    "et = ExtraTreesClassifier(oob_score=True, random_state=10, bootstrap=True)\n",
    "et.fit(x_train_data, y_train_data.values.ravel())"
   ]
  },
  {
   "cell_type": "code",
   "execution_count": null,
   "id": "933eae78-31b3-45ad-bcce-c138b31f553a",
   "metadata": {},
   "outputs": [
    {
     "name": "stdout",
     "output_type": "stream",
     "text": [
      "Accuracy:\t0.9981714103991095\n",
      "Precision:\t0.9995125517913722\n",
      "Recall:\t\t0.9731846226862838\n",
      "F1:\t\t0.9861728988818084\n"
     ]
    }
   ],
   "source": [
    "# calculate metrics of training\n",
    "y_train_pred = et.predict(x_train_data)\n",
    "pred_metrics(y_train_data, y_train_pred)"
   ]
  },
  {
   "cell_type": "code",
   "execution_count": null,
   "id": "f493726e-c0ff-4af9-b537-6b4ffbef126c",
   "metadata": {},
   "outputs": [
    {
     "name": "stdout",
     "output_type": "stream",
     "text": [
      "Accuracy:\t0.9612008650298944\n",
      "Precision:\t0.8397711015736766\n",
      "Recall:\t\t0.5410138248847927\n",
      "F1:\t\t0.6580717488789238\n"
     ]
    }
   ],
   "source": [
    "# calculate metrics of testing\n",
    "y_test_pred = et.predict(x_test_data)\n",
    "pred_metrics(y_test_data, y_test_pred)"
   ]
  },
  {
   "cell_type": "code",
   "execution_count": null,
   "id": "9db56a1e-1ae4-40f0-92fe-45b4d98a9481",
   "metadata": {},
   "outputs": [
    {
     "data": {
      "text/plain": [
       "<AxesSubplot:>"
      ]
     },
     "execution_count": null,
     "metadata": {},
     "output_type": "execute_result"
    },
    {
     "data": {
      "image/png": "[encoded data removed]",
      "text/plain": [
       "<Figure size 720x504 with 2 Axes>"
      ]
     },
     "metadata": {},
     "output_type": "display_data"
    }
   ],
   "source": [
    "# calculate the confusion matrix with test data\n",
    "cm = confusion_matrix(y_test_data, y_test_pred) # rows = truth, cols = prediction\n",
    "df_cm = pd.DataFrame(cm, index = (0, 1), columns = (0, 1))\n",
    "plt.figure(figsize = (10,7))\n",
    "sns.set(font_scale=1.4)\n",
    "sns.heatmap(df_cm, annot=True, fmt = \"g\")"
   ]
  },
  {
   "cell_type": "markdown",
   "id": "366d82c9-6370-43f1-8753-8b241ddb49d7",
   "metadata": {},
   "source": [
    "Observations from the Confusion Matrix: The biggest bucket that we have are true negatives - where the model is predicting 0 and the true value is 0. The second bucket is true positives. However, there are still 498 instances where the model predicted 0 when the actual value was 1, which is a false negative. High false negatives will impact the recall value and drive it to a lower percentage. On the other hand, the false positives (112) drive the precisions so since that number is lower, our precision will be higher than our recall, which we see."
   ]
  },
  {
   "cell_type": "code",
   "execution_count": null,
   "id": "6dac4558-b620-45e1-a8ce-88815f9ec0a3",
   "metadata": {},
   "outputs": [
    {
     "name": "stdout",
     "output_type": "stream",
     "text": [
      "              precision    recall  f1-score   support\n",
      "\n",
      "           0       0.97      0.99      0.98     14637\n",
      "           1       0.84      0.54      0.66      1085\n",
      "\n",
      "    accuracy                           0.96     15722\n",
      "   macro avg       0.90      0.77      0.82     15722\n",
      "weighted avg       0.96      0.96      0.96     15722\n",
      "\n"
     ]
    }
   ],
   "source": [
    "# print a classification report with test data which splits up 0 and 1 for the metrics\n",
    "# and provides weighted averages\n",
    "print(classification_report(y_test_data, y_test_pred))"
   ]
  },
  {
   "cell_type": "markdown",
   "id": "295a0a64-e363-4b78-b612-88cfa23dcefd",
   "metadata": {},
   "source": [
    "### Insights"
   ]
  },
  {
   "cell_type": "markdown",
   "id": "8ef53f15-83c2-47bc-9ec6-da708e250274",
   "metadata": {},
   "source": [
    "For the chosen model, we investigated the variable importance."
   ]
  },
  {
   "cell_type": "code",
   "execution_count": null,
   "id": "2205c9f4-2498-4961-be3d-f8858861d2b5",
   "metadata": {},
   "outputs": [
    {
     "data": {
      "text/html": [
       "<div>\n",
       "<style scoped>\n",
       "    .dataframe tbody tr th:only-of-type {\n",
       "        vertical-align: middle;\n",
       "    }\n",
       "\n",
       "    .dataframe tbody tr th {\n",
       "        vertical-align: top;\n",
       "    }\n",
       "\n",
       "    .dataframe thead th {\n",
       "        text-align: right;\n",
       "    }\n",
       "</style>\n",
       "<table border=\"1\" class=\"dataframe\">\n",
       "  <thead>\n",
       "    <tr style=\"text-align: right;\">\n",
       "      <th></th>\n",
       "      <th>feature</th>\n",
       "      <th>importance</th>\n",
       "    </tr>\n",
       "  </thead>\n",
       "  <tbody>\n",
       "    <tr>\n",
       "      <th>0</th>\n",
       "      <td>transparency</td>\n",
       "      <td>0.203708</td>\n",
       "    </tr>\n",
       "    <tr>\n",
       "      <th>1</th>\n",
       "      <td>thick_trans_prod</td>\n",
       "      <td>0.083876</td>\n",
       "    </tr>\n",
       "    <tr>\n",
       "      <th>2</th>\n",
       "      <td>fiber_length</td>\n",
       "      <td>0.041260</td>\n",
       "    </tr>\n",
       "    <tr>\n",
       "      <th>3</th>\n",
       "      <td>fiber_width</td>\n",
       "      <td>0.039791</td>\n",
       "    </tr>\n",
       "    <tr>\n",
       "      <th>4</th>\n",
       "      <td>rnd_ell_prod</td>\n",
       "      <td>0.029295</td>\n",
       "    </tr>\n",
       "    <tr>\n",
       "      <th>5</th>\n",
       "      <td>solidity</td>\n",
       "      <td>0.023504</td>\n",
       "    </tr>\n",
       "    <tr>\n",
       "      <th>6</th>\n",
       "      <td>concavity</td>\n",
       "      <td>0.022974</td>\n",
       "    </tr>\n",
       "    <tr>\n",
       "      <th>7</th>\n",
       "      <td>extent</td>\n",
       "      <td>0.022786</td>\n",
       "    </tr>\n",
       "    <tr>\n",
       "      <th>8</th>\n",
       "      <td>angularity</td>\n",
       "      <td>0.021970</td>\n",
       "    </tr>\n",
       "    <tr>\n",
       "      <th>9</th>\n",
       "      <td>roundness</td>\n",
       "      <td>0.021747</td>\n",
       "    </tr>\n",
       "    <tr>\n",
       "      <th>10</th>\n",
       "      <td>compactness</td>\n",
       "      <td>0.020887</td>\n",
       "    </tr>\n",
       "    <tr>\n",
       "      <th>11</th>\n",
       "      <td>circularity</td>\n",
       "      <td>0.020794</td>\n",
       "    </tr>\n",
       "    <tr>\n",
       "      <th>12</th>\n",
       "      <td>l_t_ratio</td>\n",
       "      <td>0.020300</td>\n",
       "    </tr>\n",
       "    <tr>\n",
       "      <th>13</th>\n",
       "      <td>sphericity</td>\n",
       "      <td>0.019743</td>\n",
       "    </tr>\n",
       "    <tr>\n",
       "      <th>14</th>\n",
       "      <td>ellipse_ratio</td>\n",
       "      <td>0.019669</td>\n",
       "    </tr>\n",
       "    <tr>\n",
       "      <th>15</th>\n",
       "      <td>t_w_ratio</td>\n",
       "      <td>0.019413</td>\n",
       "    </tr>\n",
       "    <tr>\n",
       "      <th>16</th>\n",
       "      <td>t_l_aspect_ratio</td>\n",
       "      <td>0.018964</td>\n",
       "    </tr>\n",
       "    <tr>\n",
       "      <th>17</th>\n",
       "      <td>w_l_ratio</td>\n",
       "      <td>0.018160</td>\n",
       "    </tr>\n",
       "    <tr>\n",
       "      <th>18</th>\n",
       "      <td>ellipticity</td>\n",
       "      <td>0.018017</td>\n",
       "    </tr>\n",
       "    <tr>\n",
       "      <th>19</th>\n",
       "      <td>ethickness</td>\n",
       "      <td>0.016266</td>\n",
       "    </tr>\n",
       "    <tr>\n",
       "      <th>20</th>\n",
       "      <td>da</td>\n",
       "      <td>0.016052</td>\n",
       "    </tr>\n",
       "    <tr>\n",
       "      <th>21</th>\n",
       "      <td>elength</td>\n",
       "      <td>0.015902</td>\n",
       "    </tr>\n",
       "    <tr>\n",
       "      <th>22</th>\n",
       "      <td>l_w_ratio</td>\n",
       "      <td>0.015862</td>\n",
       "    </tr>\n",
       "    <tr>\n",
       "      <th>23</th>\n",
       "      <td>flength</td>\n",
       "      <td>0.015786</td>\n",
       "    </tr>\n",
       "    <tr>\n",
       "      <th>24</th>\n",
       "      <td>ewidth</td>\n",
       "      <td>0.015492</td>\n",
       "    </tr>\n",
       "    <tr>\n",
       "      <th>25</th>\n",
       "      <td>fthickness</td>\n",
       "      <td>0.015440</td>\n",
       "    </tr>\n",
       "    <tr>\n",
       "      <th>26</th>\n",
       "      <td>perimeter</td>\n",
       "      <td>0.015414</td>\n",
       "    </tr>\n",
       "    <tr>\n",
       "      <th>27</th>\n",
       "      <td>dp</td>\n",
       "      <td>0.015277</td>\n",
       "    </tr>\n",
       "    <tr>\n",
       "      <th>28</th>\n",
       "      <td>convexity</td>\n",
       "      <td>0.015267</td>\n",
       "    </tr>\n",
       "    <tr>\n",
       "      <th>29</th>\n",
       "      <td>chull_perimeter</td>\n",
       "      <td>0.015227</td>\n",
       "    </tr>\n",
       "    <tr>\n",
       "      <th>30</th>\n",
       "      <td>fwidth</td>\n",
       "      <td>0.015217</td>\n",
       "    </tr>\n",
       "    <tr>\n",
       "      <th>31</th>\n",
       "      <td>sieve</td>\n",
       "      <td>0.015006</td>\n",
       "    </tr>\n",
       "    <tr>\n",
       "      <th>32</th>\n",
       "      <td>chull_surface_area</td>\n",
       "      <td>0.014540</td>\n",
       "    </tr>\n",
       "    <tr>\n",
       "      <th>33</th>\n",
       "      <td>thick_perm_prod</td>\n",
       "      <td>0.014114</td>\n",
       "    </tr>\n",
       "    <tr>\n",
       "      <th>34</th>\n",
       "      <td>chull_area</td>\n",
       "      <td>0.013907</td>\n",
       "    </tr>\n",
       "    <tr>\n",
       "      <th>35</th>\n",
       "      <td>surface_area</td>\n",
       "      <td>0.013732</td>\n",
       "    </tr>\n",
       "    <tr>\n",
       "      <th>36</th>\n",
       "      <td>w_t_ratio</td>\n",
       "      <td>0.013426</td>\n",
       "    </tr>\n",
       "    <tr>\n",
       "      <th>37</th>\n",
       "      <td>area</td>\n",
       "      <td>0.013004</td>\n",
       "    </tr>\n",
       "    <tr>\n",
       "      <th>38</th>\n",
       "      <td>curvature</td>\n",
       "      <td>0.011016</td>\n",
       "    </tr>\n",
       "    <tr>\n",
       "      <th>39</th>\n",
       "      <td>volume</td>\n",
       "      <td>0.010843</td>\n",
       "    </tr>\n",
       "    <tr>\n",
       "      <th>40</th>\n",
       "      <td>krumbein_rnd</td>\n",
       "      <td>0.004686</td>\n",
       "    </tr>\n",
       "    <tr>\n",
       "      <th>41</th>\n",
       "      <td>thick_vol_prod</td>\n",
       "      <td>0.001668</td>\n",
       "    </tr>\n",
       "    <tr>\n",
       "      <th>42</th>\n",
       "      <td>hash</td>\n",
       "      <td>0.000000</td>\n",
       "    </tr>\n",
       "  </tbody>\n",
       "</table>\n",
       "</div>"
      ],
      "text/plain": [
       "               feature  importance\n",
       "0         transparency    0.203708\n",
       "1     thick_trans_prod    0.083876\n",
       "2         fiber_length    0.041260\n",
       "3          fiber_width    0.039791\n",
       "4         rnd_ell_prod    0.029295\n",
       "5             solidity    0.023504\n",
       "6            concavity    0.022974\n",
       "7               extent    0.022786\n",
       "8           angularity    0.021970\n",
       "9            roundness    0.021747\n",
       "10         compactness    0.020887\n",
       "11         circularity    0.020794\n",
       "12           l_t_ratio    0.020300\n",
       "13          sphericity    0.019743\n",
       "14       ellipse_ratio    0.019669\n",
       "15           t_w_ratio    0.019413\n",
       "16    t_l_aspect_ratio    0.018964\n",
       "17           w_l_ratio    0.018160\n",
       "18         ellipticity    0.018017\n",
       "19          ethickness    0.016266\n",
       "20                  da    0.016052\n",
       "21             elength    0.015902\n",
       "22           l_w_ratio    0.015862\n",
       "23             flength    0.015786\n",
       "24              ewidth    0.015492\n",
       "25          fthickness    0.015440\n",
       "26           perimeter    0.015414\n",
       "27                  dp    0.015277\n",
       "28           convexity    0.015267\n",
       "29     chull_perimeter    0.015227\n",
       "30              fwidth    0.015217\n",
       "31               sieve    0.015006\n",
       "32  chull_surface_area    0.014540\n",
       "33     thick_perm_prod    0.014114\n",
       "34          chull_area    0.013907\n",
       "35        surface_area    0.013732\n",
       "36           w_t_ratio    0.013426\n",
       "37                area    0.013004\n",
       "38           curvature    0.011016\n",
       "39              volume    0.010843\n",
       "40        krumbein_rnd    0.004686\n",
       "41      thick_vol_prod    0.001668\n",
       "42                hash    0.000000"
      ]
     },
     "execution_count": null,
     "metadata": {},
     "output_type": "execute_result"
    }
   ],
   "source": [
    "feature = pd.DataFrame({\"feature\":list(x_train_data.columns), \"importance\": list(et.feature_importances_)})\n",
    "feature = feature.sort_values(\"importance\", ascending = False).reset_index(drop = True)\n",
    "feature"
   ]
  },
  {
   "cell_type": "code",
   "execution_count": null,
   "id": "41d850ae-1555-4ec8-a446-4c32d8d76ee0",
   "metadata": {},
   "outputs": [],
   "source": [
    "feature_list = feature.loc[:9,[\"feature\", \"importance\"]]"
   ]
  },
  {
   "cell_type": "code",
   "execution_count": null,
   "id": "118c9607-ac5c-4abd-9d57-a8b55a4f369f",
   "metadata": {},
   "outputs": [
    {
     "data": {
      "image/png": "[encoded data removed]",
      "text/plain": [
       "<Figure size 864x576 with 1 Axes>"
      ]
     },
     "metadata": {},
     "output_type": "display_data"
    }
   ],
   "source": [
    "plt.figure(figsize = (12,8))\n",
    "sns.barplot(data = feature_list, x = \"importance\", y = \"feature\", color = \"blue\")\n",
    "plt.title(\"Top 10 Important Variables\")\n",
    "plt.xlabel(\"Importance\")\n",
    "plt.ylabel(\"Feature\")\n",
    "plt.show()"
   ]
  },
  {
   "cell_type": "markdown",
   "id": "06053cd8-737c-45d8-993b-fbeffefb22e5",
   "metadata": {},
   "source": [
    "### Commentary\n",
    "This section assesses the reasonableness of the top ten important variables in our model. Overall it appears that the variables measured as important to the model make sense. There are logical reasons backed up by visualizations in our exploratory data analysis that these features would do a good job distinguishing between soil and stone.\n",
    "\n",
    "- **Transparency** is the mean light intensity of the longest vertical line analyzed. In our exploratory data analysis, the distribution of transparency was the more different between soil and stone than for any other variable. It therefore makes sense that it would be an important variable in distinguishing soil from stone.\n",
    "\n",
    "- **Thickness Transparency Interaction** (thick_trans_prod) is an attempted encoding of the interaction we discovered between thickness and transparency during our exploratory data analysis. It appeared that, as particles became thicker, the difference in transparency increased.\n",
    "\n",
    "- **Fiber Length** and **Fiber Width** are measure of linear dimension. By eye, it was hard to see a difference in the stone/soil distribution of these variables. My investigation would be required to assess whether this is a reasonable important variable.\n",
    "\n",
    "- **Roundness Ellipticity Interaction** (rnd_ell_prod) is another attempted encoding of an interaction. This one is between roundness and ellipticity. In our exploratory data analysis, it appeared that soil particals had a roundness to ellipticity ratio that was either very high or very low. Stone particles tended to be somewhere in the middle.\n",
    "\n",
    "- **Solidity** is a measure of surface roughness. Higher values describe a smooth surface. Logically, small stone shards might be rougher than soft soil.\n",
    "\n",
    "- **Concavity** is another measure of surface roughness. Higher values are rough and spikey. It makes sense that the stone particles might be spikey and sharp compared to soil.\n",
    "\n",
    "- **Extent** = Area / (FLength x FWidth). Value of 1 describes the degree to which the actual area takes up maximum possible area based on product of the two largest perpendicular dimensions. Here, again our exploratory data analysis showed that soil had a larger extent than stone.\n",
    "\n",
    "- **Angularity** is a measure of protrusions and sharp angles such as abrasives. Although the shape of their distributions was similar, soil particles had a higher density at very low angularity.\n",
    "\n",
    "- **Roundness** is another shape indicator. Higher values are assigned to circle-like objects. In this case, soil is rounder."
   ]
  },
  {
   "cell_type": "markdown",
   "id": "c6b17219-2827-47d0-9dc8-e563df178168",
   "metadata": {},
   "source": [
    "### Revision"
   ]
  },
  {
   "cell_type": "markdown",
   "id": "d6d52224-644d-435b-9e21-0697b9ea56b0",
   "metadata": {},
   "source": [
    "1. To balance the volume difference between stone and soil, the train and test data is recreated."
   ]
  },
  {
   "cell_type": "code",
   "execution_count": null,
   "id": "56bcb679-911b-428a-a6eb-81267fdd26a9",
   "metadata": {},
   "outputs": [],
   "source": [
    "# reset new train and test sets with stone and soil mixed different sizes\n",
    "full_data = pd.read_csv('data/cumulative_data_fe.csv')\n",
    "new_features = list(feature.loc[:20,\"feature\"])\n",
    "# drop columns\n",
    "stone_data =full_data[full_data[\"stone_soil_enc\"] == 1] \n",
    "y = stone_data['stone_soil_enc']\n",
    "x = stone_data.drop(['id', 'img_id', 'stone_soil', 'stone_soil_enc'], axis = 1)\n",
    "x = x[new_features]\n",
    "x_train_stone, x_test_stone, y_train_stone, y_test_stone = train_test_split(x, y, random_state = 420, train_size = 0.7)\n",
    "\n",
    "soil_data =full_data[full_data[\"stone_soil_enc\"] == 0] \n",
    "y = soil_data['stone_soil_enc']\n",
    "x = soil_data.drop(['id', 'img_id', 'stone_soil', 'stone_soil_enc'], axis = 1)\n",
    "x = x[new_features]\n",
    "x_train_soil, x_test_soil, y_train_soil, y_test_soil = train_test_split(x, y, random_state = 420, train_size = 0.8)\n",
    "\n",
    "x_train = pd.concat([x_train_stone, x_train_soil], axis = 0)\n",
    "x_test = pd.concat([x_test_stone, x_test_soil], axis = 0)\n",
    "y_train = pd.concat([y_train_stone, y_train_soil], axis = 0)\n",
    "y_test = pd.concat([y_test_stone, y_test_soil], axis = 0)"
   ]
  },
  {
   "cell_type": "code",
   "execution_count": null,
   "id": "fc9954e6-8e0e-4712-a0a6-de38c50915b3",
   "metadata": {},
   "outputs": [
    {
     "data": {
      "text/plain": [
       "ExtraTreesClassifier(random_state=10)"
      ]
     },
     "execution_count": null,
     "metadata": {},
     "output_type": "execute_result"
    }
   ],
   "source": [
    "# train new model\n",
    "clf2 = ExtraTreesClassifier(random_state=10)\n",
    "clf2.fit(x_train, y_train)"
   ]
  },
  {
   "cell_type": "code",
   "execution_count": null,
   "id": "777a11da-633a-4bbb-927c-24643191b527",
   "metadata": {},
   "outputs": [
    {
     "name": "stdout",
     "output_type": "stream",
     "text": [
      "Accuracy:\t0.9983963822383297\n",
      "Precision:\t0.9997230684021047\n",
      "Recall:\t\t0.9733081693178754\n",
      "F1:\t\t0.9863387978142076\n"
     ]
    }
   ],
   "source": [
    "# calculate metrics of training\n",
    "y_train_pred = clf2.predict(x_train)\n",
    "pred_metrics(y_train, y_train_pred)"
   ]
  },
  {
   "cell_type": "code",
   "execution_count": null,
   "id": "beac9aca-e40c-4dca-bf73-154701816564",
   "metadata": {},
   "outputs": [
    {
     "data": {
      "text/plain": [
       "array([0.65472313, 0.67540984, 0.66225166, 0.67094703, 0.67868852,\n",
       "       0.70846395, 0.6720517 , 0.70833333, 0.65912763, 0.68599034])"
      ]
     },
     "execution_count": null,
     "metadata": {},
     "output_type": "execute_result"
    }
   ],
   "source": [
    "# cross validation\n",
    "cross_val_score(clf2, x_train, y_train, cv= 10, scoring = 'f1')"
   ]
  },
  {
   "cell_type": "code",
   "execution_count": null,
   "id": "5da9a0f2-5afe-412d-bfe5-185f6e2daf61",
   "metadata": {},
   "outputs": [
    {
     "name": "stdout",
     "output_type": "stream",
     "text": [
      "Accuracy:\t0.9530548206484957\n",
      "Precision:\t0.9049951028403526\n",
      "Recall:\t\t0.5811320754716981\n",
      "F1:\t\t0.707774798927614\n"
     ]
    }
   ],
   "source": [
    "# calculate metrics of testing\n",
    "y_test_pred = clf2.predict(x_test)\n",
    "pred_metrics(y_test, y_test_pred)"
   ]
  },
  {
   "cell_type": "code",
   "execution_count": null,
   "id": "02d72522-2f1b-484e-85ab-533d994751d2",
   "metadata": {},
   "outputs": [
    {
     "name": "stdout",
     "output_type": "stream",
     "text": [
      "n_estimators, {'n_estimators': 150}, 0.8329905534078575\n",
      "max_depth, {'max_depth': 40}, 0.8327013924076404\n",
      "min_samples_leaf, {'min_samples_leaf': 2}, 0.8263704052745549\n",
      "min_samples_split, {'min_samples_split': 5}, 0.83229878962636\n"
     ]
    }
   ],
   "source": [
    "# grid search\n",
    "param_grid={\n",
    "        'n_estimators': [*range(10,200,10)],\n",
    "        'max_depth':[*range(10,200,10)],\n",
    "        'min_samples_leaf': [*range(2,16,1)],\n",
    "        'min_samples_split': [*range(2,16,1)],\n",
    "}\n",
    "for p in ['n_estimators', 'max_depth', 'min_samples_leaf', 'min_samples_split']:\n",
    "    gs = GridSearchCV(\n",
    "        ExtraTreesClassifier(),\n",
    "        {p: param_grid[p]},\n",
    "        scoring='f1_macro',\n",
    "        cv=5,\n",
    "        n_jobs=-1\n",
    "    )\n",
    "    gs.fit(x_train, y_train.values.ravel())\n",
    "    print(p, end=', ')\n",
    "    print(gs.best_params_, end=', ')\n",
    "    print(gs.best_score_)"
   ]
  },
  {
   "cell_type": "code",
   "execution_count": null,
   "id": "bb68dd6d-0a11-4ccf-805f-4aedc7d397bc",
   "metadata": {},
   "outputs": [
    {
     "name": "stdout",
     "output_type": "stream",
     "text": [
      "{'max_depth': 30, 'min_samples_split': 2}, 0.8340146074686021\n"
     ]
    }
   ],
   "source": [
    "# grid search 2\n",
    "gs = GridSearchCV(\n",
    "        ExtraTreesClassifier(n_estimators=150),\n",
    "        param_grid={\n",
    "            'max_depth':[*range(20,80,10)],\n",
    "            'min_samples_split': [*range(2,10,1)],\n",
    "        },\n",
    "        scoring='f1_macro',\n",
    "        cv=5,\n",
    "        n_jobs=-1\n",
    "    )\n",
    "gs.fit(x_train, y_train.values.ravel())\n",
    "print(gs.best_params_, end=', ')\n",
    "print(gs.best_score_)"
   ]
  },
  {
   "cell_type": "code",
   "execution_count": null,
   "id": "c3b3749f-50ef-4f58-861d-b27ccde135a7",
   "metadata": {},
   "outputs": [
    {
     "name": "stdout",
     "output_type": "stream",
     "text": [
      "Accuracy:\t0.9979313330874453\n",
      "Precision:\t1.0\n",
      "Recall:\t\t0.9652197357778377\n",
      "F1:\t\t0.9823020990533682\n"
     ]
    }
   ],
   "source": [
    "# train new model\n",
    "clf3 = ExtraTreesClassifier(n_estimators=150, max_depth=30, min_samples_split=2)\n",
    "clf3.fit(x_train, y_train)\n",
    "\n",
    "# calculate metrics of training\n",
    "y_train_pred = clf3.predict(x_train)\n",
    "pred_metrics(y_train, y_train_pred)"
   ]
  },
  {
   "cell_type": "code",
   "execution_count": null,
   "id": "510c6313-a934-44eb-8255-78da92aa74e5",
   "metadata": {},
   "outputs": [
    {
     "name": "stdout",
     "output_type": "stream",
     "text": [
      "Accuracy:\t0.9543468898049591\n",
      "Precision:\t0.9124513618677043\n",
      "Recall:\t\t0.589937106918239\n",
      "F1:\t\t0.7165775401069518\n"
     ]
    }
   ],
   "source": [
    "# calculate metrics of testing\n",
    "y_test_pred = clf3.predict(x_test)\n",
    "pred_metrics(y_test, y_test_pred)"
   ]
  },
  {
   "cell_type": "markdown",
   "id": "78326714-1f91-4f89-8bae-930abcdb869d",
   "metadata": {},
   "source": [
    "#### Confusion Matrix"
   ]
  },
  {
   "cell_type": "code",
   "execution_count": null,
   "id": "509d01f2-acaf-4147-9950-3f0727f76210",
   "metadata": {},
   "outputs": [
    {
     "data": {
      "text/plain": [
       "<AxesSubplot:>"
      ]
     },
     "execution_count": null,
     "metadata": {},
     "output_type": "execute_result"
    },
    {
     "data": {
      "image/png": "[encoded data removed]",
      "text/plain": [
       "<Figure size 720x504 with 2 Axes>"
      ]
     },
     "metadata": {},
     "output_type": "display_data"
    }
   ],
   "source": [
    "cm = confusion_matrix(y_test, y_test_pred) # rows = truth, cols = prediction\n",
    "df_cm = pd.DataFrame(cm, index = (0, 1), columns = (0, 1))\n",
    "plt.figure(figsize = (10,7))\n",
    "sns.set(font_scale=1.4)\n",
    "sns.heatmap(df_cm, annot=True, fmt = \"g\")"
   ]
  },
  {
   "cell_type": "code",
   "execution_count": null,
   "id": "ffaed671-8419-4718-a493-831ae7d8d0e9",
   "metadata": {},
   "outputs": [
    {
     "name": "stdout",
     "output_type": "stream",
     "text": [
      "              precision    recall  f1-score   support\n",
      "\n",
      "           0       0.96      0.99      0.98     14663\n",
      "           1       0.91      0.59      0.72      1590\n",
      "\n",
      "    accuracy                           0.95     16253\n",
      "   macro avg       0.93      0.79      0.85     16253\n",
      "weighted avg       0.95      0.95      0.95     16253\n",
      "\n"
     ]
    }
   ],
   "source": [
    "print(classification_report(y_test, y_test_pred))"
   ]
  },
  {
   "cell_type": "code",
   "execution_count": null,
   "id": "745476cd-96c4-472d-b8ad-88cf849656cd",
   "metadata": {},
   "outputs": [],
   "source": []
  }
 ],
 "metadata": {
  "kernelspec": {
   "display_name": "Python 3 (ipykernel)",
   "language": "python",
   "name": "python3"
  }
 },
 "nbformat": 4,
 "nbformat_minor": 5
}
