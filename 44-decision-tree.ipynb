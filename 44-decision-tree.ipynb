{
 "cells": [
  {
   "cell_type": "markdown",
   "id": "77f11ed5-40f9-41c6-9142-4b7366ab93c0",
   "metadata": {},
   "source": [
    "## 44 - Modeling: Decision Tree\n",
    "\n",
    "> One of the modeling candidates trials for actual modeling procedure.\n",
    "\n",
    "**Decision Trees** (DTs) are a non-parametric supervised learning method used for classification and regression. The goal is to create a model that predicts the value of a target variable by learning simple decision rules inferred from the data features. A tree can be seen as a piecewise constant approximation. In sklearn packages, the decision tree uses CART algorithm.\n",
    "\n",
    "Some advantages of decision trees are:\n",
    "\n",
    "- Simple to understand and to interpret. Trees can be visualised.\n",
    "\n",
    "- Requires little data preparation. Other techniques often require data normalisation, dummy variables need to be created and blank values to be removed. Note however that this module does not support missing values.\n",
    "\n",
    "- The cost of using the tree (i.e., predicting data) is logarithmic in the number of data points used to train the tree.\n",
    "\n",
    "- Able to handle both numerical and categorical data. However scikit-learn implementation does not support categorical variables for now. Other techniques are usually specialised in analysing datasets that have only one type of variable. See algorithms for more information.\n",
    "\n",
    "- Able to handle multi-output problems.\n",
    "\n",
    "- Uses a white box model. If a given situation is observable in a model, the explanation for the condition is easily explained by boolean logic. By contrast, in a black box model (e.g., in an artificial neural network), results may be more difficult to interpret.\n",
    "\n",
    "- Possible to validate a model using statistical tests. That makes it possible to account for the reliability of the model.\n",
    "\n",
    "- Performs well even if its assumptions are somewhat violated by the true model from which the data were generated.\n",
    "\n",
    "The disadvantages of decision trees include:\n",
    "\n",
    "- Decision-tree learners can create over-complex trees that do not generalise the data well. This is called overfitting. Mechanisms such as pruning, setting the minimum number of samples required at a leaf node or setting the maximum depth of the tree are necessary to avoid this problem.\n",
    "\n",
    "- Decision trees can be unstable because small variations in the data might result in a completely different tree being generated. This problem is mitigated by using decision trees within an ensemble.\n",
    "\n",
    "- Predictions of decision trees are neither smooth nor continuous, but piecewise constant approximations as seen in the above figure. Therefore, they are not good at extrapolation.\n",
    "\n",
    "- The problem of learning an optimal decision tree is known to be NP-complete under several aspects of optimality and even for simple concepts. Consequently, practical decision-tree learning algorithms are based on heuristic algorithms such as the greedy algorithm where locally optimal decisions are made at each node. Such algorithms cannot guarantee to return the globally optimal decision tree. This can be mitigated by training multiple trees in an ensemble learner, where the features and samples are randomly sampled with replacement.\n",
    "\n",
    "- There are concepts that are hard to learn because decision trees do not express them easily, such as XOR, parity or multiplexer problems.\n",
    "\n",
    "- Decision tree learners create biased trees if some classes dominate. It is therefore recommended to balance the dataset prior to fitting with the decision tree."
   ]
  },
  {
   "cell_type": "markdown",
   "id": "804550a6-1648-4425-a998-69f9124d9682",
   "metadata": {},
   "source": [
    "## Install needed files\n",
    "**Graphviz - Step 1** Download at http://www.graphviz.org/download/\n",
    "\n",
    "**Graphviz - Step 2** pip install graphviz\n",
    "\n",
    "**Pydotplus** pip install pydotplus"
   ]
  },
  {
   "cell_type": "code",
   "execution_count": null,
   "id": "ae79d4a8-70bd-4b4e-a24e-78c2f1038a22",
   "metadata": {},
   "outputs": [],
   "source": [
    "# import needed packages\n",
    "import numpy as np\n",
    "import pandas as pd\n",
    "from sklearn.model_selection import cross_val_score\n",
    "from sklearn.model_selection import GridSearchCV\n",
    "from sklearn import tree\n",
    "from sklearn import metrics\n",
    "import graphviz\n",
    "import pydotplus"
   ]
  },
  {
   "cell_type": "code",
   "execution_count": null,
   "id": "61db89ae-2d91-4f81-9215-f2004c742acd",
   "metadata": {},
   "outputs": [],
   "source": [
    "# read the data\n",
    "full_data = pd.read_csv('data/cumulative_data_fe.csv')\n",
    "train_data = pd.read_csv('data/train_data_fe.csv')\n",
    "test_data = pd.read_csv('data/test_data_fe.csv')\n",
    "\n",
    "# drop columns\n",
    "y_train_data = pd.DataFrame(train_data['stone_soil_enc'])\n",
    "x_train_data = train_data.drop(['id', 'img_id', 'stone_soil', 'stone_soil_enc'], axis = 1)\n",
    "\n",
    "# drop columns\n",
    "y_test_data = pd.DataFrame(test_data['stone_soil_enc'])\n",
    "x_test_data = test_data.drop(['id', 'img_id', 'stone_soil', 'stone_soil_enc'], axis = 1)"
   ]
  },
  {
   "cell_type": "code",
   "execution_count": null,
   "id": "28d315f8-33c4-4ee0-82c7-06b441c19335",
   "metadata": {},
   "outputs": [],
   "source": [
    "# define a function for scoring\n",
    "def pred_metrics(real, pred) -> None:\n",
    "    print(\"Accuracy:\\t{}\".format(metrics.accuracy_score(real, pred)))\n",
    "    print(\"Precision:\\t{}\".format(metrics.precision_score(real, pred)))\n",
    "    print(\"Recall:\\t\\t{}\".format(metrics.recall_score(real, pred)))\n",
    "    print(\"F1:\\t\\t{}\".format(metrics.f1_score(real, pred)))"
   ]
  },
  {
   "cell_type": "code",
   "execution_count": null,
   "id": "259cc2c5-1e28-48ff-88fa-9daea275d3dd",
   "metadata": {},
   "outputs": [
    {
     "data": {
      "text/plain": [
       "DecisionTreeClassifier(max_depth=7, min_samples_leaf=7)"
      ]
     },
     "execution_count": null,
     "metadata": {},
     "output_type": "execute_result"
    }
   ],
   "source": [
    "# initialize DT classifier instance and train\n",
    "clf = tree.DecisionTreeClassifier(max_depth=7, min_samples_leaf=7)\n",
    "clf.fit(x_train_data, y_train_data)"
   ]
  },
  {
   "cell_type": "markdown",
   "id": "5aac9bc9-d0c1-44f0-afb7-292b31358691",
   "metadata": {},
   "source": [
    "**PS:** The max depth and min samples leaf here is default to avoid overfitting and wait for change."
   ]
  },
  {
   "cell_type": "code",
   "execution_count": null,
   "id": "49a63d1b-5f95-4c74-89c1-e243e1a1b838",
   "metadata": {},
   "outputs": [
    {
     "name": "stdout",
     "output_type": "stream",
     "text": [
      "Accuracy:\t0.9655271108284306\n",
      "Precision:\t0.8319273199221285\n",
      "Recall:\t\t0.6084480303749407\n",
      "F1:\t\t0.7028508771929826\n"
     ]
    }
   ],
   "source": [
    "# calculate metrics of training\n",
    "y_train_pred = clf.predict(x_train_data)\n",
    "pred_metrics(y_train_data, y_train_pred)"
   ]
  },
  {
   "cell_type": "code",
   "execution_count": null,
   "id": "98ddc684-fae2-4d5e-9e38-19e4539bd4db",
   "metadata": {},
   "outputs": [
    {
     "name": "stdout",
     "output_type": "stream",
     "text": [
      "Accuracy:\t0.9528049866429208\n",
      "Precision:\t0.7314439946018894\n",
      "Recall:\t\t0.49953917050691243\n",
      "F1:\t\t0.5936473165388828\n"
     ]
    }
   ],
   "source": [
    "# calculate metrics of testing\n",
    "y_test_pred = clf.predict(x_test_data)\n",
    "pred_metrics(y_test_data, y_test_pred)"
   ]
  },
  {
   "cell_type": "code",
   "execution_count": null,
   "id": "b5c7bfaf-52b8-494e-bde8-61cc803841d5",
   "metadata": {},
   "outputs": [
    {
     "data": {
      "text/plain": [
       "array([0.6739427 , 0.7100271 , 0.7       , 0.65671642, 0.68344371,\n",
       "       0.69986894, 0.67801047, 0.65578231, 0.65327979, 0.69095816])"
      ]
     },
     "execution_count": null,
     "metadata": {},
     "output_type": "execute_result"
    }
   ],
   "source": [
    "# cross validation\n",
    "cross_val_score(clf, x_train_data, y_train_data, cv= 10, scoring = 'f1')"
   ]
  },
  {
   "cell_type": "code",
   "execution_count": null,
   "id": "fb5db482-19dd-45bc-836e-60b702e20145",
   "metadata": {},
   "outputs": [
    {
     "name": "stdout",
     "output_type": "stream",
     "text": [
      "{'max_depth': 9, 'min_samples_leaf': 5}\n",
      "0.6950221026157586\n"
     ]
    }
   ],
   "source": [
    "# find best parameters by grid search\n",
    "paras = {\"max_depth\":[*range(3,16,3)], \"min_samples_leaf\":[*range(5,16,5)]}\n",
    "gs = GridSearchCV(tree.DecisionTreeClassifier(), paras, cv=10, scoring='f1')\n",
    "gs.fit(x_train_data, y_train_data)\n",
    "print(gs.best_params_)\n",
    "print(gs.best_score_)"
   ]
  },
  {
   "cell_type": "code",
   "execution_count": null,
   "id": "ff561533-eac5-446b-8988-cbe0ee730d25",
   "metadata": {},
   "outputs": [
    {
     "name": "stdout",
     "output_type": "stream",
     "text": [
      "Accuracy:\t0.9704722531404039\n",
      "Precision:\t0.8622809714110052\n",
      "Recall:\t\t0.6656383483626008\n",
      "F1:\t\t0.7513057452792287\n"
     ]
    },
    {
     "data": {
      "text/plain": [
       "array([0.69448183, 0.72628726, 0.7114094 , 0.69425901, 0.71018277,\n",
       "       0.7010582 , 0.67292225, 0.67567568, 0.64673913, 0.71821756])"
      ]
     },
     "execution_count": null,
     "metadata": {},
     "output_type": "execute_result"
    }
   ],
   "source": [
    "# train new model and cross validate\n",
    "clf = tree.DecisionTreeClassifier(max_depth=9, min_samples_leaf=5)\n",
    "clf.fit(x_train_data, y_train_data)\n",
    "y_train_pred = clf.predict(x_train_data)\n",
    "pred_metrics(y_train_data, y_train_pred)\n",
    "cross_val_score(clf, x_train_data, y_train_data, cv= 10, scoring = 'f1')"
   ]
  },
  {
   "cell_type": "code",
   "execution_count": null,
   "id": "60341113-28cd-45a1-a3b2-a2affd9f02b5",
   "metadata": {},
   "outputs": [
    {
     "name": "stdout",
     "output_type": "stream",
     "text": [
      "Accuracy:\t0.9525505660857397\n",
      "Precision:\t0.7029940119760479\n",
      "Recall:\t\t0.5410138248847927\n",
      "F1:\t\t0.6114583333333334\n"
     ]
    }
   ],
   "source": [
    "# test\n",
    "y_test_pred = clf.predict(x_test_data)\n",
    "pred_metrics(y_test_data, y_test_pred)"
   ]
  },
  {
   "cell_type": "code",
   "execution_count": null,
   "id": "93fad588-e2a6-4e8c-96fb-b5e852111a51",
   "metadata": {},
   "outputs": [
    {
     "data": {
      "text/plain": [
       "True"
      ]
     },
     "execution_count": null,
     "metadata": {},
     "output_type": "execute_result"
    }
   ],
   "source": [
    "# visualize the model\n",
    "dot = tree.export_graphviz(clf)\n",
    "graph = pydotplus.graph_from_dot_data(dot)\n",
    "graph.write_png(\"tree.png\")"
   ]
  },
  {
   "cell_type": "code",
   "execution_count": null,
   "id": "cd38a435-ec14-4ab8-b5ac-7b504991f584",
   "metadata": {},
   "outputs": [],
   "source": []
  }
 ],
 "metadata": {
  "kernelspec": {
   "display_name": "Python 3 (ipykernel)",
   "language": "python",
   "name": "python3"
  }
 },
 "nbformat": 4,
 "nbformat_minor": 5
}
