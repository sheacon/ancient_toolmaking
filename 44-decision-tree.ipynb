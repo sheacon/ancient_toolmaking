{
 "cells": [
  {
   "attachments": {},
   "cell_type": "markdown",
   "id": "77f11ed5-40f9-41c6-9142-4b7366ab93c0",
   "metadata": {},
   "source": [
    "# Decision Tree\n",
    "\n",
    "**Basic Description**\n",
    "\n",
    "A decision tree is a model that can be represented in a treelike form determined by binary splits made in the feature space and resulting in various leaf nodes, each with a different prediction. Decision trees are flexible and often perform well in practice for both classification and regression use cases. Trees are trained in a greedy and recursive fashion, proceeding through a series of binary splits in features that lead to minimal error.\n",
    "\n",
    "**Bias-Variance Tradeoff**\n",
    "\n",
    "Highly flexible, leading to low bias but high variance\n",
    "\n",
    "**Upsides**\n",
    "\n",
    "**Downsides**\n",
    "\n",
    "Risk of overfitting\n",
    "\n",
    "**Other Notes**"
   ]
  },
  {
   "attachments": {},
   "cell_type": "markdown",
   "id": "c0c456ec",
   "metadata": {},
   "source": [
    "## Load Packages and Prep Data"
   ]
  },
  {
   "cell_type": "code",
   "execution_count": 3,
   "id": "ae79d4a8-70bd-4b4e-a24e-78c2f1038a22",
   "metadata": {},
   "outputs": [],
   "source": [
    "# custom utils\n",
    "from utils import custom\n",
    "from utils.cf_matrix import make_confusion_matrix\n",
    "\n",
    "import numpy as np\n",
    "import pandas as pd\n",
    "import matplotlib.pyplot as plt\n",
    "import seaborn as sns\n",
    "\n",
    "from sklearn.model_selection import cross_val_score, GridSearchCV\n",
    "from sklearn import tree\n",
    "from sklearn.tree import DecisionTreeClassifier\n",
    "from sklearn.metrics import confusion_matrix"
   ]
  },
  {
   "cell_type": "code",
   "execution_count": 4,
   "id": "61db89ae-2d91-4f81-9215-f2004c742acd",
   "metadata": {},
   "outputs": [
    {
     "name": "stdout",
     "output_type": "stream",
     "text": [
      "X_train (62889, 42)\n",
      "y_train (62889,)\n",
      "X_test (15723, 42)\n",
      "y_test (15723,)\n"
     ]
    }
   ],
   "source": [
    "# load data\n",
    "X_train, y_train, X_test, y_test = custom.load_data()"
   ]
  },
  {
   "attachments": {},
   "cell_type": "markdown",
   "id": "26dd7d27",
   "metadata": {},
   "source": [
    "## Model 1\n",
    "- Defaults"
   ]
  },
  {
   "cell_type": "code",
   "execution_count": 5,
   "id": "259cc2c5-1e28-48ff-88fa-9daea275d3dd",
   "metadata": {},
   "outputs": [],
   "source": [
    "# fit decision tree with default hyperparameters\n",
    "dt_1 = DecisionTreeClassifier()\n",
    "x = dt_1.fit(X_train, y_train)"
   ]
  },
  {
   "cell_type": "code",
   "execution_count": 6,
   "id": "40b3fb37",
   "metadata": {},
   "outputs": [
    {
     "data": {
      "text/plain": [
       "accuracy     0.950\n",
       "precision    0.624\n",
       "recall       0.616\n",
       "f1           0.618\n",
       "dtype: float64"
      ]
     },
     "execution_count": 6,
     "metadata": {},
     "output_type": "execute_result"
    }
   ],
   "source": [
    "# cross-validation scoring\n",
    "dt_1_scores = custom.cv_metrics(dt_1, X_train, y_train)\n",
    "dt_1_scores"
   ]
  },
  {
   "attachments": {},
   "cell_type": "markdown",
   "id": "2061c5ce",
   "metadata": {},
   "source": [
    "## Model 2\n",
    "- Grid search hyperparameters"
   ]
  },
  {
   "cell_type": "code",
   "execution_count": null,
   "id": "3315c6de",
   "metadata": {},
   "outputs": [],
   "source": [
    "# define grid to search\n",
    "param_grid={\n",
    "        \"max_depth\":[*range(3,16,3)]\n",
    "        ,\"min_samples_leaf\":[*range(5,16,5)]\n",
    "}\n",
    "\n",
    "# instance\n",
    "gs = GridSearchCV(DecisionTreeClassifier()\n",
    "                ,param_grid\n",
    "                ,scoring='f1'\n",
    "                ,cv=5\n",
    "                ,n_jobs=-1\n",
    "                #,verbose=1\n",
    "    )\n",
    "\n",
    "# search and fit\n",
    "gs.fit(X_train, y_train)\n",
    "\n",
    "# best params and score\n",
    "print(gs.best_params_)\n",
    "print(gs.best_score_)\n",
    "\n",
    "# store best model\n",
    "dt_2 = gs.best_estimator_"
   ]
  },
  {
   "cell_type": "code",
   "execution_count": null,
   "id": "9ecf8a4c",
   "metadata": {},
   "outputs": [],
   "source": [
    "# cross-validation scoring\n",
    "dt_2_scores = custom.cv_metrics(dt_2, X_train, y_train)\n",
    "dt_2_scores"
   ]
  },
  {
   "attachments": {},
   "cell_type": "markdown",
   "id": "c02c28ab",
   "metadata": {},
   "source": [
    "## Test"
   ]
  },
  {
   "cell_type": "code",
   "execution_count": null,
   "id": "60341113-28cd-45a1-a3b2-a2affd9f02b5",
   "metadata": {},
   "outputs": [],
   "source": [
    "# test the performance of the selected model\n",
    "y_pred = dt_2.predict(X_test)\n",
    "# pred_metrics(y_test, y_pred)\n",
    "\n",
    "# confusion matrix\n",
    "cm = confusion_matrix(y_test, y_pred)\n",
    "labels = ['True Neg','False Pos','False Neg','True Pos']\n",
    "categories = ['Soil', 'Stone']\n",
    "make_confusion_matrix(cm\n",
    "                      ,group_names=labels\n",
    "                      ,categories=categories\n",
    "                      ,cmap='Blues'\n",
    "                      ,count=False\n",
    "                      ,title = 'Logistic Regression')"
   ]
  },
  {
   "attachments": {},
   "cell_type": "markdown",
   "id": "235b1bba",
   "metadata": {},
   "source": [
    "## Visualize Tree\n",
    "- Take a look at the decision tree"
   ]
  },
  {
   "cell_type": "code",
   "execution_count": 1,
   "id": "04a8ab54",
   "metadata": {},
   "outputs": [],
   "source": [
    "# text representation\n",
    "\n",
    "# text_representation = tree.export_text(dt_3)\n",
    "# print(text_representation)"
   ]
  },
  {
   "cell_type": "code",
   "execution_count": 2,
   "id": "76a26566",
   "metadata": {},
   "outputs": [],
   "source": [
    "# diagram\n",
    "\n",
    "# fig = plt.figure(figsize=(25,20))\n",
    "# _ = tree.plot_tree(dt_3, \n",
    "#                    feature_names=X_train.columns,  \n",
    "#                    class_names=['stone', 'soil'], # need to confirm this ordering\n",
    "#                    filled=True)"
   ]
  },
  {
   "cell_type": "code",
   "execution_count": null,
   "id": "2a31a540",
   "metadata": {},
   "outputs": [],
   "source": []
  }
 ],
 "metadata": {
  "kernelspec": {
   "display_name": "base",
   "language": "python",
   "name": "python3"
  },
  "language_info": {
   "codemirror_mode": {
    "name": "ipython",
    "version": 3
   },
   "file_extension": ".py",
   "mimetype": "text/x-python",
   "name": "python",
   "nbconvert_exporter": "python",
   "pygments_lexer": "ipython3",
   "version": "3.9.13"
  },
  "vscode": {
   "interpreter": {
    "hash": "9ce51b511e31678062ea377e4f294f92e7c7692784d9643ac534d9eb5246e9c5"
   }
  }
 },
 "nbformat": 4,
 "nbformat_minor": 5
}
