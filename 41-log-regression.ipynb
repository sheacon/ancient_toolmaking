{
 "cells": [
  {
   "cell_type": "markdown",
   "id": "5dce05ac-9933-46ca-a72c-9dcc03946a1b",
   "metadata": {},
   "source": [
    "# Logistic Regression Modeling"
   ]
  },
  {
   "cell_type": "code",
   "execution_count": null,
   "id": "5af3205a-9803-404a-a031-3ed432e1fc6d",
   "metadata": {},
   "outputs": [],
   "source": [
    "# import standard packages\n",
    "import pandas as pd\n",
    "import numpy as np\n",
    "import seaborn as sns\n",
    "import matplotlib.pyplot as plt\n",
    "\n",
    "# import from sklearn\n",
    "from sklearn.linear_model import LogisticRegression\n",
    "from sklearn.feature_selection import RFECV\n",
    "from sklearn.linear_model import Lasso\n",
    "from sklearn.linear_model import Ridge\n",
    "from sklearn.model_selection import cross_val_score\n",
    "from sklearn.metrics import accuracy_score, f1_score,recall_score,precision_score, confusion_matrix"
   ]
  },
  {
   "cell_type": "code",
   "execution_count": null,
   "id": "39b0d866-7f32-4702-be00-b1d42f42f864",
   "metadata": {},
   "outputs": [],
   "source": [
    "# load needed data from the data folder\n",
    "# could use kernel from another notebook but easier to load separately\n",
    "# these files are _fe meaning they have had features added\n",
    "full_data = pd.read_csv('data/cumulative_data_fe.csv')\n",
    "train_data = pd.read_csv('data/train_data_fe.csv')\n",
    "test_data = pd.read_csv('data/test_data_fe.csv')"
   ]
  },
  {
   "cell_type": "code",
   "execution_count": null,
   "id": "b744366c-0924-45ef-903b-008a3b7a11a8",
   "metadata": {},
   "outputs": [
    {
     "name": "stdout",
     "output_type": "stream",
     "text": [
      "(78612, 47)\n",
      "(62890, 47)\n",
      "(15722, 47)\n"
     ]
    }
   ],
   "source": [
    "# confirm all dfs have the same number of features\n",
    "print(full_data.shape)\n",
    "print(train_data.shape)\n",
    "print(test_data.shape)"
   ]
  },
  {
   "cell_type": "code",
   "execution_count": null,
   "id": "89d9e4dc-befb-479b-98e5-104b537896f8",
   "metadata": {},
   "outputs": [],
   "source": [
    "# reframe dataframes into X_test, X_train, y_test and y_train\n",
    "# do not need to use train_test_split function because we had already separated into different dataframes for train and test\n",
    "# remove id and img_id as these are not descriptive columns for prediction\n",
    "y_train = train_data['stone_soil_enc']\n",
    "y_test = test_data['stone_soil_enc']\n",
    "X_train = train_data.drop(['stone_soil', 'stone_soil_enc', 'id', 'img_id'], axis=1)\n",
    "X_test = test_data.drop(['stone_soil', 'stone_soil_enc', 'id', 'img_id'], axis=1)"
   ]
  },
  {
   "cell_type": "code",
   "execution_count": null,
   "id": "bfcf0768-f6ba-40bf-9f39-9bfcc2a55954",
   "metadata": {},
   "outputs": [
    {
     "name": "stdout",
     "output_type": "stream",
     "text": [
      "Index(['da', 'dp', 'fwidth', 'flength', 'fthickness', 'elength', 'ethickness',\n",
      "       'ewidth', 'volume', 'area', 'perimeter', 'chull_area',\n",
      "       'chull_perimeter', 'sphericity', 'l_t_ratio', 't_l_aspect_ratio',\n",
      "       'compactness', 'roundness', 'ellipse_ratio', 'circularity', 'solidity',\n",
      "       'concavity', 'convexity', 'extent', 'hash', 'transparency', 'curvature',\n",
      "       'surface_area', 'l_w_ratio', 'w_l_ratio', 'w_t_ratio', 't_w_ratio',\n",
      "       'chull_surface_area', 'sieve', 'angularity', 'ellipticity',\n",
      "       'fiber_length', 'fiber_width', 'krumbein_rnd', 'thick_vol_prod',\n",
      "       'thick_perm_prod', 'thick_trans_prod', 'rnd_ell_prod'],\n",
      "      dtype='object')\n"
     ]
    }
   ],
   "source": [
    "# columns to input into the variable selection code\n",
    "print(X_train.columns)"
   ]
  },
  {
   "cell_type": "code",
   "execution_count": null,
   "id": "f6676f1f-ca9b-4cec-bd5d-4fa577e91494",
   "metadata": {},
   "outputs": [],
   "source": [
    "## Recursive Feature Elimination to figure out which variables will be important towards predicting stone_soil_enc\n",
    "## using logistic regression as the model to select features\n",
    "log = LogisticRegression(max_iter = 400)\n",
    "model_rfe = RFECV(log, cv = 5)\n",
    "X = model_rfe.fit(X_train, y_train)\n",
    "rfe = model_rfe.ranking_\n",
    "features = ['da', 'dp', 'fwidth', 'flength', 'fthickness',\n",
    "       'elength', 'ethickness', 'ewidth', 'volume', 'area', 'perimeter',\n",
    "       'chull_area', 'chull_perimeter', 'sphericity', 'l_t_ratio',\n",
    "       't_l_aspect_ratio', 'compactness', 'roundness', 'ellipse_ratio',\n",
    "       'circularity', 'solidity', 'concavity', 'convexity', 'extent', 'hash',\n",
    "       'transparency', 'curvature', 'surface_area', 'l_w_ratio', 'w_l_ratio',\n",
    "       'w_t_ratio', 't_w_ratio', 'chull_surface_area', 'sieve', 'angularity',\n",
    "       'ellipticity', 'fiber_length', 'fiber_width', 'krumbein_rnd',\n",
    "       'thick_vol_prod', 'thick_perm_prod', 'thick_trans_prod',\n",
    "       'rnd_ell_prod']\n",
    "rfe_df = pd.DataFrame({'features': features, 'rfe_rank': rfe}, index = np.arange(len(features)))"
   ]
  },
  {
   "cell_type": "code",
   "execution_count": null,
   "id": "f6e86e5b-73c0-4d28-a9d9-7d1b12544e1d",
   "metadata": {},
   "outputs": [],
   "source": [
    "## Selecting the features that matter\n",
    "new_rfe = rfe_df[rfe_df[\"rfe_rank\"] == 1]"
   ]
  },
  {
   "cell_type": "code",
   "execution_count": null,
   "id": "a1c56fed-cb33-4d3f-b415-51ab0446d970",
   "metadata": {},
   "outputs": [
    {
     "data": {
      "text/html": [
       "<div>\n",
       "<style scoped>\n",
       "    .dataframe tbody tr th:only-of-type {\n",
       "        vertical-align: middle;\n",
       "    }\n",
       "\n",
       "    .dataframe tbody tr th {\n",
       "        vertical-align: top;\n",
       "    }\n",
       "\n",
       "    .dataframe thead th {\n",
       "        text-align: right;\n",
       "    }\n",
       "</style>\n",
       "<table border=\"1\" class=\"dataframe\">\n",
       "  <thead>\n",
       "    <tr style=\"text-align: right;\">\n",
       "      <th></th>\n",
       "      <th>features</th>\n",
       "      <th>rfe_rank</th>\n",
       "    </tr>\n",
       "  </thead>\n",
       "  <tbody>\n",
       "    <tr>\n",
       "      <th>15</th>\n",
       "      <td>t_l_aspect_ratio</td>\n",
       "      <td>1</td>\n",
       "    </tr>\n",
       "    <tr>\n",
       "      <th>17</th>\n",
       "      <td>roundness</td>\n",
       "      <td>1</td>\n",
       "    </tr>\n",
       "    <tr>\n",
       "      <th>18</th>\n",
       "      <td>ellipse_ratio</td>\n",
       "      <td>1</td>\n",
       "    </tr>\n",
       "    <tr>\n",
       "      <th>19</th>\n",
       "      <td>circularity</td>\n",
       "      <td>1</td>\n",
       "    </tr>\n",
       "    <tr>\n",
       "      <th>20</th>\n",
       "      <td>solidity</td>\n",
       "      <td>1</td>\n",
       "    </tr>\n",
       "    <tr>\n",
       "      <th>21</th>\n",
       "      <td>concavity</td>\n",
       "      <td>1</td>\n",
       "    </tr>\n",
       "    <tr>\n",
       "      <th>25</th>\n",
       "      <td>transparency</td>\n",
       "      <td>1</td>\n",
       "    </tr>\n",
       "    <tr>\n",
       "      <th>26</th>\n",
       "      <td>curvature</td>\n",
       "      <td>1</td>\n",
       "    </tr>\n",
       "    <tr>\n",
       "      <th>28</th>\n",
       "      <td>l_w_ratio</td>\n",
       "      <td>1</td>\n",
       "    </tr>\n",
       "    <tr>\n",
       "      <th>30</th>\n",
       "      <td>w_t_ratio</td>\n",
       "      <td>1</td>\n",
       "    </tr>\n",
       "    <tr>\n",
       "      <th>31</th>\n",
       "      <td>t_w_ratio</td>\n",
       "      <td>1</td>\n",
       "    </tr>\n",
       "    <tr>\n",
       "      <th>34</th>\n",
       "      <td>angularity</td>\n",
       "      <td>1</td>\n",
       "    </tr>\n",
       "    <tr>\n",
       "      <th>35</th>\n",
       "      <td>ellipticity</td>\n",
       "      <td>1</td>\n",
       "    </tr>\n",
       "    <tr>\n",
       "      <th>36</th>\n",
       "      <td>fiber_length</td>\n",
       "      <td>1</td>\n",
       "    </tr>\n",
       "    <tr>\n",
       "      <th>37</th>\n",
       "      <td>fiber_width</td>\n",
       "      <td>1</td>\n",
       "    </tr>\n",
       "    <tr>\n",
       "      <th>42</th>\n",
       "      <td>rnd_ell_prod</td>\n",
       "      <td>1</td>\n",
       "    </tr>\n",
       "  </tbody>\n",
       "</table>\n",
       "</div>"
      ],
      "text/plain": [
       "            features  rfe_rank\n",
       "15  t_l_aspect_ratio         1\n",
       "17         roundness         1\n",
       "18     ellipse_ratio         1\n",
       "19       circularity         1\n",
       "20          solidity         1\n",
       "21         concavity         1\n",
       "25      transparency         1\n",
       "26         curvature         1\n",
       "28         l_w_ratio         1\n",
       "30         w_t_ratio         1\n",
       "31         t_w_ratio         1\n",
       "34        angularity         1\n",
       "35       ellipticity         1\n",
       "36      fiber_length         1\n",
       "37       fiber_width         1\n",
       "42      rnd_ell_prod         1"
      ]
     },
     "execution_count": null,
     "metadata": {},
     "output_type": "execute_result"
    }
   ],
   "source": [
    "# viewing the selected features\n",
    "new_rfe"
   ]
  },
  {
   "cell_type": "code",
   "execution_count": null,
   "id": "9d01dbae-ff36-4e9b-b686-9e6ea3c18b02",
   "metadata": {},
   "outputs": [],
   "source": [
    "# save only selected features in new dataframes with the rows from x train and x test to use for model\n",
    "l = []\n",
    "for col in new_rfe[\"features\"]:\n",
    "    l.append(col)\n",
    "X_train_new = X_train[l]\n",
    "X_test_new = X_test[l]"
   ]
  },
  {
   "cell_type": "code",
   "execution_count": null,
   "id": "dbb7a68f-66f6-4bb6-bf95-39323fa5d864",
   "metadata": {},
   "outputs": [
    {
     "data": {
      "text/plain": [
       "(62890, 16)"
      ]
     },
     "execution_count": null,
     "metadata": {},
     "output_type": "execute_result"
    }
   ],
   "source": [
    "# 16 important features\n",
    "# same amount of rows as original\n",
    "X_train_new.shape"
   ]
  },
  {
   "cell_type": "markdown",
   "id": "22a9b5e7-e23e-490e-817a-dd02c9c5c7a2",
   "metadata": {},
   "source": [
    "### Create model"
   ]
  },
  {
   "cell_type": "code",
   "execution_count": null,
   "id": "950c7dfc-273c-4002-a257-23dee3579c35",
   "metadata": {},
   "outputs": [
    {
     "data": {
      "text/plain": [
       "LogisticRegression(max_iter=400)"
      ]
     },
     "execution_count": null,
     "metadata": {},
     "output_type": "execute_result"
    }
   ],
   "source": [
    "# fit the model using logistic regression\n",
    "# using max_iter 400 to avoid error message\n",
    "# using X_train_new to select only the 16 features that were selected\n",
    "log = LogisticRegression(max_iter = 400)\n",
    "log.fit(X_train_new, y_train)"
   ]
  },
  {
   "cell_type": "markdown",
   "id": "8fd218da-7182-4182-afb1-b2d0ae8ac2db",
   "metadata": {},
   "source": [
    "### Cross validation"
   ]
  },
  {
   "cell_type": "code",
   "execution_count": null,
   "id": "ca34a73a-0f85-45cf-8544-e5f5c04d4321",
   "metadata": {},
   "outputs": [
    {
     "name": "stdout",
     "output_type": "stream",
     "text": [
      "[0.52733119 0.49638554 0.49156627 0.49392713 0.50203749]\n",
      "0.5022495224516301\n"
     ]
    }
   ],
   "source": [
    "# cross validation using f1\n",
    "# low f1 score indicates low precision and low recall\n",
    "score = cross_val_score(log, X_train_new, y_train, scoring = \"f1\")\n",
    "print(score)\n",
    "print(score.mean())"
   ]
  },
  {
   "cell_type": "markdown",
   "id": "ad7aa2c7-d77c-4af1-8a48-a023adbb6b53",
   "metadata": {},
   "source": [
    "### Test Performance"
   ]
  },
  {
   "cell_type": "code",
   "execution_count": null,
   "id": "e7a62606-f737-4d8c-9016-8676017ba1fb",
   "metadata": {},
   "outputs": [
    {
     "data": {
      "text/html": [
       "<div>\n",
       "<style scoped>\n",
       "    .dataframe tbody tr th:only-of-type {\n",
       "        vertical-align: middle;\n",
       "    }\n",
       "\n",
       "    .dataframe tbody tr th {\n",
       "        vertical-align: top;\n",
       "    }\n",
       "\n",
       "    .dataframe thead th {\n",
       "        text-align: right;\n",
       "    }\n",
       "</style>\n",
       "<table border=\"1\" class=\"dataframe\">\n",
       "  <thead>\n",
       "    <tr style=\"text-align: right;\">\n",
       "      <th></th>\n",
       "      <th>Model</th>\n",
       "      <th>Accuracy</th>\n",
       "      <th>Precision</th>\n",
       "      <th>Recall</th>\n",
       "      <th>F1 Score</th>\n",
       "    </tr>\n",
       "  </thead>\n",
       "  <tbody>\n",
       "    <tr>\n",
       "      <th>0</th>\n",
       "      <td>Logistic Regression</td>\n",
       "      <td>0.945999</td>\n",
       "      <td>0.802564</td>\n",
       "      <td>0.288479</td>\n",
       "      <td>0.424407</td>\n",
       "    </tr>\n",
       "  </tbody>\n",
       "</table>\n",
       "</div>"
      ],
      "text/plain": [
       "                 Model  Accuracy  Precision    Recall  F1 Score\n",
       "0  Logistic Regression  0.945999   0.802564  0.288479  0.424407"
      ]
     },
     "execution_count": null,
     "metadata": {},
     "output_type": "execute_result"
    }
   ],
   "source": [
    "# test the performance of the model by calculating some metrics on test data\n",
    "# accuracy metric is high but precision, recall and f1 score are on the lower end\n",
    "y_pred = log.predict(X_test_new)\n",
    "acc = accuracy_score(y_test,y_pred)\n",
    "prec = precision_score(y_test, y_pred)\n",
    "rec = recall_score(y_test, y_pred)\n",
    "f1 = f1_score(y_test,y_pred)\n",
    "results = pd.DataFrame([['Logistic Regression', acc,prec,rec,f1]],columns=['Model', 'Accuracy', 'Precision', 'Recall','F1 Score'])\n",
    "results"
   ]
  },
  {
   "cell_type": "code",
   "execution_count": null,
   "id": "deac9664-b89b-4525-bfc9-d18a4f492e78",
   "metadata": {},
   "outputs": [
    {
     "name": "stdout",
     "output_type": "stream",
     "text": [
      "Test Data Accuracy: 0.9460\n"
     ]
    },
    {
     "data": {
      "image/png": "[encoded data removed]",
      "text/plain": [
       "<Figure size 720x504 with 2 Axes>"
      ]
     },
     "metadata": {},
     "output_type": "display_data"
    }
   ],
   "source": [
    "# Confusion Matrix creation\n",
    "cm = confusion_matrix(y_test, y_pred) # rows = truth, cols = prediction\n",
    "df_cm = pd.DataFrame(cm, index = (0, 1), columns = (0, 1))\n",
    "plt.figure(figsize = (10,7))\n",
    "sns.set(font_scale=1.4)\n",
    "sns.heatmap(df_cm, annot=True, fmt='g')\n",
    "print(\"Test Data Accuracy: %0.4f\" % accuracy_score(y_test, y_pred)) "
   ]
  },
  {
   "cell_type": "markdown",
   "id": "9485863a-143d-4c0c-adfb-d2e3e35a03c1",
   "metadata": {},
   "source": [
    "### Change Parameters of Model\n",
    "#### Trying to increase the metrics of the model"
   ]
  },
  {
   "cell_type": "code",
   "execution_count": null,
   "id": "8ecc11b2-a063-4498-8fee-0046f058e98a",
   "metadata": {},
   "outputs": [
    {
     "data": {
      "text/plain": [
       "LogisticRegression(max_iter=600, penalty='l1', solver='saga', tol=0.001)"
      ]
     },
     "execution_count": null,
     "metadata": {},
     "output_type": "execute_result"
    }
   ],
   "source": [
    "# change parameters of the log regression to try to increase f1 score\n",
    "# start with penalty\n",
    "# tried a variety of different combinations of parameters and \n",
    "# this was the one with the highest cross validation f1 score for the train data\n",
    "# same selected features as the original model\n",
    "# use log_3 to differentiate model\n",
    "log_2 = LogisticRegression(max_iter = 600, penalty=\"l1\", tol=0.001, solver=\"saga\")\n",
    "log_2.fit(X_train_new, y_train)"
   ]
  },
  {
   "cell_type": "code",
   "execution_count": null,
   "id": "8ef222b0-4a65-4810-9ccd-2ebdb787d12c",
   "metadata": {},
   "outputs": [
    {
     "name": "stdout",
     "output_type": "stream",
     "text": [
      "[0.56702619 0.53488372 0.52550232 0.51612903 0.52664577]\n",
      "0.534037406750159\n"
     ]
    }
   ],
   "source": [
    "# cross validation using f1\n",
    "# f1 is slightly higher than original model on cross validation\n",
    "score = cross_val_score(log_2, X_train_new, y_train, scoring = \"f1\")\n",
    "print(score)\n",
    "print(score.mean())"
   ]
  },
  {
   "cell_type": "code",
   "execution_count": null,
   "id": "e30e19ca-0229-4dc8-88b1-ae3db334d2db",
   "metadata": {},
   "outputs": [
    {
     "data": {
      "text/html": [
       "<div>\n",
       "<style scoped>\n",
       "    .dataframe tbody tr th:only-of-type {\n",
       "        vertical-align: middle;\n",
       "    }\n",
       "\n",
       "    .dataframe tbody tr th {\n",
       "        vertical-align: top;\n",
       "    }\n",
       "\n",
       "    .dataframe thead th {\n",
       "        text-align: right;\n",
       "    }\n",
       "</style>\n",
       "<table border=\"1\" class=\"dataframe\">\n",
       "  <thead>\n",
       "    <tr style=\"text-align: right;\">\n",
       "      <th></th>\n",
       "      <th>Model</th>\n",
       "      <th>Accuracy</th>\n",
       "      <th>Precision</th>\n",
       "      <th>Recall</th>\n",
       "      <th>F1 Score</th>\n",
       "    </tr>\n",
       "  </thead>\n",
       "  <tbody>\n",
       "    <tr>\n",
       "      <th>0</th>\n",
       "      <td>Logistic Regression</td>\n",
       "      <td>0.945236</td>\n",
       "      <td>0.82</td>\n",
       "      <td>0.264516</td>\n",
       "      <td>0.4</td>\n",
       "    </tr>\n",
       "  </tbody>\n",
       "</table>\n",
       "</div>"
      ],
      "text/plain": [
       "                 Model  Accuracy  Precision    Recall  F1 Score\n",
       "0  Logistic Regression  0.945236       0.82  0.264516       0.4"
      ]
     },
     "execution_count": null,
     "metadata": {},
     "output_type": "execute_result"
    }
   ],
   "source": [
    "# test the performance of the model by calculating some metrics\n",
    "# on new data, performs worse than original model for all metrics\n",
    "y_pred = log_2.predict(X_test_new)\n",
    "acc = accuracy_score(y_test,y_pred)\n",
    "prec = precision_score(y_test, y_pred)\n",
    "rec = recall_score(y_test, y_pred)\n",
    "f1 = f1_score(y_test,y_pred)\n",
    "results = pd.DataFrame([['Logistic Regression', acc,prec,rec,f1]],columns=['Model', 'Accuracy', 'Precision', 'Recall','F1 Score'])\n",
    "results"
   ]
  },
  {
   "cell_type": "code",
   "execution_count": null,
   "id": "87279bec-e83b-426b-b8a7-1205e8461c73",
   "metadata": {},
   "outputs": [],
   "source": [
    "# also try using different features and see if that increases the model metrics\n",
    "# Recursive Feature Elimination via Lasso Regression to figure out which variables will be important \n",
    "# instead of the log regression that we used initially\n",
    "model_rfe = RFECV(Lasso(alpha = 0.0001), cv = 5)\n",
    "x = model_rfe.fit(X_train, y_train)\n",
    "rfe = model_rfe.ranking_\n",
    "features = ['da', 'dp', 'fwidth', 'flength', 'fthickness',\n",
    "       'elength', 'ethickness', 'ewidth', 'volume', 'area', 'perimeter',\n",
    "       'chull_area', 'chull_perimeter', 'sphericity', 'l_t_ratio',\n",
    "       't_l_aspect_ratio', 'compactness', 'roundness', 'ellipse_ratio',\n",
    "       'circularity', 'solidity', 'concavity', 'convexity', 'extent', 'hash',\n",
    "       'transparency', 'curvature', 'surface_area', 'l_w_ratio', 'w_l_ratio',\n",
    "       'w_t_ratio', 't_w_ratio', 'chull_surface_area', 'sieve', 'angularity',\n",
    "       'ellipticity', 'fiber_length', 'fiber_width', 'krumbein_rnd',\n",
    "       'thick_vol_prod', 'thick_perm_prod', 'thick_trans_prod',\n",
    "       'rnd_ell_prod']\n",
    "rfe_df_2 = pd.DataFrame({'features': features, 'rfe_rank': rfe}, index = np.arange(len(features)))"
   ]
  },
  {
   "cell_type": "code",
   "execution_count": null,
   "id": "cd048716-933f-4ac1-88ae-28c531c95235",
   "metadata": {},
   "outputs": [
    {
     "data": {
      "text/html": [
       "<div>\n",
       "<style scoped>\n",
       "    .dataframe tbody tr th:only-of-type {\n",
       "        vertical-align: middle;\n",
       "    }\n",
       "\n",
       "    .dataframe tbody tr th {\n",
       "        vertical-align: top;\n",
       "    }\n",
       "\n",
       "    .dataframe thead th {\n",
       "        text-align: right;\n",
       "    }\n",
       "</style>\n",
       "<table border=\"1\" class=\"dataframe\">\n",
       "  <thead>\n",
       "    <tr style=\"text-align: right;\">\n",
       "      <th></th>\n",
       "      <th>features</th>\n",
       "      <th>rfe_rank</th>\n",
       "    </tr>\n",
       "  </thead>\n",
       "  <tbody>\n",
       "    <tr>\n",
       "      <th>0</th>\n",
       "      <td>da</td>\n",
       "      <td>1</td>\n",
       "    </tr>\n",
       "    <tr>\n",
       "      <th>18</th>\n",
       "      <td>ellipse_ratio</td>\n",
       "      <td>1</td>\n",
       "    </tr>\n",
       "    <tr>\n",
       "      <th>19</th>\n",
       "      <td>circularity</td>\n",
       "      <td>1</td>\n",
       "    </tr>\n",
       "    <tr>\n",
       "      <th>20</th>\n",
       "      <td>solidity</td>\n",
       "      <td>1</td>\n",
       "    </tr>\n",
       "    <tr>\n",
       "      <th>25</th>\n",
       "      <td>transparency</td>\n",
       "      <td>1</td>\n",
       "    </tr>\n",
       "    <tr>\n",
       "      <th>26</th>\n",
       "      <td>curvature</td>\n",
       "      <td>1</td>\n",
       "    </tr>\n",
       "    <tr>\n",
       "      <th>29</th>\n",
       "      <td>w_l_ratio</td>\n",
       "      <td>1</td>\n",
       "    </tr>\n",
       "    <tr>\n",
       "      <th>30</th>\n",
       "      <td>w_t_ratio</td>\n",
       "      <td>1</td>\n",
       "    </tr>\n",
       "    <tr>\n",
       "      <th>31</th>\n",
       "      <td>t_w_ratio</td>\n",
       "      <td>1</td>\n",
       "    </tr>\n",
       "    <tr>\n",
       "      <th>34</th>\n",
       "      <td>angularity</td>\n",
       "      <td>1</td>\n",
       "    </tr>\n",
       "    <tr>\n",
       "      <th>35</th>\n",
       "      <td>ellipticity</td>\n",
       "      <td>1</td>\n",
       "    </tr>\n",
       "    <tr>\n",
       "      <th>37</th>\n",
       "      <td>fiber_width</td>\n",
       "      <td>1</td>\n",
       "    </tr>\n",
       "    <tr>\n",
       "      <th>42</th>\n",
       "      <td>rnd_ell_prod</td>\n",
       "      <td>1</td>\n",
       "    </tr>\n",
       "  </tbody>\n",
       "</table>\n",
       "</div>"
      ],
      "text/plain": [
       "         features  rfe_rank\n",
       "0              da         1\n",
       "18  ellipse_ratio         1\n",
       "19    circularity         1\n",
       "20       solidity         1\n",
       "25   transparency         1\n",
       "26      curvature         1\n",
       "29      w_l_ratio         1\n",
       "30      w_t_ratio         1\n",
       "31      t_w_ratio         1\n",
       "34     angularity         1\n",
       "35    ellipticity         1\n",
       "37    fiber_width         1\n",
       "42   rnd_ell_prod         1"
      ]
     },
     "execution_count": null,
     "metadata": {},
     "output_type": "execute_result"
    }
   ],
   "source": [
    "## Selecting the features that matter\n",
    "# different features than using log\n",
    "new_rfe_2 = rfe_df_2[rfe_df_2[\"rfe_rank\"] == 1]\n",
    "new_rfe_2"
   ]
  },
  {
   "cell_type": "code",
   "execution_count": null,
   "id": "4a0c9552-0140-4fd4-8731-9ca3c9cc37a0",
   "metadata": {},
   "outputs": [],
   "source": [
    "# save only selected features in new dataframes with the rows from x train and x test to use for model\n",
    "m = []\n",
    "for col in new_rfe_2[\"features\"]:\n",
    "    m.append(col)\n",
    "X_train_new_2 = X_train[m]\n",
    "X_test_new_2 = X_test[m]"
   ]
  },
  {
   "cell_type": "code",
   "execution_count": null,
   "id": "bd2ae76c-6220-4f17-a184-6a3edcfb09d5",
   "metadata": {},
   "outputs": [
    {
     "data": {
      "text/plain": [
       "(62890, 13)"
      ]
     },
     "execution_count": null,
     "metadata": {},
     "output_type": "execute_result"
    }
   ],
   "source": [
    "# 13 instead of 16 selected features\n",
    "X_train_new_2.shape"
   ]
  },
  {
   "cell_type": "code",
   "execution_count": null,
   "id": "38d9e372-5c72-4de4-b67e-ebbabc93cb62",
   "metadata": {},
   "outputs": [
    {
     "data": {
      "text/plain": [
       "LogisticRegression(max_iter=600, penalty='l1', solver='saga', tol=0.001)"
      ]
     },
     "execution_count": null,
     "metadata": {},
     "output_type": "execute_result"
    }
   ],
   "source": [
    "# refit model with new features\n",
    "# use log_3 to differentiate model\n",
    "log_3 = LogisticRegression(max_iter = 600, penalty=\"l1\", tol=0.001, solver=\"saga\")\n",
    "log_3.fit(X_train_new_2, y_train)"
   ]
  },
  {
   "cell_type": "code",
   "execution_count": null,
   "id": "b107a23e-a2af-4683-a9cf-dbb28f7e4113",
   "metadata": {},
   "outputs": [
    {
     "name": "stdout",
     "output_type": "stream",
     "text": [
      "[0.55752896 0.529274   0.52281516 0.50826121 0.5318818 ]\n",
      "0.5299522272893471\n"
     ]
    }
   ],
   "source": [
    "# cross validation using f1\n",
    "# f1 is higher than original model\n",
    "score = cross_val_score(log_3, X_train_new_2, y_train, scoring = \"f1\")\n",
    "print(score)\n",
    "print(score.mean())"
   ]
  },
  {
   "cell_type": "code",
   "execution_count": null,
   "id": "9f26b398-f29d-4920-8780-f4cae7c1d88d",
   "metadata": {},
   "outputs": [
    {
     "data": {
      "text/html": [
       "<div>\n",
       "<style scoped>\n",
       "    .dataframe tbody tr th:only-of-type {\n",
       "        vertical-align: middle;\n",
       "    }\n",
       "\n",
       "    .dataframe tbody tr th {\n",
       "        vertical-align: top;\n",
       "    }\n",
       "\n",
       "    .dataframe thead th {\n",
       "        text-align: right;\n",
       "    }\n",
       "</style>\n",
       "<table border=\"1\" class=\"dataframe\">\n",
       "  <thead>\n",
       "    <tr style=\"text-align: right;\">\n",
       "      <th></th>\n",
       "      <th>Model</th>\n",
       "      <th>Accuracy</th>\n",
       "      <th>Precision</th>\n",
       "      <th>Recall</th>\n",
       "      <th>F1 Score</th>\n",
       "    </tr>\n",
       "  </thead>\n",
       "  <tbody>\n",
       "    <tr>\n",
       "      <th>0</th>\n",
       "      <td>Logistic Regression</td>\n",
       "      <td>0.9439</td>\n",
       "      <td>0.820189</td>\n",
       "      <td>0.239631</td>\n",
       "      <td>0.370899</td>\n",
       "    </tr>\n",
       "  </tbody>\n",
       "</table>\n",
       "</div>"
      ],
      "text/plain": [
       "                 Model  Accuracy  Precision    Recall  F1 Score\n",
       "0  Logistic Regression    0.9439   0.820189  0.239631  0.370899"
      ]
     },
     "execution_count": null,
     "metadata": {},
     "output_type": "execute_result"
    }
   ],
   "source": [
    "# test the performance of the model by calculating some metrics\n",
    "# on new data, performs worse than original model for all metrics\n",
    "y_pred = log_3.predict(X_test_new_2)\n",
    "acc = accuracy_score(y_test,y_pred)\n",
    "prec = precision_score(y_test, y_pred)\n",
    "rec = recall_score(y_test, y_pred)\n",
    "f1 = f1_score(y_test,y_pred)\n",
    "results = pd.DataFrame([['Logistic Regression', acc,prec,rec,f1]],columns=['Model', 'Accuracy', 'Precision', 'Recall','F1 Score'])\n",
    "results"
   ]
  },
  {
   "cell_type": "code",
   "execution_count": null,
   "id": "69ccefac-58d8-45d0-9678-7cf7cff6937b",
   "metadata": {},
   "outputs": [],
   "source": [
    "# conclude that the original model \"log\" is the best model using logistic regression when testing on new data"
   ]
  }
 ],
 "metadata": {
  "kernelspec": {
   "display_name": "Python 3",
   "language": "python",
   "name": "python3"
  }
 },
 "nbformat": 4,
 "nbformat_minor": 5
}
