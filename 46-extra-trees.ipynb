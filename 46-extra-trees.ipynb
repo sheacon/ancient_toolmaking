{
 "cells": [
  {
   "cell_type": "markdown",
   "id": "094b22ec-a0e0-40e3-88b4-4f1bea9401c8",
   "metadata": {},
   "source": [
    "## 46 - Modeling: Extra Trees\n",
    "\n",
    "> One of the actual modeling.\n"
   ]
  },
  {
   "cell_type": "code",
   "execution_count": null,
   "id": "c75f87a5-fc49-40e8-9c45-dee939fd2918",
   "metadata": {},
   "outputs": [],
   "source": [
    "# import needed packages\n",
    "import numpy as np\n",
    "import pandas as pd\n",
    "from sklearn.model_selection import cross_val_score\n",
    "from sklearn.model_selection import GridSearchCV\n",
    "from sklearn.ensemble import ExtraTreesClassifier\n",
    "from sklearn import metrics"
   ]
  },
  {
   "cell_type": "code",
   "execution_count": null,
   "id": "4b769d68-a3c1-4019-ab3c-7aec31f06be3",
   "metadata": {},
   "outputs": [],
   "source": [
    "# read the data\n",
    "full_data = pd.read_csv('data/cumulative_data_fe.csv')\n",
    "train_data = pd.read_csv('data/train_data_fe.csv')\n",
    "test_data = pd.read_csv('data/test_data_fe.csv')\n",
    "\n",
    "# drop columns\n",
    "y_train_data = pd.DataFrame(train_data['stone_soil_enc'])\n",
    "x_train_data = train_data.drop(['id', 'img_id', 'stone_soil', 'stone_soil_enc'], axis = 1)\n",
    "\n",
    "# drop columns\n",
    "y_test_data = pd.DataFrame(test_data['stone_soil_enc'])\n",
    "x_test_data = test_data.drop(['id', 'img_id', 'stone_soil', 'stone_soil_enc'], axis = 1)"
   ]
  },
  {
   "cell_type": "code",
   "execution_count": null,
   "id": "7ee3bb5d-bd2a-4bd5-aa7f-734cd082d547",
   "metadata": {},
   "outputs": [],
   "source": [
    "# define a function for scoring\n",
    "def pred_metrics(real, pred) -> None:\n",
    "    print(\"Accuracy:\\t{}\".format(metrics.accuracy_score(real, pred)))\n",
    "    print(\"Precision:\\t{}\".format(metrics.precision_score(real, pred)))\n",
    "    print(\"Recall:\\t\\t{}\".format(metrics.recall_score(real, pred)))\n",
    "    print(\"F1:\\t\\t{}\".format(metrics.f1_score(real, pred)))"
   ]
  },
  {
   "cell_type": "code",
   "execution_count": null,
   "id": "f71428e2-edb5-4cfc-b5eb-5713e753497e",
   "metadata": {},
   "outputs": [
    {
     "data": {
      "text/plain": [
       "ExtraTreesClassifier(random_state=10)"
      ]
     },
     "execution_count": null,
     "metadata": {},
     "output_type": "execute_result"
    }
   ],
   "source": [
    "# initialize ET classifier instance and train\n",
    "et = ExtraTreesClassifier(random_state=10)\n",
    "et.fit(x_train_data, y_train_data.values.ravel())"
   ]
  },
  {
   "cell_type": "code",
   "execution_count": null,
   "id": "5a1bd4bc-44dc-41bf-b160-4aaa4d819134",
   "metadata": {},
   "outputs": [
    {
     "name": "stdout",
     "output_type": "stream",
     "text": [
      "Accuracy:\t0.9982032119573859\n",
      "Precision:\t1.0\n",
      "Recall:\t\t0.9731846226862838\n",
      "F1:\t\t0.9864101022248948\n"
     ]
    }
   ],
   "source": [
    "# calculate metrics of training\n",
    "y_train_pred = et.predict(x_train_data)\n",
    "pred_metrics(y_train_data, y_train_pred)"
   ]
  },
  {
   "cell_type": "code",
   "execution_count": null,
   "id": "16fa0e13-f2d8-4eb6-b0c7-e8926e04917a",
   "metadata": {},
   "outputs": [
    {
     "name": "stdout",
     "output_type": "stream",
     "text": [
      "Accuracy:\t0.9620277318407328\n",
      "Precision:\t0.8218997361477572\n",
      "Recall:\t\t0.5741935483870968\n",
      "F1:\t\t0.6760716223548563\n"
     ]
    }
   ],
   "source": [
    "# calculate metrics of testing\n",
    "y_test_pred = et.predict(x_test_data)\n",
    "pred_metrics(y_test_data, y_test_pred)"
   ]
  },
  {
   "cell_type": "code",
   "execution_count": null,
   "id": "a4c3e325-0eac-40b5-adea-2c7b6c0c9820",
   "metadata": {},
   "outputs": [
    {
     "data": {
      "text/plain": [
       "array([0.69489051, 0.7       , 0.69121813, 0.6751773 , 0.71966527,\n",
       "       0.68258427, 0.67821068, 0.68097282, 0.63976945, 0.71468144])"
      ]
     },
     "execution_count": null,
     "metadata": {},
     "output_type": "execute_result"
    }
   ],
   "source": [
    "# cross validation\n",
    "cross_val_score(et, x_train_data, y_train_data.values.ravel(), cv= 10, scoring = 'f1')"
   ]
  },
  {
   "cell_type": "code",
   "execution_count": null,
   "id": "4d5751f9-4841-4c0d-8d89-205c6164f2f7",
   "metadata": {},
   "outputs": [
    {
     "data": {
      "text/plain": [
       "ExtraTreesClassifier(bootstrap=True, oob_score=True, random_state=10)"
      ]
     },
     "execution_count": null,
     "metadata": {},
     "output_type": "execute_result"
    }
   ],
   "source": [
    "# enable bootstrap\n",
    "et = ExtraTreesClassifier(oob_score=True, random_state=10, bootstrap=True)\n",
    "et.fit(x_train_data, y_train_data.values.ravel())"
   ]
  },
  {
   "cell_type": "code",
   "execution_count": null,
   "id": "933eae78-31b3-45ad-bcce-c138b31f553a",
   "metadata": {},
   "outputs": [
    {
     "name": "stdout",
     "output_type": "stream",
     "text": [
      "Accuracy:\t0.9981714103991095\n",
      "Precision:\t0.9995125517913722\n",
      "Recall:\t\t0.9731846226862838\n",
      "F1:\t\t0.9861728988818084\n"
     ]
    }
   ],
   "source": [
    "# calculate metrics of training\n",
    "y_train_pred = et.predict(x_train_data)\n",
    "pred_metrics(y_train_data, y_train_pred)"
   ]
  },
  {
   "cell_type": "code",
   "execution_count": null,
   "id": "f493726e-c0ff-4af9-b537-6b4ffbef126c",
   "metadata": {},
   "outputs": [
    {
     "name": "stdout",
     "output_type": "stream",
     "text": [
      "Accuracy:\t0.9612008650298944\n",
      "Precision:\t0.8397711015736766\n",
      "Recall:\t\t0.5410138248847927\n",
      "F1:\t\t0.6580717488789238\n"
     ]
    }
   ],
   "source": [
    "# calculate metrics of testing\n",
    "y_test_pred = et.predict(x_test_data)\n",
    "pred_metrics(y_test_data, y_test_pred)"
   ]
  },
  {
   "cell_type": "code",
   "execution_count": null,
   "id": "9db56a1e-1ae4-40f0-92fe-45b4d98a9481",
   "metadata": {},
   "outputs": [],
   "source": []
  }
 ],
 "metadata": {
  "kernelspec": {
   "display_name": "Python 3 (ipykernel)",
   "language": "python",
   "name": "python3"
  }
 },
 "nbformat": 4,
 "nbformat_minor": 5
}
